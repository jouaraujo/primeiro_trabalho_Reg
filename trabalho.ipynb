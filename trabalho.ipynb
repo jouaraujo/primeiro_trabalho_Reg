{
 "cells": [
  {
   "cell_type": "markdown",
   "metadata": {},
   "source": [
    "## Trabalho 1 de Regressão"
   ]
  },
  {
   "cell_type": "markdown",
   "metadata": {},
   "source": [
    "#### 1. Carregando pacotes"
   ]
  },
  {
   "cell_type": "code",
   "execution_count": null,
   "metadata": {
    "vscode": {
     "languageId": "r"
    }
   },
   "outputs": [],
   "source": [
    "library(hnp) # pacote para envelope simulado\n",
    "library(lmtest) # teste reset\n",
    "library(car) # para teste de multicolinearidade (fatores de inflacao de variancia)\n",
    "library(tseries) # teste de Jarque-Bera"
   ]
  },
  {
   "cell_type": "markdown",
   "metadata": {},
   "source": [
    "#### 2. Importando dados"
   ]
  },
  {
   "cell_type": "code",
   "execution_count": 8,
   "metadata": {
    "vscode": {
     "languageId": "r"
    }
   },
   "outputs": [
    {
     "data": {
      "text/html": [
       "<table class=\"dataframe\">\n",
       "<caption>A data.frame: 6 × 8</caption>\n",
       "<thead>\n",
       "\t<tr><th></th><th scope=col>y</th><th scope=col>x1</th><th scope=col>x2</th><th scope=col>x3</th><th scope=col>x4</th><th scope=col>x5</th><th scope=col>x6</th><th scope=col>x7</th></tr>\n",
       "\t<tr><th></th><th scope=col>&lt;dbl&gt;</th><th scope=col>&lt;int&gt;</th><th scope=col>&lt;dbl&gt;</th><th scope=col>&lt;dbl&gt;</th><th scope=col>&lt;dbl&gt;</th><th scope=col>&lt;int&gt;</th><th scope=col>&lt;dbl&gt;</th><th scope=col>&lt;dbl&gt;</th></tr>\n",
       "</thead>\n",
       "<tbody>\n",
       "\t<tr><th scope=row>1</th><td>110.038</td><td>1</td><td>57.361</td><td>0.434</td><td>4.317</td><td>12</td><td>1.715</td><td>104.320</td></tr>\n",
       "\t<tr><th scope=row>2</th><td> 86.445</td><td>1</td><td>52.070</td><td>0.437</td><td>4.052</td><td>13</td><td>2.221</td><td> 94.936</td></tr>\n",
       "\t<tr><th scope=row>3</th><td>152.419</td><td>1</td><td>61.397</td><td>0.727</td><td>7.854</td><td> 8</td><td>7.148</td><td> 87.870</td></tr>\n",
       "\t<tr><th scope=row>4</th><td>114.720</td><td>1</td><td>42.482</td><td>0.244</td><td>2.297</td><td> 9</td><td>2.272</td><td>103.660</td></tr>\n",
       "\t<tr><th scope=row>5</th><td>111.444</td><td>1</td><td>29.660</td><td>0.449</td><td>4.509</td><td> 6</td><td>2.444</td><td>101.167</td></tr>\n",
       "\t<tr><th scope=row>6</th><td>147.882</td><td>1</td><td>58.217</td><td>0.363</td><td>4.506</td><td>13</td><td>6.971</td><td> 86.432</td></tr>\n",
       "</tbody>\n",
       "</table>\n"
      ],
      "text/latex": [
       "A data.frame: 6 × 8\n",
       "\\begin{tabular}{r|llllllll}\n",
       "  & y & x1 & x2 & x3 & x4 & x5 & x6 & x7\\\\\n",
       "  & <dbl> & <int> & <dbl> & <dbl> & <dbl> & <int> & <dbl> & <dbl>\\\\\n",
       "\\hline\n",
       "\t1 & 110.038 & 1 & 57.361 & 0.434 & 4.317 & 12 & 1.715 & 104.320\\\\\n",
       "\t2 &  86.445 & 1 & 52.070 & 0.437 & 4.052 & 13 & 2.221 &  94.936\\\\\n",
       "\t3 & 152.419 & 1 & 61.397 & 0.727 & 7.854 &  8 & 7.148 &  87.870\\\\\n",
       "\t4 & 114.720 & 1 & 42.482 & 0.244 & 2.297 &  9 & 2.272 & 103.660\\\\\n",
       "\t5 & 111.444 & 1 & 29.660 & 0.449 & 4.509 &  6 & 2.444 & 101.167\\\\\n",
       "\t6 & 147.882 & 1 & 58.217 & 0.363 & 4.506 & 13 & 6.971 &  86.432\\\\\n",
       "\\end{tabular}\n"
      ],
      "text/markdown": [
       "\n",
       "A data.frame: 6 × 8\n",
       "\n",
       "| <!--/--> | y &lt;dbl&gt; | x1 &lt;int&gt; | x2 &lt;dbl&gt; | x3 &lt;dbl&gt; | x4 &lt;dbl&gt; | x5 &lt;int&gt; | x6 &lt;dbl&gt; | x7 &lt;dbl&gt; |\n",
       "|---|---|---|---|---|---|---|---|---|\n",
       "| 1 | 110.038 | 1 | 57.361 | 0.434 | 4.317 | 12 | 1.715 | 104.320 |\n",
       "| 2 |  86.445 | 1 | 52.070 | 0.437 | 4.052 | 13 | 2.221 |  94.936 |\n",
       "| 3 | 152.419 | 1 | 61.397 | 0.727 | 7.854 |  8 | 7.148 |  87.870 |\n",
       "| 4 | 114.720 | 1 | 42.482 | 0.244 | 2.297 |  9 | 2.272 | 103.660 |\n",
       "| 5 | 111.444 | 1 | 29.660 | 0.449 | 4.509 |  6 | 2.444 | 101.167 |\n",
       "| 6 | 147.882 | 1 | 58.217 | 0.363 | 4.506 | 13 | 6.971 |  86.432 |\n",
       "\n"
      ],
      "text/plain": [
       "  y       x1 x2     x3    x4    x5 x6    x7     \n",
       "1 110.038 1  57.361 0.434 4.317 12 1.715 104.320\n",
       "2  86.445 1  52.070 0.437 4.052 13 2.221  94.936\n",
       "3 152.419 1  61.397 0.727 7.854  8 7.148  87.870\n",
       "4 114.720 1  42.482 0.244 2.297  9 2.272 103.660\n",
       "5 111.444 1  29.660 0.449 4.509  6 2.444 101.167\n",
       "6 147.882 1  58.217 0.363 4.506 13 6.971  86.432"
      ]
     },
     "metadata": {},
     "output_type": "display_data"
    }
   ],
   "source": [
    "dados <- read.table(\"dados/dados-trabalho1.txt\",h=T)\n",
    "head(dados)"
   ]
  },
  {
   "cell_type": "markdown",
   "metadata": {},
   "source": [
    "y = variável resposta/variável dependente/endógena \n",
    "\n",
    "x1, x2, x3, x4, x5, x6 e x7 = covariáveis/variáveis independentes/exógenas"
   ]
  },
  {
   "cell_type": "markdown",
   "metadata": {},
   "source": [
    "#### 3. Análise descritiva"
   ]
  },
  {
   "cell_type": "code",
   "execution_count": 9,
   "metadata": {
    "vscode": {
     "languageId": "r"
    }
   },
   "outputs": [
    {
     "data": {
      "text/plain": [
       "       y                x1               x2               x3        \n",
       " Min.   : 43.90   Min.   :0.0000   Min.   : 24.32   Min.   :0.0860  \n",
       " 1st Qu.: 85.96   1st Qu.:0.0000   1st Qu.: 44.51   1st Qu.:0.3090  \n",
       " Median :105.88   Median :1.0000   Median : 55.05   Median :0.4270  \n",
       " Mean   :111.00   Mean   :0.6168   Mean   : 52.80   Mean   :0.4466  \n",
       " 3rd Qu.:127.98   3rd Qu.:1.0000   3rd Qu.: 59.79   3rd Qu.:0.5615  \n",
       " Max.   :259.91   Max.   :1.0000   Max.   :102.59   Max.   :0.9240  \n",
       "       x4              x5              x6               x7        \n",
       " Min.   :0.822   Min.   : 3.00   Min.   : 0.000   Min.   : 74.92  \n",
       " 1st Qu.:3.163   1st Qu.: 8.00   1st Qu.: 0.840   1st Qu.: 93.78  \n",
       " Median :4.422   Median :11.00   Median : 2.490   Median :100.89  \n",
       " Mean   :4.517   Mean   :10.47   Mean   : 3.613   Mean   :100.44  \n",
       " 3rd Qu.:5.495   3rd Qu.:13.00   3rd Qu.: 5.415   3rd Qu.:106.93  \n",
       " Max.   :9.068   Max.   :21.00   Max.   :18.767   Max.   :146.85  "
      ]
     },
     "metadata": {},
     "output_type": "display_data"
    }
   ],
   "source": [
    "summary(dados)"
   ]
  },
  {
   "cell_type": "code",
   "execution_count": 10,
   "metadata": {
    "vscode": {
     "languageId": "r"
    }
   },
   "outputs": [
    {
     "data": {
      "text/html": [
       "<table class=\"dataframe\">\n",
       "<caption>A matrix: 8 × 8 of type dbl</caption>\n",
       "<thead>\n",
       "\t<tr><th></th><th scope=col>y</th><th scope=col>x1</th><th scope=col>x2</th><th scope=col>x3</th><th scope=col>x4</th><th scope=col>x5</th><th scope=col>x6</th><th scope=col>x7</th></tr>\n",
       "</thead>\n",
       "<tbody>\n",
       "\t<tr><th scope=row>y</th><td> 1.00000000</td><td> 0.23490266</td><td> 0.05849505</td><td> 0.20454929</td><td> 0.22926803</td><td> 0.17610611</td><td> 0.91622003</td><td>-0.04402367</td></tr>\n",
       "\t<tr><th scope=row>x1</th><td> 0.23490266</td><td> 1.00000000</td><td>-0.01147521</td><td> 0.09072338</td><td> 0.09408009</td><td> 0.06330647</td><td>-0.03130120</td><td> 0.11475532</td></tr>\n",
       "\t<tr><th scope=row>x2</th><td> 0.05849505</td><td>-0.01147521</td><td> 1.00000000</td><td> 0.17953373</td><td> 0.16006808</td><td> 0.17923504</td><td> 0.10810729</td><td> 0.13952750</td></tr>\n",
       "\t<tr><th scope=row>x3</th><td> 0.20454929</td><td> 0.09072338</td><td> 0.17953373</td><td> 1.00000000</td><td> 0.95864032</td><td>-0.00811143</td><td> 0.07302343</td><td> 0.12269842</td></tr>\n",
       "\t<tr><th scope=row>x4</th><td> 0.22926803</td><td> 0.09408009</td><td> 0.16006808</td><td> 0.95864032</td><td> 1.00000000</td><td>-0.02744731</td><td> 0.09554190</td><td> 0.05386186</td></tr>\n",
       "\t<tr><th scope=row>x5</th><td> 0.17610611</td><td> 0.06330647</td><td> 0.17923504</td><td>-0.00811143</td><td>-0.02744731</td><td> 1.00000000</td><td> 0.19293278</td><td> 0.24558583</td></tr>\n",
       "\t<tr><th scope=row>x6</th><td> 0.91622003</td><td>-0.03130120</td><td> 0.10810729</td><td> 0.07302343</td><td> 0.09554190</td><td> 0.19293278</td><td> 1.00000000</td><td>-0.03669080</td></tr>\n",
       "\t<tr><th scope=row>x7</th><td>-0.04402367</td><td> 0.11475532</td><td> 0.13952750</td><td> 0.12269842</td><td> 0.05386186</td><td> 0.24558583</td><td>-0.03669080</td><td> 1.00000000</td></tr>\n",
       "</tbody>\n",
       "</table>\n"
      ],
      "text/latex": [
       "A matrix: 8 × 8 of type dbl\n",
       "\\begin{tabular}{r|llllllll}\n",
       "  & y & x1 & x2 & x3 & x4 & x5 & x6 & x7\\\\\n",
       "\\hline\n",
       "\ty &  1.00000000 &  0.23490266 &  0.05849505 &  0.20454929 &  0.22926803 &  0.17610611 &  0.91622003 & -0.04402367\\\\\n",
       "\tx1 &  0.23490266 &  1.00000000 & -0.01147521 &  0.09072338 &  0.09408009 &  0.06330647 & -0.03130120 &  0.11475532\\\\\n",
       "\tx2 &  0.05849505 & -0.01147521 &  1.00000000 &  0.17953373 &  0.16006808 &  0.17923504 &  0.10810729 &  0.13952750\\\\\n",
       "\tx3 &  0.20454929 &  0.09072338 &  0.17953373 &  1.00000000 &  0.95864032 & -0.00811143 &  0.07302343 &  0.12269842\\\\\n",
       "\tx4 &  0.22926803 &  0.09408009 &  0.16006808 &  0.95864032 &  1.00000000 & -0.02744731 &  0.09554190 &  0.05386186\\\\\n",
       "\tx5 &  0.17610611 &  0.06330647 &  0.17923504 & -0.00811143 & -0.02744731 &  1.00000000 &  0.19293278 &  0.24558583\\\\\n",
       "\tx6 &  0.91622003 & -0.03130120 &  0.10810729 &  0.07302343 &  0.09554190 &  0.19293278 &  1.00000000 & -0.03669080\\\\\n",
       "\tx7 & -0.04402367 &  0.11475532 &  0.13952750 &  0.12269842 &  0.05386186 &  0.24558583 & -0.03669080 &  1.00000000\\\\\n",
       "\\end{tabular}\n"
      ],
      "text/markdown": [
       "\n",
       "A matrix: 8 × 8 of type dbl\n",
       "\n",
       "| <!--/--> | y | x1 | x2 | x3 | x4 | x5 | x6 | x7 |\n",
       "|---|---|---|---|---|---|---|---|---|\n",
       "| y |  1.00000000 |  0.23490266 |  0.05849505 |  0.20454929 |  0.22926803 |  0.17610611 |  0.91622003 | -0.04402367 |\n",
       "| x1 |  0.23490266 |  1.00000000 | -0.01147521 |  0.09072338 |  0.09408009 |  0.06330647 | -0.03130120 |  0.11475532 |\n",
       "| x2 |  0.05849505 | -0.01147521 |  1.00000000 |  0.17953373 |  0.16006808 |  0.17923504 |  0.10810729 |  0.13952750 |\n",
       "| x3 |  0.20454929 |  0.09072338 |  0.17953373 |  1.00000000 |  0.95864032 | -0.00811143 |  0.07302343 |  0.12269842 |\n",
       "| x4 |  0.22926803 |  0.09408009 |  0.16006808 |  0.95864032 |  1.00000000 | -0.02744731 |  0.09554190 |  0.05386186 |\n",
       "| x5 |  0.17610611 |  0.06330647 |  0.17923504 | -0.00811143 | -0.02744731 |  1.00000000 |  0.19293278 |  0.24558583 |\n",
       "| x6 |  0.91622003 | -0.03130120 |  0.10810729 |  0.07302343 |  0.09554190 |  0.19293278 |  1.00000000 | -0.03669080 |\n",
       "| x7 | -0.04402367 |  0.11475532 |  0.13952750 |  0.12269842 |  0.05386186 |  0.24558583 | -0.03669080 |  1.00000000 |\n",
       "\n"
      ],
      "text/plain": [
       "   y           x1          x2          x3          x4          x5         \n",
       "y   1.00000000  0.23490266  0.05849505  0.20454929  0.22926803  0.17610611\n",
       "x1  0.23490266  1.00000000 -0.01147521  0.09072338  0.09408009  0.06330647\n",
       "x2  0.05849505 -0.01147521  1.00000000  0.17953373  0.16006808  0.17923504\n",
       "x3  0.20454929  0.09072338  0.17953373  1.00000000  0.95864032 -0.00811143\n",
       "x4  0.22926803  0.09408009  0.16006808  0.95864032  1.00000000 -0.02744731\n",
       "x5  0.17610611  0.06330647  0.17923504 -0.00811143 -0.02744731  1.00000000\n",
       "x6  0.91622003 -0.03130120  0.10810729  0.07302343  0.09554190  0.19293278\n",
       "x7 -0.04402367  0.11475532  0.13952750  0.12269842  0.05386186  0.24558583\n",
       "   x6          x7         \n",
       "y   0.91622003 -0.04402367\n",
       "x1 -0.03130120  0.11475532\n",
       "x2  0.10810729  0.13952750\n",
       "x3  0.07302343  0.12269842\n",
       "x4  0.09554190  0.05386186\n",
       "x5  0.19293278  0.24558583\n",
       "x6  1.00000000 -0.03669080\n",
       "x7 -0.03669080  1.00000000"
      ]
     },
     "metadata": {},
     "output_type": "display_data"
    }
   ],
   "source": [
    "cor(dados)"
   ]
  },
  {
   "cell_type": "markdown",
   "metadata": {},
   "source": [
    "Podemos observar que há uma correlação muito forte entre x4 e x3 (0.95864032), possivelmente uma multicolineariedade, algo que devemos evitar."
   ]
  },
  {
   "cell_type": "code",
   "execution_count": 11,
   "metadata": {
    "vscode": {
     "languageId": "r"
    }
   },
   "outputs": [
    {
     "data": {
      "image/png": "[encoded data removed]",
      "text/plain": [
       "plot without title"
      ]
     },
     "metadata": {
      "image/png": {
       "height": 420,
       "width": 420
      }
     },
     "output_type": "display_data"
    }
   ],
   "source": [
    "plot(dados)"
   ]
  },
  {
   "cell_type": "markdown",
   "metadata": {},
   "source": [
    "Y está bem correlacionado com a covariável x6, observando o gráfico vemos essa maior influência."
   ]
  },
  {
   "cell_type": "markdown",
   "metadata": {},
   "source": [
    "#### 4. Ajustando o modelo"
   ]
  },
  {
   "cell_type": "code",
   "execution_count": 12,
   "metadata": {
    "vscode": {
     "languageId": "r"
    }
   },
   "outputs": [],
   "source": [
    "# modelando y em função das covariáveis\n",
    "fit <- lm(y~x1+x2+x3+x4+x5+x6+x7,data=dados)"
   ]
  },
  {
   "cell_type": "code",
   "execution_count": 13,
   "metadata": {
    "vscode": {
     "languageId": "r"
    }
   },
   "outputs": [
    {
     "data": {
      "text/plain": [
       "\n",
       "Call:\n",
       "lm(formula = y ~ x1 + x2 + x3 + x4 + x5 + x6 + x7, data = dados)\n",
       "\n",
       "Residuals:\n",
       "    Min      1Q  Median      3Q     Max \n",
       "-21.076  -6.026  -0.214   7.436  21.794 \n",
       "\n",
       "Coefficients:\n",
       "            Estimate Std. Error t value Pr(>|t|)    \n",
       "(Intercept) 74.46224   10.18764   7.309 7.02e-11 ***\n",
       "x1          18.99352    2.03183   9.348 2.89e-15 ***\n",
       "x2          -0.15909    0.08117  -1.960   0.0528 .  \n",
       "x3          16.22563   20.72954   0.783   0.4357    \n",
       "x4           1.12853    1.99299   0.566   0.5725    \n",
       "x5           0.06316    0.28217   0.224   0.8233    \n",
       "x6          10.02365    0.30531  32.831  < 2e-16 ***\n",
       "x7          -0.15932    0.10050  -1.585   0.1161    \n",
       "---\n",
       "Signif. codes:  0 '***' 0.001 '**' 0.01 '*' 0.05 '.' 0.1 ' ' 1\n",
       "\n",
       "Residual standard error: 10.08 on 99 degrees of freedom\n",
       "Multiple R-squared:  0.928,\tAdjusted R-squared:  0.9229 \n",
       "F-statistic: 182.3 on 7 and 99 DF,  p-value: < 2.2e-16\n"
      ]
     },
     "metadata": {},
     "output_type": "display_data"
    }
   ],
   "source": [
    "summary(fit)"
   ]
  },
  {
   "cell_type": "markdown",
   "metadata": {
    "vscode": {
     "languageId": "r"
    }
   },
   "source": [
    "$R^2$ do modelo foi 0.928. Ou seja, o modelo explica 92,8% da variabilidade de y;\n",
    "\n",
    "$\\overline{R^2}$, o critério de seleção, foi 0.9229;\n",
    "\n",
    "Pelo teste F se rejeitou HO, ou seja, pelo menos um beta é diferente de zero e por isso existe relação de regressão;\n",
    "\n",
    "O teste T, observando os p-valores, apenas o intercepto, x1 e x6 possuem betas diferentes de zero. Assumo então que x1 e x6 são variáveis importantes e precisam ficar no modelo.\n",
    "\n",
    "**IMPORTANTE : Antes de acreditar nesses testes se faz necessário análise de diagnóstico.**"
   ]
  },
  {
   "cell_type": "markdown",
   "metadata": {},
   "source": [
    "#### 5. Testando as suposições do modelo\n",
    "\n",
    "    [S0] O modelo estah corretamente especificado\n",
    "    [S1] A media dos erros eh zero\n",
    "    [s2] Homoscedasticidade dos erros\n",
    "    [S3] Nao autocorrelacao \n",
    "    [S4] Ausencia de Multicolinearidade\n",
    "    [S5] Normalidade dos erros\n",
    "\n",
    "Obs.: Para testes de hipoteses, se p-value < alpha (5%) \n",
    "entao rejeita a hipotese nula (H0)"
   ]
  },
  {
   "cell_type": "code",
   "execution_count": 14,
   "metadata": {
    "vscode": {
     "languageId": "r"
    }
   },
   "outputs": [
    {
     "data": {
      "text/plain": [
       "\n",
       "\tRESET test\n",
       "\n",
       "data:  fit\n",
       "RESET = 0.22665, df1 = 2, df2 = 97, p-value = 0.7976\n"
      ]
     },
     "metadata": {},
     "output_type": "display_data"
    }
   ],
   "source": [
    "\n",
    "#Testa [S0]\n",
    "#Teste RESET de especificacao\n",
    "#H0: O modelo estah corretamente especificado\n",
    "resettest(fit)"
   ]
  },
  {
   "cell_type": "markdown",
   "metadata": {},
   "source": [
    "p-valor > alpha(5%) \n",
    "\n",
    "Não se rejeita H0 de que o modelo está correto"
   ]
  },
  {
   "cell_type": "code",
   "execution_count": 15,
   "metadata": {
    "vscode": {
     "languageId": "r"
    }
   },
   "outputs": [
    {
     "data": {
      "text/plain": [
       "\n",
       "\tOne Sample t-test\n",
       "\n",
       "data:  resid(fit)\n",
       "t = 0, df = 106, p-value = 1\n",
       "alternative hypothesis: true mean is not equal to 0\n",
       "95 percent confidence interval:\n",
       " -1.866551  1.866551\n",
       "sample estimates:\n",
       "mean of x \n",
       "        0 \n"
      ]
     },
     "metadata": {},
     "output_type": "display_data"
    }
   ],
   "source": [
    "#Testa [S1]\n",
    "#Teste t para a média dos errros\n",
    "#H0: média dos erros eh igual a zero\n",
    "t.test(resid(fit),mu=0,alternative=\"two.sided\")"
   ]
  },
  {
   "cell_type": "markdown",
   "metadata": {
    "vscode": {
     "languageId": "r"
    }
   },
   "source": [
    "p-valor > alpha(5%%)\n",
    "\n",
    "Não se rejeita H0 de que a média dos erros é 0"
   ]
  },
  {
   "cell_type": "code",
   "execution_count": 16,
   "metadata": {
    "vscode": {
     "languageId": "r"
    }
   },
   "outputs": [
    {
     "data": {
      "text/plain": [
       "\n",
       "\tstudentized Breusch-Pagan test\n",
       "\n",
       "data:  fit\n",
       "BP = 13.037, df = 7, p-value = 0.07121\n"
      ]
     },
     "metadata": {},
     "output_type": "display_data"
    }
   ],
   "source": [
    "#Testa [s2]\n",
    "#Teste de Bressch-Pagan (Koenker) de Heteroscedasticidade\n",
    "#H0: erros sao homoscedasticos\n",
    "bptest(fit, studentize = TRUE)"
   ]
  },
  {
   "cell_type": "markdown",
   "metadata": {},
   "source": [
    "p-valor > alpha(5%)\n",
    "\n",
    "Não se rejeita H0 de que a variância dos erros são homoscedásticos"
   ]
  },
  {
   "cell_type": "code",
   "execution_count": 17,
   "metadata": {
    "vscode": {
     "languageId": "r"
    }
   },
   "outputs": [
    {
     "data": {
      "text/plain": [
       "\n",
       "\tDurbin-Watson test\n",
       "\n",
       "data:  fit\n",
       "DW = 2.1676, p-value = 0.8131\n",
       "alternative hypothesis: true autocorrelation is greater than 0\n"
      ]
     },
     "metadata": {},
     "output_type": "display_data"
    }
   ],
   "source": [
    "#Testa [S3]\n",
    "#Teste de Durbin-Watson de autocorrelacao\n",
    "#H0: : Nao hah autocorrelacao \n",
    "dwtest(fit)"
   ]
  },
  {
   "cell_type": "markdown",
   "metadata": {},
   "source": [
    "p-valor > alpha(5%) \n",
    "\n",
    "Não se rejeita H0, não há covariância dos erros"
   ]
  },
  {
   "cell_type": "code",
   "execution_count": 18,
   "metadata": {
    "vscode": {
     "languageId": "r"
    }
   },
   "outputs": [
    {
     "data": {
      "text/html": [
       "<style>\n",
       ".dl-inline {width: auto; margin:0; padding: 0}\n",
       ".dl-inline>dt, .dl-inline>dd {float: none; width: auto; display: inline-block}\n",
       ".dl-inline>dt::after {content: \":\\0020\"; padding-right: .5ex}\n",
       ".dl-inline>dt:not(:first-of-type) {padding-left: .5ex}\n",
       "</style><dl class=dl-inline><dt>x1</dt><dd>1.02813890802704</dd><dt>x2</dt><dd>1.08419978029064</dd><dt>x3</dt><dd>13.282073599184</dd><dt>x4</dt><dd>13.1520591629059</dd><dt>x5</dt><dd>1.14365799556233</dd><dt>x6</dt><dd>1.07093804417062</dd><dt>x7</dt><dd>1.16090023474009</dd></dl>\n"
      ],
      "text/latex": [
       "\\begin{description*}\n",
       "\\item[x1] 1.02813890802704\n",
       "\\item[x2] 1.08419978029064\n",
       "\\item[x3] 13.282073599184\n",
       "\\item[x4] 13.1520591629059\n",
       "\\item[x5] 1.14365799556233\n",
       "\\item[x6] 1.07093804417062\n",
       "\\item[x7] 1.16090023474009\n",
       "\\end{description*}\n"
      ],
      "text/markdown": [
       "x1\n",
       ":   1.02813890802704x2\n",
       ":   1.08419978029064x3\n",
       ":   13.282073599184x4\n",
       ":   13.1520591629059x5\n",
       ":   1.14365799556233x6\n",
       ":   1.07093804417062x7\n",
       ":   1.16090023474009\n",
       "\n"
      ],
      "text/plain": [
       "       x1        x2        x3        x4        x5        x6        x7 \n",
       " 1.028139  1.084200 13.282074 13.152059  1.143658  1.070938  1.160900 "
      ]
     },
     "metadata": {},
     "output_type": "display_data"
    }
   ],
   "source": [
    "#Teste [S4]\n",
    "#Usa Fatores de Inflacao de Variancia para detectar multicolinearidade\n",
    "#Regra de bolso: vif > 10 indica multicolinearidade. vif=1 seria o ideal.\n",
    "vif(fit)"
   ]
  },
  {
   "cell_type": "markdown",
   "metadata": {},
   "source": [
    "Através dos vifs podemos obsevar que x1, x2, x6 e x7 temos o ideal.\n",
    "\n",
    "Já em x3 e x4 vemos valores maiores que 10, um indicativo de multicolinearidade."
   ]
  },
  {
   "cell_type": "code",
   "execution_count": 19,
   "metadata": {
    "vscode": {
     "languageId": "r"
    }
   },
   "outputs": [
    {
     "data": {
      "text/plain": [
       "\n",
       "\tJarque Bera Test\n",
       "\n",
       "data:  resid(fit)\n",
       "X-squared = 0.77308, df = 2, p-value = 0.6794\n"
      ]
     },
     "metadata": {},
     "output_type": "display_data"
    }
   ],
   "source": [
    "## Testa [S5]\n",
    "## Teste Jarque-Bera de Normalidade\n",
    "## H0: Os erros possuem distribuicao normal\n",
    "jarque.bera.test(resid(fit))"
   ]
  },
  {
   "cell_type": "markdown",
   "metadata": {},
   "source": [
    "p-valor > alpha(5%)\n",
    "\n",
    "Não se rejeita H0 de que os erros estão distribuídos normalmente"
   ]
  },
  {
   "cell_type": "markdown",
   "metadata": {},
   "source": [
    "#### 6. Medidas de influência"
   ]
  },
  {
   "cell_type": "code",
   "execution_count": 20,
   "metadata": {
    "vscode": {
     "languageId": "r"
    }
   },
   "outputs": [
    {
     "data": {
      "text/html": [
       "107"
      ],
      "text/latex": [
       "107"
      ],
      "text/markdown": [
       "107"
      ],
      "text/plain": [
       "[1] 107"
      ]
     },
     "metadata": {},
     "output_type": "display_data"
    }
   ],
   "source": [
    "n <- dim(dados)[1] # tamanho da amostra\n",
    "n"
   ]
  },
  {
   "cell_type": "code",
   "execution_count": 21,
   "metadata": {
    "vscode": {
     "languageId": "r"
    }
   },
   "outputs": [
    {
     "data": {
      "text/plain": [
       "Influence measures of\n",
       "\t lm(formula = y ~ x1 + x2 + x3 + x4 + x5 + x6 + x7, data = dados) :\n",
       "\n",
       "       dfb.1_   dfb.x1    dfb.x2    dfb.x3    dfb.x4    dfb.x5    dfb.x6\n",
       "1   -3.20e-02  0.09072  4.55e-02 -0.001744 -0.004387  0.044511 -0.076691\n",
       "2   -1.48e-01 -0.15502  1.03e-02 -0.153481  0.157937 -0.163940  0.095701\n",
       "3   -5.75e-02 -0.08807 -6.47e-02  0.024366 -0.071442  0.064358 -0.094804\n",
       "4    3.57e-02  0.12694 -8.24e-02  0.003035 -0.054490 -0.066513 -0.011690\n",
       "5    8.72e-03  0.01218 -2.70e-02  0.002890 -0.002153 -0.016041  0.001273\n",
       "6   -3.49e-02 -0.03996 -2.35e-02  0.059244 -0.055189 -0.032523 -0.029397\n",
       "7    1.20e-02 -0.00491  7.32e-03  0.004749 -0.006838 -0.006899  0.006007\n",
       "8   -3.99e-02 -0.04534  3.08e-02 -0.031053  0.025592 -0.041182 -0.039673\n",
       "9    2.13e-02  0.06557  3.18e-02  0.005744 -0.015555 -0.107713 -0.028209\n",
       "10  -1.24e-01 -0.07584  1.25e-01 -0.104435  0.123074  0.068621  0.009610\n",
       "11  -7.02e-02 -0.12923  1.80e-01 -0.042333 -0.001315 -0.044626 -0.072074\n",
       "12  -9.40e-02 -0.20846 -2.80e-01  0.042147  0.044863  0.050485  0.169179\n",
       "13   4.85e-02  0.05342  5.38e-02  0.013242 -0.005442 -0.053020  0.063787\n",
       "14  -3.78e-04 -0.00178  9.53e-05  0.002862 -0.002227 -0.001958 -0.000473\n",
       "15   9.31e-02 -0.08268 -1.23e-01 -0.099271  0.090408 -0.033687 -0.053708\n",
       "16   4.62e-02 -0.06482 -8.09e-02 -0.090979  0.087472  0.053398 -0.056168\n",
       "17   9.02e-02  0.08464  4.19e-02  0.057122 -0.083091  0.029846 -0.077060\n",
       "18   3.49e-02 -0.02884  7.25e-02  0.059659 -0.035941 -0.088945 -0.028236\n",
       "19   1.36e-01 -0.12124 -2.37e-01  0.273103 -0.227116  0.259305  0.091724\n",
       "20   1.74e-02 -0.01255  1.01e-02  0.002064 -0.008810  0.005482 -0.011995\n",
       "21   2.76e-02  0.02849 -8.49e-02  0.049186 -0.041663  0.036853  0.016492\n",
       "22   2.27e-03 -0.00137 -1.03e-03  0.000209 -0.000200  0.000654 -0.000686\n",
       "23   1.68e+00 -0.14198 -9.47e-01 -0.352578  0.336239 -0.265335 -0.829684\n",
       "24   4.26e-02 -0.04128 -2.96e-02 -0.037271  0.038043  0.009130 -0.032212\n",
       "25   4.08e-03  0.04730  5.06e-02 -0.014598 -0.003810 -0.032193  0.011069\n",
       "26  -4.20e-02 -0.20382 -1.87e-01 -0.200806  0.252394  0.184635  0.031514\n",
       "27  -6.13e-04  0.01058 -1.06e-03 -0.005231  0.003796 -0.002621  0.006434\n",
       "28  -4.41e-02  0.12335  1.44e-02  0.108565 -0.094717 -0.132241 -0.042013\n",
       "29   1.63e-02 -0.03205  4.13e-02  0.001361  0.012519  0.022531 -0.056050\n",
       "30   2.43e-02 -0.09610  1.64e-01 -0.055083  0.056748 -0.003979 -0.063651\n",
       "31  -1.01e-02 -0.00832 -5.44e-03 -0.007717  0.007791  0.003871  0.003182\n",
       "32   9.43e-04 -0.03138  9.02e-03 -0.009625  0.013226  0.040344  0.027142\n",
       "33  -1.01e-01 -0.06870 -4.03e-04 -0.034553  0.046410  0.001743  0.058515\n",
       "34   8.64e-02  0.26354 -2.04e-01  0.303247 -0.282787  0.243707  0.186255\n",
       "35   2.96e-05  0.07745  3.41e-02  0.052469 -0.056668  0.027333  0.017721\n",
       "36  -6.02e-02 -0.19857  8.62e-02  0.096892 -0.154217 -0.332371 -0.081531\n",
       "37  -4.50e-03  0.03758  2.10e-02 -0.023837  0.012803 -0.070242  0.010660\n",
       "38  -6.01e-02  0.04587 -2.17e-02 -0.038125  0.046303 -0.035287  0.046192\n",
       "39  -1.82e-03  0.01955 -3.87e-03 -0.017135  0.019253  0.008156 -0.000957\n",
       "40  -2.07e-02 -0.03733  2.71e-02  0.068103 -0.073255 -0.056601  0.044882\n",
       "41   3.07e-01  0.15579 -2.45e-01  0.188918 -0.111582 -0.068549 -0.038601\n",
       "42   4.89e-02  0.06691 -5.08e-02  0.077208 -0.068931  0.103276 -0.043290\n",
       "43   2.06e-02  0.23708  6.51e-02 -0.144281  0.126446  0.146461  0.127514\n",
       "44  -2.00e-01 -0.15726  1.01e-01  0.159047 -0.121140 -0.026214 -0.090644\n",
       "45   1.37e-02 -0.03975 -2.43e-02  0.003152  0.016720 -0.037246 -0.002014\n",
       "46   2.02e-02 -0.08175 -2.20e-02 -0.063029  0.050674  0.102425  0.080315\n",
       "47  -6.52e-03  0.03157 -7.69e-03 -0.011620  0.005506 -0.002945 -0.020864\n",
       "48   1.61e-02  0.09122 -1.39e-01  0.053894 -0.049862  0.138334  0.063546\n",
       "49  -2.08e-02  0.02660  1.66e-02  0.027713 -0.007522  0.029750 -0.018051\n",
       "50  -1.02e-01  0.06402  8.65e-02 -0.087543  0.081364  0.069771 -0.060912\n",
       "51  -1.29e-02  0.00764 -2.43e-03  0.014538 -0.003497 -0.017643 -0.010293\n",
       "52  -3.45e-02 -0.03527  2.02e-03 -0.028943  0.040725  0.015520 -0.020141\n",
       "53  -1.71e-02 -0.04874 -3.93e-02  0.086989 -0.066564 -0.069775  0.017972\n",
       "54  -8.87e-02 -0.13468  6.48e-02 -0.054966  0.107921  0.107722 -0.338307\n",
       "55   5.62e-02 -0.02248  9.89e-03 -0.026583 -0.000851 -0.007776  0.054095\n",
       "56  -1.44e-01 -0.07276 -4.52e-02  0.019758 -0.052953 -0.036226  0.015508\n",
       "57   9.85e-03  0.02924 -7.84e-02  0.033794 -0.041178  0.021385 -0.012734\n",
       "58  -8.21e-03 -0.01261  7.26e-03 -0.005702  0.002928 -0.024245  0.022656\n",
       "59   2.19e-03  0.13143  2.19e-01  0.225911 -0.203517 -0.038912 -0.068270\n",
       "60   5.50e-02 -0.04984 -1.58e-02  0.056171 -0.044616 -0.091925  0.087911\n",
       "61  -1.03e-02  0.00674 -2.16e-02  0.006496 -0.009617  0.016092 -0.005790\n",
       "62   5.16e-02 -0.12051 -8.79e-02  0.075571 -0.073103  0.049163  0.050215\n",
       "63   5.70e-04  0.00124  8.11e-04  0.001607 -0.001942 -0.001509  0.000117\n",
       "64  -4.95e-02 -0.10669 -2.16e-02 -0.015649  0.013435 -0.187225  0.479673\n",
       "65   4.89e-02 -0.03966  7.79e-02  0.057259 -0.068206 -0.120700 -0.032794\n",
       "66   8.02e-03 -0.02854 -1.80e-02  0.024924 -0.019063 -0.028752  0.044121\n",
       "67  -5.00e-03 -0.02424 -1.18e-02  0.057507 -0.077171 -0.032621 -0.011442\n",
       "68  -1.42e-02 -0.01890 -7.95e-04 -0.047162  0.033937 -0.043843  0.027401\n",
       "69   1.22e-03  0.10352  5.10e-02 -0.056403  0.106554 -0.083464 -0.011788\n",
       "70   1.02e-01 -0.11438  3.71e-02  0.043769 -0.068180  0.081827  0.029877\n",
       "71  -9.25e-04  0.05058 -1.26e-01 -0.084558  0.080354 -0.032340 -0.063319\n",
       "72  -1.03e-01  0.05894 -7.08e-02 -0.083464  0.072107 -0.003627 -0.042388\n",
       "73   1.86e-01  0.22646  3.44e-01  0.381250 -0.459489  0.170757 -0.032368\n",
       "74   6.00e-03 -0.01892 -1.05e-02  0.006352 -0.004595  0.008537  0.001817\n",
       "75  -4.43e-02  0.12999 -6.28e-02  0.018367 -0.027697 -0.114975  0.011328\n",
       "76  -7.16e-02  0.10686  1.16e-01 -0.132098  0.138296  0.079836 -0.068232\n",
       "77  -1.24e-01  0.09843 -1.13e-01  0.154941 -0.111683  0.090074 -0.064670\n",
       "78   6.10e-02  0.14054 -6.85e-02  0.070530 -0.074443 -0.233526  0.164082\n",
       "79   7.27e-03  0.01198 -5.23e-03 -0.017789  0.021592  0.006660 -0.004203\n",
       "80  -2.67e-01  0.16067  2.59e-01 -0.089452  0.035883  0.063129 -0.131549\n",
       "81   8.18e-03 -0.02304  3.95e-02  0.002049  0.004247  0.035652 -0.092020\n",
       "82  -1.04e-02 -0.01439 -2.14e-02 -0.009993  0.010160 -0.028443  0.001035\n",
       "83   2.82e-03 -0.01269  5.34e-03  0.011090 -0.012940 -0.000644 -0.009020\n",
       "84  -2.43e-01  0.20784  2.79e-01 -0.320072  0.273663 -0.189094 -0.047329\n",
       "85  -1.16e-01  0.06722  4.91e-02 -0.196772  0.183538 -0.111572  0.118277\n",
       "86   2.07e-01 -0.10820  2.34e-01  0.169458 -0.162326 -0.083172  0.201332\n",
       "87   6.94e-02 -0.16651 -1.10e-01  0.049516 -0.082627  0.073328 -0.013846\n",
       "88  -3.32e-01 -0.19647  9.27e-02 -0.035702  0.020239  0.315404  0.011471\n",
       "89   1.66e-02  0.09153 -7.17e-03 -0.033052  0.015877 -0.157505 -0.038445\n",
       "90  -2.59e-02 -0.09954  1.55e-02 -0.094946  0.097607  0.017973 -0.042657\n",
       "91   1.19e-01  0.12150 -1.40e-01  0.198237 -0.191436  0.110382  0.035578\n",
       "92   3.69e-02  0.09014 -8.13e-02 -0.096372  0.123863 -0.017865  0.166601\n",
       "93  -1.01e-01 -0.06244 -2.40e-02 -0.018635  0.006358  0.020699 -0.015341\n",
       "94  -2.66e-01  0.16232 -6.83e-03 -0.152868  0.075920  0.260690  0.265016\n",
       "95  -5.34e-02  0.08324  1.25e-01 -0.113686  0.090260 -0.027762 -0.038543\n",
       "96   3.74e-02  0.08855  5.44e-02  0.011640  0.020190 -0.071446  0.060517\n",
       "97  -3.79e-03 -0.02201 -5.98e-03  0.016169 -0.005101 -0.000281  0.001213\n",
       "98  -1.53e-02 -0.02215 -1.13e-02 -0.008554  0.007256  0.004154  0.028053\n",
       "99   1.88e-01 -0.10006  4.48e-02 -0.366373  0.337619  0.061490 -0.094149\n",
       "100  5.26e-02 -0.13587  1.54e-01  0.113601 -0.107948  0.185261  0.160435\n",
       "101  2.81e-02 -0.01077 -2.59e-03  0.013248 -0.021619  0.015706  0.022110\n",
       "102 -5.73e-02  0.03115  5.63e-02 -0.045871  0.059291 -0.011968  0.025969\n",
       "103 -6.53e-03  0.03829  4.81e-02  0.024756 -0.026650  0.050007 -0.063051\n",
       "104 -1.85e-02  0.01287 -3.69e-03 -0.002732  0.008379 -0.021192 -0.016978\n",
       "105 -2.45e-02  0.09023  9.50e-03 -0.005330  0.058196 -0.078026 -0.046884\n",
       "106 -1.22e-01 -0.16356  1.64e-02 -0.009618  0.059587  0.019380 -0.107840\n",
       "107  4.36e-02 -0.02662  2.43e-02  0.017028 -0.025889 -0.027129  0.028629\n",
       "       dfb.x7    dffit cov.r   cook.d    hat inf\n",
       "1    1.44e-02  0.18721 0.976 4.36e-03 0.0218    \n",
       "2    1.84e-01 -0.35818 0.847 1.56e-02 0.0351    \n",
       "3    1.19e-01 -0.30202 1.076 1.14e-02 0.0775    \n",
       "4    6.40e-02  0.29903 0.943 1.10e-02 0.0387    \n",
       "5    6.50e-03  0.03967 1.149 1.99e-04 0.0578    \n",
       "6    5.36e-02 -0.11807 1.148 1.76e-03 0.0696    \n",
       "7   -1.09e-02  0.02036 1.207 5.23e-05 0.1015    \n",
       "8    4.95e-02 -0.10884 1.098 1.49e-03 0.0368    \n",
       "9    7.04e-03  0.15495 1.084 3.02e-03 0.0426    \n",
       "10   3.87e-02 -0.23932 1.131 7.19e-03 0.0870    \n",
       "11   8.21e-02  0.30420 1.063 1.15e-02 0.0729    \n",
       "12   1.40e-01  0.49306 1.110 3.02e-02 0.1368    \n",
       "13  -7.21e-02  0.14687 1.144 2.72e-03 0.0728    \n",
       "14   3.40e-04 -0.00499 1.142 3.14e-06 0.0503    \n",
       "15   1.24e-03  0.22449 1.171 6.34e-03 0.1056    \n",
       "16  -3.67e-03  0.16357 1.200 3.37e-03 0.1118    \n",
       "17  -8.95e-02  0.20017 1.069 5.02e-03 0.0484    \n",
       "18  -6.03e-02 -0.17927 1.258 4.05e-03 0.1506   *\n",
       "19  -1.69e-01 -0.48557 1.033 2.92e-02 0.1060    \n",
       "20  -1.33e-02  0.03760 1.181 1.78e-04 0.0825    \n",
       "21  -1.20e-02  0.11291 1.151 1.61e-03 0.0704    \n",
       "22  -1.70e-03  0.00293 1.149 1.08e-06 0.0559    \n",
       "23  -1.11e+00 -2.14414 0.989 5.40e-01 0.3848   *\n",
       "24  -2.10e-02  0.08582 1.148 9.29e-04 0.0634    \n",
       "25  -1.76e-03  0.10121 1.108 1.29e-03 0.0402    \n",
       "26   2.81e-02 -0.46558 0.777 2.61e-02 0.0437    \n",
       "27   4.73e-04 -0.01603 1.128 3.24e-05 0.0388    \n",
       "28   4.17e-02 -0.25357 1.066 8.04e-03 0.0609    \n",
       "29  -4.66e-02 -0.10469 1.149 1.38e-03 0.0675    \n",
       "30  -8.75e-02 -0.26350 0.963 8.60e-03 0.0350    \n",
       "31   1.14e-02 -0.01854 1.134 4.34e-05 0.0444    \n",
       "32  -1.63e-02  0.07269 1.179 6.67e-04 0.0840    \n",
       "33   8.66e-02 -0.15281 1.086 2.93e-03 0.0428    \n",
       "34  -1.71e-01 -0.57965 0.833 4.07e-02 0.0732    \n",
       "35  -3.72e-02 -0.12255 1.102 1.89e-03 0.0426    \n",
       "36   2.20e-01  0.54185 0.957 3.60e-02 0.0950    \n",
       "37   2.48e-02  0.09573 1.127 1.16e-03 0.0510    \n",
       "38   5.91e-02 -0.11359 1.147 1.63e-03 0.0681    \n",
       "39  -4.27e-03 -0.03478 1.130 1.53e-04 0.0419    \n",
       "40   2.33e-02 -0.12401 1.112 1.94e-03 0.0482    \n",
       "41  -2.56e-01  0.53197 0.876 3.45e-02 0.0728    \n",
       "42  -7.62e-02 -0.16762 1.161 3.54e-03 0.0877    \n",
       "43  -1.32e-01 -0.42602 0.889 2.22e-02 0.0542    \n",
       "44   1.68e-01  0.38115 1.162 1.82e-02 0.1346    \n",
       "45  -2.55e-03  0.09715 1.210 1.19e-03 0.1093    \n",
       "46  -3.76e-02 -0.21950 1.019 6.01e-03 0.0374    \n",
       "47   1.24e-02 -0.05496 1.128 3.81e-04 0.0440    \n",
       "48  -2.83e-02 -0.24124 1.136 7.30e-03 0.0897    \n",
       "49  -1.05e-02  0.10112 1.123 1.29e-03 0.0494    \n",
       "50   6.15e-02  0.20779 1.046 5.40e-03 0.0423    \n",
       "51   1.06e-02  0.05169 1.218 3.37e-04 0.1108    \n",
       "52   2.30e-02 -0.07572 1.126 7.23e-04 0.0459    \n",
       "53   3.26e-02 -0.15595 1.140 3.06e-03 0.0723    \n",
       "54   2.65e-02 -0.42148 1.083 2.21e-02 0.1092    \n",
       "55  -4.15e-02 -0.13809 1.145 2.40e-03 0.0713    \n",
       "56   2.04e-01 -0.26689 1.155 8.94e-03 0.1060    \n",
       "57   2.46e-02  0.11465 1.152 1.66e-03 0.0718    \n",
       "58   1.22e-02 -0.03999 1.131 2.02e-04 0.0434    \n",
       "59  -1.03e-01  0.39614 0.949 1.93e-02 0.0605    \n",
       "60  -4.46e-02 -0.17878 1.084 4.01e-03 0.0489    \n",
       "61   1.85e-02  0.04131 1.216 2.15e-04 0.1094    \n",
       "62  -1.46e-02  0.20122 1.049 5.06e-03 0.0415    \n",
       "63  -4.61e-04 -0.00292 1.261 1.08e-06 0.1401   *\n",
       "64   8.67e-02  0.51890 1.366 3.37e-02 0.2551   *\n",
       "65  -3.73e-02 -0.19190 1.112 4.63e-03 0.0653    \n",
       "66  -2.96e-03 -0.07800 1.112 7.67e-04 0.0374    \n",
       "67   3.64e-02 -0.12433 1.200 1.95e-03 0.1061    \n",
       "68   3.71e-02 -0.08673 1.180 9.49e-04 0.0868    \n",
       "69  -3.96e-02  0.29755 0.957 1.09e-02 0.0411    \n",
       "70  -1.01e-01  0.23701 1.040 7.01e-03 0.0477    \n",
       "71   7.80e-02  0.21413 1.109 5.75e-03 0.0698    \n",
       "72   1.54e-01  0.22443 1.052 6.30e-03 0.0484    \n",
       "73  -3.28e-01  0.72243 0.865 6.31e-02 0.1088    \n",
       "74  -2.27e-03  0.02747 1.121 9.52e-05 0.0339    \n",
       "75   8.55e-02 -0.23019 1.040 6.62e-03 0.0460    \n",
       "76  -1.71e-02 -0.25205 1.091 7.95e-03 0.0710    \n",
       "77   8.89e-02 -0.32753 1.093 1.34e-02 0.0906    \n",
       "78  -6.89e-03 -0.32806 1.143 1.35e-02 0.1138    \n",
       "79  -1.20e-02 -0.03350 1.208 1.42e-04 0.1032    \n",
       "80   2.07e-01  0.50797 0.758 3.10e-02 0.0480    \n",
       "81  -3.07e-02 -0.10827 1.298 1.48e-03 0.1684   *\n",
       "82   2.81e-02 -0.04869 1.184 2.99e-04 0.0860    \n",
       "83   2.81e-05  0.02499 1.143 7.88e-05 0.0521    \n",
       "84   1.95e-01 -0.53271 0.977 3.49e-02 0.0988    \n",
       "85   1.33e-01  0.28590 1.128 1.02e-02 0.0963    \n",
       "86  -3.23e-01 -0.54205 0.819 3.55e-02 0.0634    \n",
       "87   1.86e-02  0.29734 0.977 1.10e-02 0.0452    \n",
       "88   2.22e-01 -0.54562 0.852 3.61e-02 0.0704    \n",
       "89   5.17e-02  0.23244 1.032 6.74e-03 0.0441    \n",
       "90   3.83e-02  0.15903 1.087 3.18e-03 0.0451    \n",
       "91  -1.32e-01 -0.30784 1.140 1.19e-02 0.1075    \n",
       "92  -3.77e-02  0.29627 1.035 1.09e-02 0.0609    \n",
       "93   1.21e-01 -0.16115 1.116 3.27e-03 0.0599    \n",
       "94   2.40e-01  0.64576 0.783 5.01e-02 0.0757    \n",
       "95   2.08e-02 -0.20006 1.168 5.04e-03 0.0988    \n",
       "96  -7.60e-02  0.22993 1.033 6.60e-03 0.0438    \n",
       "97  -3.58e-03 -0.05095 1.126 3.28e-04 0.0411    \n",
       "98   1.74e-02 -0.04958 1.114 3.10e-04 0.0319    \n",
       "99  -1.84e-01 -0.50735 0.993 3.17e-02 0.0980    \n",
       "100 -1.70e-01  0.42042 1.096 2.20e-02 0.1144    \n",
       "101 -2.79e-02 -0.05827 1.160 4.29e-04 0.0683    \n",
       "102  2.45e-02  0.12106 1.134 1.85e-03 0.0610    \n",
       "103 -2.03e-02  0.11568 1.115 1.69e-03 0.0480    \n",
       "104  2.38e-02  0.05058 1.138 3.23e-04 0.0508    \n",
       "105  3.38e-03  0.27657 0.971 9.48e-03 0.0394    \n",
       "106  1.09e-01  0.29438 1.078 1.08e-02 0.0764    \n",
       "107 -3.59e-02  0.08179 1.159 8.44e-04 0.0709    "
      ]
     },
     "metadata": {},
     "output_type": "display_data"
    }
   ],
   "source": [
    "#com a seguinte funcao se obtem varias medidas de influencia\n",
    "influence.measures(fit)"
   ]
  },
  {
   "cell_type": "markdown",
   "metadata": {},
   "source": [
    "Onde há asteriscos está destacado que essas observações estão influenciando no modelo."
   ]
  },
  {
   "cell_type": "code",
   "execution_count": 22,
   "metadata": {
    "vscode": {
     "languageId": "r"
    }
   },
   "outputs": [
    {
     "data": {
      "text/html": [
       "<style>\n",
       ".dl-inline {width: auto; margin:0; padding: 0}\n",
       ".dl-inline>dt, .dl-inline>dd {float: none; width: auto; display: inline-block}\n",
       ".dl-inline>dt::after {content: \":\\0020\"; padding-right: .5ex}\n",
       ".dl-inline>dt:not(:first-of-type) {padding-left: .5ex}\n",
       "</style><dl class=dl-inline><dt>1</dt><dd>0.0217870831959226</dd><dt>2</dt><dd>0.035129946013376</dd><dt>3</dt><dd>0.0774680014876655</dd><dt>4</dt><dd>0.0386503055237995</dd><dt>5</dt><dd>0.057783260462543</dd><dt>6</dt><dd>0.069629822222096</dd><dt>7</dt><dd>0.101467042177802</dd><dt>8</dt><dd>0.0367567626345559</dd><dt>9</dt><dd>0.042620823663762</dd><dt>10</dt><dd>0.0869801930282986</dd><dt>11</dt><dd>0.0729339824329792</dd><dt>12</dt><dd>0.136809279481451</dd><dt>13</dt><dd>0.0727956700666951</dd><dt>14</dt><dd>0.0503080760567926</dd><dt>15</dt><dd>0.10561345273552</dd><dt>16</dt><dd>0.111750103497902</dd><dt>17</dt><dd>0.0484086449997246</dd><dt>18</dt><dd>0.150564032191412</dd><dt>19</dt><dd>0.10603994424577</dd><dt>20</dt><dd>0.0824891989847575</dd><dt>21</dt><dd>0.0703920778027632</dd><dt>22</dt><dd>0.0558659916051035</dd><dt>23</dt><dd>0.384829589496871</dd><dt>24</dt><dd>0.0634476409105669</dd><dt>25</dt><dd>0.0401885714792081</dd><dt>26</dt><dd>0.0436672559133048</dd><dt>27</dt><dd>0.0387909519974863</dd><dt>28</dt><dd>0.0608884225700305</dd><dt>29</dt><dd>0.0675465461333423</dd><dt>30</dt><dd>0.035024403212947</dd><dt>31</dt><dd>0.0444054960720339</dd><dt>32</dt><dd>0.0840261395721465</dd><dt>33</dt><dd>0.0427650702232905</dd><dt>34</dt><dd>0.0732043203575205</dd><dt>35</dt><dd>0.0426051684109485</dd><dt>36</dt><dd>0.0950169298082255</dd><dt>37</dt><dd>0.0509994302238088</dd><dt>38</dt><dd>0.0681277104169936</dd><dt>39</dt><dd>0.0419273939302134</dd><dt>40</dt><dd>0.0481698131801112</dd><dt>41</dt><dd>0.0728242394664935</dd><dt>42</dt><dd>0.0876866665195876</dd><dt>43</dt><dd>0.0541728284167363</dd><dt>44</dt><dd>0.134553014948175</dd><dt>45</dt><dd>0.109344749895116</dd><dt>46</dt><dd>0.0373804078200981</dd><dt>47</dt><dd>0.0439750243979632</dd><dt>48</dt><dd>0.089738473677246</dd><dt>49</dt><dd>0.0494102765505912</dd><dt>50</dt><dd>0.0422792262213111</dd><dt>51</dt><dd>0.110754719612846</dd><dt>52</dt><dd>0.0459483157816335</dd><dt>53</dt><dd>0.07234249048969</dd><dt>54</dt><dd>0.109246113888564</dd><dt>55</dt><dd>0.0713272031373858</dd><dt>56</dt><dd>0.106024384304226</dd><dt>57</dt><dd>0.0717636548775797</dd><dt>58</dt><dd>0.0434333928134925</dd><dt>59</dt><dd>0.0605146940622726</dd><dt>60</dt><dd>0.0489432165038349</dd><dt>61</dt><dd>0.109394894684363</dd><dt>62</dt><dd>0.0414719697438753</dd><dt>63</dt><dd>0.140110731818839</dd><dt>64</dt><dd>0.255120864215085</dd><dt>65</dt><dd>0.0653443865691054</dd><dt>66</dt><dd>0.0374094494600506</dd><dt>67</dt><dd>0.106052436084353</dd><dt>68</dt><dd>0.0867600964051533</dd><dt>69</dt><dd>0.0410527750920308</dd><dt>70</dt><dd>0.04772389940695</dd><dt>71</dt><dd>0.0697867842602056</dd><dt>72</dt><dd>0.04835231346893</dd><dt>73</dt><dd>0.108771305461526</dd><dt>74</dt><dd>0.0339485710261213</dd><dt>75</dt><dd>0.0460373254305941</dd><dt>76</dt><dd>0.0710489348930367</dd><dt>77</dt><dd>0.090614250505317</dd><dt>78</dt><dd>0.113820643749216</dd><dt>79</dt><dd>0.103163511623594</dd><dt>80</dt><dd>0.0479990288505498</dd><dt>81</dt><dd>0.168378845950202</dd><dt>82</dt><dd>0.0859731005732755</dd><dt>83</dt><dd>0.0521046383559141</dd><dt>84</dt><dd>0.0988477893229623</dd><dt>85</dt><dd>0.0963442372180254</dd><dt>86</dt><dd>0.0634447027121449</dd><dt>87</dt><dd>0.0451550668062002</dd><dt>88</dt><dd>0.070358362805704</dd><dt>89</dt><dd>0.0440774128545492</dd><dt>90</dt><dd>0.0450833284331059</dd><dt>91</dt><dd>0.107504594149697</dd><dt>92</dt><dd>0.0608650882718153</dd><dt>93</dt><dd>0.0599373973804035</dd><dt>94</dt><dd>0.0757174553953577</dd><dt>95</dt><dd>0.0988148507741084</dd><dt>96</dt><dd>0.0438357189030343</dd><dt>97</dt><dd>0.0411235031082875</dd><dt>98</dt><dd>0.0319136942740285</dd><dt>99</dt><dd>0.0979894668717573</dd><dt>100</dt><dd>0.114354574367793</dd><dt>101</dt><dd>0.0682672428548493</dd><dt>102</dt><dd>0.0609946755291355</dd><dt>103</dt><dd>0.0479515921497769</dd><dt>104</dt><dd>0.0507693831079944</dd><dt>105</dt><dd>0.0394286556080287</dd><dt>106</dt><dd>0.0763743940847067</dd><dt>107</dt><dd>0.0708684135836628</dd></dl>\n"
      ],
      "text/latex": [
       "\\begin{description*}\n",
       "\\item[1] 0.0217870831959226\n",
       "\\item[2] 0.035129946013376\n",
       "\\item[3] 0.0774680014876655\n",
       "\\item[4] 0.0386503055237995\n",
       "\\item[5] 0.057783260462543\n",
       "\\item[6] 0.069629822222096\n",
       "\\item[7] 0.101467042177802\n",
       "\\item[8] 0.0367567626345559\n",
       "\\item[9] 0.042620823663762\n",
       "\\item[10] 0.0869801930282986\n",
       "\\item[11] 0.0729339824329792\n",
       "\\item[12] 0.136809279481451\n",
       "\\item[13] 0.0727956700666951\n",
       "\\item[14] 0.0503080760567926\n",
       "\\item[15] 0.10561345273552\n",
       "\\item[16] 0.111750103497902\n",
       "\\item[17] 0.0484086449997246\n",
       "\\item[18] 0.150564032191412\n",
       "\\item[19] 0.10603994424577\n",
       "\\item[20] 0.0824891989847575\n",
       "\\item[21] 0.0703920778027632\n",
       "\\item[22] 0.0558659916051035\n",
       "\\item[23] 0.384829589496871\n",
       "\\item[24] 0.0634476409105669\n",
       "\\item[25] 0.0401885714792081\n",
       "\\item[26] 0.0436672559133048\n",
       "\\item[27] 0.0387909519974863\n",
       "\\item[28] 0.0608884225700305\n",
       "\\item[29] 0.0675465461333423\n",
       "\\item[30] 0.035024403212947\n",
       "\\item[31] 0.0444054960720339\n",
       "\\item[32] 0.0840261395721465\n",
       "\\item[33] 0.0427650702232905\n",
       "\\item[34] 0.0732043203575205\n",
       "\\item[35] 0.0426051684109485\n",
       "\\item[36] 0.0950169298082255\n",
       "\\item[37] 0.0509994302238088\n",
       "\\item[38] 0.0681277104169936\n",
       "\\item[39] 0.0419273939302134\n",
       "\\item[40] 0.0481698131801112\n",
       "\\item[41] 0.0728242394664935\n",
       "\\item[42] 0.0876866665195876\n",
       "\\item[43] 0.0541728284167363\n",
       "\\item[44] 0.134553014948175\n",
       "\\item[45] 0.109344749895116\n",
       "\\item[46] 0.0373804078200981\n",
       "\\item[47] 0.0439750243979632\n",
       "\\item[48] 0.089738473677246\n",
       "\\item[49] 0.0494102765505912\n",
       "\\item[50] 0.0422792262213111\n",
       "\\item[51] 0.110754719612846\n",
       "\\item[52] 0.0459483157816335\n",
       "\\item[53] 0.07234249048969\n",
       "\\item[54] 0.109246113888564\n",
       "\\item[55] 0.0713272031373858\n",
       "\\item[56] 0.106024384304226\n",
       "\\item[57] 0.0717636548775797\n",
       "\\item[58] 0.0434333928134925\n",
       "\\item[59] 0.0605146940622726\n",
       "\\item[60] 0.0489432165038349\n",
       "\\item[61] 0.109394894684363\n",
       "\\item[62] 0.0414719697438753\n",
       "\\item[63] 0.140110731818839\n",
       "\\item[64] 0.255120864215085\n",
       "\\item[65] 0.0653443865691054\n",
       "\\item[66] 0.0374094494600506\n",
       "\\item[67] 0.106052436084353\n",
       "\\item[68] 0.0867600964051533\n",
       "\\item[69] 0.0410527750920308\n",
       "\\item[70] 0.04772389940695\n",
       "\\item[71] 0.0697867842602056\n",
       "\\item[72] 0.04835231346893\n",
       "\\item[73] 0.108771305461526\n",
       "\\item[74] 0.0339485710261213\n",
       "\\item[75] 0.0460373254305941\n",
       "\\item[76] 0.0710489348930367\n",
       "\\item[77] 0.090614250505317\n",
       "\\item[78] 0.113820643749216\n",
       "\\item[79] 0.103163511623594\n",
       "\\item[80] 0.0479990288505498\n",
       "\\item[81] 0.168378845950202\n",
       "\\item[82] 0.0859731005732755\n",
       "\\item[83] 0.0521046383559141\n",
       "\\item[84] 0.0988477893229623\n",
       "\\item[85] 0.0963442372180254\n",
       "\\item[86] 0.0634447027121449\n",
       "\\item[87] 0.0451550668062002\n",
       "\\item[88] 0.070358362805704\n",
       "\\item[89] 0.0440774128545492\n",
       "\\item[90] 0.0450833284331059\n",
       "\\item[91] 0.107504594149697\n",
       "\\item[92] 0.0608650882718153\n",
       "\\item[93] 0.0599373973804035\n",
       "\\item[94] 0.0757174553953577\n",
       "\\item[95] 0.0988148507741084\n",
       "\\item[96] 0.0438357189030343\n",
       "\\item[97] 0.0411235031082875\n",
       "\\item[98] 0.0319136942740285\n",
       "\\item[99] 0.0979894668717573\n",
       "\\item[100] 0.114354574367793\n",
       "\\item[101] 0.0682672428548493\n",
       "\\item[102] 0.0609946755291355\n",
       "\\item[103] 0.0479515921497769\n",
       "\\item[104] 0.0507693831079944\n",
       "\\item[105] 0.0394286556080287\n",
       "\\item[106] 0.0763743940847067\n",
       "\\item[107] 0.0708684135836628\n",
       "\\end{description*}\n"
      ],
      "text/markdown": [
       "1\n",
       ":   0.02178708319592262\n",
       ":   0.0351299460133763\n",
       ":   0.07746800148766554\n",
       ":   0.03865030552379955\n",
       ":   0.0577832604625436\n",
       ":   0.0696298222220967\n",
       ":   0.1014670421778028\n",
       ":   0.03675676263455599\n",
       ":   0.04262082366376210\n",
       ":   0.086980193028298611\n",
       ":   0.072933982432979212\n",
       ":   0.13680927948145113\n",
       ":   0.072795670066695114\n",
       ":   0.050308076056792615\n",
       ":   0.1056134527355216\n",
       ":   0.11175010349790217\n",
       ":   0.048408644999724618\n",
       ":   0.15056403219141219\n",
       ":   0.1060399442457720\n",
       ":   0.082489198984757521\n",
       ":   0.070392077802763222\n",
       ":   0.055865991605103523\n",
       ":   0.38482958949687124\n",
       ":   0.063447640910566925\n",
       ":   0.040188571479208126\n",
       ":   0.043667255913304827\n",
       ":   0.038790951997486328\n",
       ":   0.060888422570030529\n",
       ":   0.067546546133342330\n",
       ":   0.03502440321294731\n",
       ":   0.044405496072033932\n",
       ":   0.084026139572146533\n",
       ":   0.042765070223290534\n",
       ":   0.073204320357520535\n",
       ":   0.042605168410948536\n",
       ":   0.095016929808225537\n",
       ":   0.050999430223808838\n",
       ":   0.068127710416993639\n",
       ":   0.041927393930213440\n",
       ":   0.048169813180111241\n",
       ":   0.072824239466493542\n",
       ":   0.087686666519587643\n",
       ":   0.054172828416736344\n",
       ":   0.13455301494817545\n",
       ":   0.10934474989511646\n",
       ":   0.037380407820098147\n",
       ":   0.043975024397963248\n",
       ":   0.08973847367724649\n",
       ":   0.049410276550591250\n",
       ":   0.042279226221311151\n",
       ":   0.11075471961284652\n",
       ":   0.045948315781633553\n",
       ":   0.0723424904896954\n",
       ":   0.10924611388856455\n",
       ":   0.071327203137385856\n",
       ":   0.10602438430422657\n",
       ":   0.071763654877579758\n",
       ":   0.043433392813492559\n",
       ":   0.060514694062272660\n",
       ":   0.048943216503834961\n",
       ":   0.10939489468436362\n",
       ":   0.041471969743875363\n",
       ":   0.14011073181883964\n",
       ":   0.25512086421508565\n",
       ":   0.065344386569105466\n",
       ":   0.037409449460050667\n",
       ":   0.10605243608435368\n",
       ":   0.086760096405153369\n",
       ":   0.041052775092030870\n",
       ":   0.0477238994069571\n",
       ":   0.069786784260205672\n",
       ":   0.0483523134689373\n",
       ":   0.10877130546152674\n",
       ":   0.033948571026121375\n",
       ":   0.046037325430594176\n",
       ":   0.071048934893036777\n",
       ":   0.09061425050531778\n",
       ":   0.11382064374921679\n",
       ":   0.10316351162359480\n",
       ":   0.047999028850549881\n",
       ":   0.16837884595020282\n",
       ":   0.085973100573275583\n",
       ":   0.052104638355914184\n",
       ":   0.098847789322962385\n",
       ":   0.096344237218025486\n",
       ":   0.063444702712144987\n",
       ":   0.045155066806200288\n",
       ":   0.07035836280570489\n",
       ":   0.044077412854549290\n",
       ":   0.045083328433105991\n",
       ":   0.10750459414969792\n",
       ":   0.060865088271815393\n",
       ":   0.059937397380403594\n",
       ":   0.075717455395357795\n",
       ":   0.098814850774108496\n",
       ":   0.043835718903034397\n",
       ":   0.041123503108287598\n",
       ":   0.031913694274028599\n",
       ":   0.0979894668717573100\n",
       ":   0.114354574367793101\n",
       ":   0.0682672428548493102\n",
       ":   0.0609946755291355103\n",
       ":   0.0479515921497769104\n",
       ":   0.0507693831079944105\n",
       ":   0.0394286556080287106\n",
       ":   0.0763743940847067107\n",
       ":   0.0708684135836628\n",
       "\n"
      ],
      "text/plain": [
       "         1          2          3          4          5          6          7 \n",
       "0.02178708 0.03512995 0.07746800 0.03865031 0.05778326 0.06962982 0.10146704 \n",
       "         8          9         10         11         12         13         14 \n",
       "0.03675676 0.04262082 0.08698019 0.07293398 0.13680928 0.07279567 0.05030808 \n",
       "        15         16         17         18         19         20         21 \n",
       "0.10561345 0.11175010 0.04840864 0.15056403 0.10603994 0.08248920 0.07039208 \n",
       "        22         23         24         25         26         27         28 \n",
       "0.05586599 0.38482959 0.06344764 0.04018857 0.04366726 0.03879095 0.06088842 \n",
       "        29         30         31         32         33         34         35 \n",
       "0.06754655 0.03502440 0.04440550 0.08402614 0.04276507 0.07320432 0.04260517 \n",
       "        36         37         38         39         40         41         42 \n",
       "0.09501693 0.05099943 0.06812771 0.04192739 0.04816981 0.07282424 0.08768667 \n",
       "        43         44         45         46         47         48         49 \n",
       "0.05417283 0.13455301 0.10934475 0.03738041 0.04397502 0.08973847 0.04941028 \n",
       "        50         51         52         53         54         55         56 \n",
       "0.04227923 0.11075472 0.04594832 0.07234249 0.10924611 0.07132720 0.10602438 \n",
       "        57         58         59         60         61         62         63 \n",
       "0.07176365 0.04343339 0.06051469 0.04894322 0.10939489 0.04147197 0.14011073 \n",
       "        64         65         66         67         68         69         70 \n",
       "0.25512086 0.06534439 0.03740945 0.10605244 0.08676010 0.04105278 0.04772390 \n",
       "        71         72         73         74         75         76         77 \n",
       "0.06978678 0.04835231 0.10877131 0.03394857 0.04603733 0.07104893 0.09061425 \n",
       "        78         79         80         81         82         83         84 \n",
       "0.11382064 0.10316351 0.04799903 0.16837885 0.08597310 0.05210464 0.09884779 \n",
       "        85         86         87         88         89         90         91 \n",
       "0.09634424 0.06344470 0.04515507 0.07035836 0.04407741 0.04508333 0.10750459 \n",
       "        92         93         94         95         96         97         98 \n",
       "0.06086509 0.05993740 0.07571746 0.09881485 0.04383572 0.04112350 0.03191369 \n",
       "        99        100        101        102        103        104        105 \n",
       "0.09798947 0.11435457 0.06826724 0.06099468 0.04795159 0.05076938 0.03942866 \n",
       "       106        107 \n",
       "0.07637439 0.07086841 "
      ]
     },
     "metadata": {},
     "output_type": "display_data"
    },
    {
     "data": {
      "text/html": [
       "<style>\n",
       ".dl-inline {width: auto; margin:0; padding: 0}\n",
       ".dl-inline>dt, .dl-inline>dd {float: none; width: auto; display: inline-block}\n",
       ".dl-inline>dt::after {content: \":\\0020\"; padding-right: .5ex}\n",
       ".dl-inline>dt:not(:first-of-type) {padding-left: .5ex}\n",
       "</style><dl class=dl-inline><dt>18</dt><dd>18</dd><dt>23</dt><dd>23</dd><dt>64</dt><dd>64</dd><dt>81</dt><dd>81</dd></dl>\n"
      ],
      "text/latex": [
       "\\begin{description*}\n",
       "\\item[18] 18\n",
       "\\item[23] 23\n",
       "\\item[64] 64\n",
       "\\item[81] 81\n",
       "\\end{description*}\n"
      ],
      "text/markdown": [
       "18\n",
       ":   1823\n",
       ":   2364\n",
       ":   6481\n",
       ":   81\n",
       "\n"
      ],
      "text/plain": [
       "18 23 64 81 \n",
       "18 23 64 81 "
      ]
     },
     "metadata": {},
     "output_type": "display_data"
    },
    {
     "data": {
      "image/png": "[encoded data removed]",
      "text/plain": [
       "plot without title"
      ]
     },
     "metadata": {
      "image/png": {
       "height": 420,
       "width": 420
      }
     },
     "output_type": "display_data"
    }
   ],
   "source": [
    "#alavancagem\n",
    "hatvalues(fit)\n",
    "h_bar<-fit$rank / n\n",
    "limite<-2*h_bar\n",
    "abline(plot(hatvalues(fit),ylab=\"Alavancagem\"), \n",
    "       col=\"red\", h=limite,lty=2)\n",
    "which(hatvalues(fit)>limite)"
   ]
  },
  {
   "cell_type": "markdown",
   "metadata": {
    "vscode": {
     "languageId": "r"
    }
   },
   "source": [
    "Temos 3 observações completemente fora do tracejado do gráfico acima. Provávelmente alguma daquelas observações com o asterisco"
   ]
  },
  {
   "cell_type": "code",
   "execution_count": 23,
   "metadata": {
    "vscode": {
     "languageId": "r"
    }
   },
   "outputs": [
    {
     "data": {
      "text/html": [
       "<style>\n",
       ".dl-inline {width: auto; margin:0; padding: 0}\n",
       ".dl-inline>dt, .dl-inline>dd {float: none; width: auto; display: inline-block}\n",
       ".dl-inline>dt::after {content: \":\\0020\"; padding-right: .5ex}\n",
       ".dl-inline>dt:not(:first-of-type) {padding-left: .5ex}\n",
       "</style><dl class=dl-inline><dt>1</dt><dd>0.18720562247237</dd><dt>2</dt><dd>-0.358181358553331</dd><dt>3</dt><dd>-0.302019837719258</dd><dt>4</dt><dd>0.299026963714129</dd><dt>5</dt><dd>0.0396652626671895</dd><dt>6</dt><dd>-0.118072201274957</dd><dt>7</dt><dd>0.0203580396378367</dd><dt>8</dt><dd>-0.108844331931419</dd><dt>9</dt><dd>0.154952226835936</dd><dt>10</dt><dd>-0.239316328455624</dd><dt>11</dt><dd>0.304203373814972</dd><dt>12</dt><dd>0.493056042480428</dd><dt>13</dt><dd>0.146874442655905</dd><dt>14</dt><dd>-0.00498947734222944</dd><dt>15</dt><dd>0.22448974863598</dd><dt>16</dt><dd>0.163566878915975</dd><dt>17</dt><dd>0.200165149730124</dd><dt>18</dt><dd>-0.179268672840669</dd><dt>19</dt><dd>-0.485573906177261</dd><dt>20</dt><dd>0.0375988491542865</dd><dt>21</dt><dd>0.112909970443588</dd><dt>22</dt><dd>0.00292669516760348</dd><dt>23</dt><dd>-2.14414485752861</dd><dt>24</dt><dd>0.0858183737618702</dd><dt>25</dt><dd>0.101214086462608</dd><dt>26</dt><dd>-0.46557925103845</dd><dt>27</dt><dd>-0.0160292189427289</dd><dt>28</dt><dd>-0.253568447101982</dd><dt>29</dt><dd>-0.104693497060232</dd><dt>30</dt><dd>-0.263499818491686</dd><dt>31</dt><dd>-0.01853672861805</dd><dt>32</dt><dd>0.0726887234003242</dd><dt>33</dt><dd>-0.152813584101328</dd><dt>34</dt><dd>-0.579645453104982</dd><dt>35</dt><dd>-0.122545929845774</dd><dt>36</dt><dd>0.541852649242333</dd><dt>37</dt><dd>0.0957269158730552</dd><dt>38</dt><dd>-0.113592229737786</dd><dt>39</dt><dd>-0.034777931163067</dd><dt>40</dt><dd>-0.124014697190278</dd><dt>41</dt><dd>0.531967244452323</dd><dt>42</dt><dd>-0.167624029689241</dd><dt>43</dt><dd>-0.426016128686775</dd><dt>44</dt><dd>0.381153536788178</dd><dt>45</dt><dd>0.0971480708287676</dd><dt>46</dt><dd>-0.219496718480259</dd><dt>47</dt><dd>-0.0549569570598856</dd><dt>48</dt><dd>-0.241238080297757</dd><dt>49</dt><dd>0.1011225749843</dd><dt>50</dt><dd>0.207788515539316</dd><dt>51</dt><dd>0.0516868826086138</dd><dt>52</dt><dd>-0.0757160618046394</dd><dt>53</dt><dd>-0.155946370259482</dd><dt>54</dt><dd>-0.421475871303854</dd><dt>55</dt><dd>-0.138091661462023</dd><dt>56</dt><dd>-0.266888987928761</dd><dt>57</dt><dd>0.114646920916544</dd><dt>58</dt><dd>-0.0399924018539785</dd><dt>59</dt><dd>0.396142484145364</dd><dt>60</dt><dd>-0.17878415780953</dd><dt>61</dt><dd>0.0413124986430217</dd><dt>62</dt><dd>0.201222887033452</dd><dt>63</dt><dd>-0.00292105936238526</dd><dt>64</dt><dd>0.518897557466407</dd><dt>65</dt><dd>-0.191899436551401</dd><dt>66</dt><dd>-0.0780044118048569</dd><dt>67</dt><dd>-0.124334441622147</dd><dt>68</dt><dd>-0.0867294942722069</dd><dt>69</dt><dd>0.297550121725711</dd><dt>70</dt><dd>0.237011778859123</dd><dt>71</dt><dd>0.214127344331244</dd><dt>72</dt><dd>0.224428600210352</dd><dt>73</dt><dd>0.722434109033831</dd><dt>74</dt><dd>0.0274664204639274</dd><dt>75</dt><dd>-0.230194053606475</dd><dt>76</dt><dd>-0.252050503512372</dd><dt>77</dt><dd>-0.327529978224389</dd><dt>78</dt><dd>-0.328056791751059</dd><dt>79</dt><dd>-0.0335013864450603</dd><dt>80</dt><dd>0.507972608851306</dd><dt>81</dt><dd>-0.10826668916126</dd><dt>82</dt><dd>-0.0486887081924277</dd><dt>83</dt><dd>0.0249863268422122</dd><dt>84</dt><dd>-0.532711872141498</dd><dt>85</dt><dd>0.28590272327405</dd><dt>86</dt><dd>-0.542049764425133</dd><dt>87</dt><dd>0.297342055063659</dd><dt>88</dt><dd>-0.545623366488822</dd><dt>89</dt><dd>0.2324443819804</dd><dt>90</dt><dd>0.159033713165324</dd><dt>91</dt><dd>-0.307839541425771</dd><dt>92</dt><dd>0.296268846484456</dd><dt>93</dt><dd>-0.16114771303689</dd><dt>94</dt><dd>0.645757185124638</dd><dt>95</dt><dd>-0.200064926459235</dd><dt>96</dt><dd>0.229934833575036</dd><dt>97</dt><dd>-0.0509520263485321</dd><dt>98</dt><dd>-0.0495821290356219</dd><dt>99</dt><dd>-0.507351854403302</dd><dt>100</dt><dd>0.420416815252506</dd><dt>101</dt><dd>-0.0582673673421737</dd><dt>102</dt><dd>0.121063211353062</dd><dt>103</dt><dd>0.115681436012132</dd><dt>104</dt><dd>0.0505760126688558</dd><dt>105</dt><dd>0.276566615783486</dd><dt>106</dt><dd>0.294380964970216</dd><dt>107</dt><dd>0.0817883814898353</dd></dl>\n"
      ],
      "text/latex": [
       "\\begin{description*}\n",
       "\\item[1] 0.18720562247237\n",
       "\\item[2] -0.358181358553331\n",
       "\\item[3] -0.302019837719258\n",
       "\\item[4] 0.299026963714129\n",
       "\\item[5] 0.0396652626671895\n",
       "\\item[6] -0.118072201274957\n",
       "\\item[7] 0.0203580396378367\n",
       "\\item[8] -0.108844331931419\n",
       "\\item[9] 0.154952226835936\n",
       "\\item[10] -0.239316328455624\n",
       "\\item[11] 0.304203373814972\n",
       "\\item[12] 0.493056042480428\n",
       "\\item[13] 0.146874442655905\n",
       "\\item[14] -0.00498947734222944\n",
       "\\item[15] 0.22448974863598\n",
       "\\item[16] 0.163566878915975\n",
       "\\item[17] 0.200165149730124\n",
       "\\item[18] -0.179268672840669\n",
       "\\item[19] -0.485573906177261\n",
       "\\item[20] 0.0375988491542865\n",
       "\\item[21] 0.112909970443588\n",
       "\\item[22] 0.00292669516760348\n",
       "\\item[23] -2.14414485752861\n",
       "\\item[24] 0.0858183737618702\n",
       "\\item[25] 0.101214086462608\n",
       "\\item[26] -0.46557925103845\n",
       "\\item[27] -0.0160292189427289\n",
       "\\item[28] -0.253568447101982\n",
       "\\item[29] -0.104693497060232\n",
       "\\item[30] -0.263499818491686\n",
       "\\item[31] -0.01853672861805\n",
       "\\item[32] 0.0726887234003242\n",
       "\\item[33] -0.152813584101328\n",
       "\\item[34] -0.579645453104982\n",
       "\\item[35] -0.122545929845774\n",
       "\\item[36] 0.541852649242333\n",
       "\\item[37] 0.0957269158730552\n",
       "\\item[38] -0.113592229737786\n",
       "\\item[39] -0.034777931163067\n",
       "\\item[40] -0.124014697190278\n",
       "\\item[41] 0.531967244452323\n",
       "\\item[42] -0.167624029689241\n",
       "\\item[43] -0.426016128686775\n",
       "\\item[44] 0.381153536788178\n",
       "\\item[45] 0.0971480708287676\n",
       "\\item[46] -0.219496718480259\n",
       "\\item[47] -0.0549569570598856\n",
       "\\item[48] -0.241238080297757\n",
       "\\item[49] 0.1011225749843\n",
       "\\item[50] 0.207788515539316\n",
       "\\item[51] 0.0516868826086138\n",
       "\\item[52] -0.0757160618046394\n",
       "\\item[53] -0.155946370259482\n",
       "\\item[54] -0.421475871303854\n",
       "\\item[55] -0.138091661462023\n",
       "\\item[56] -0.266888987928761\n",
       "\\item[57] 0.114646920916544\n",
       "\\item[58] -0.0399924018539785\n",
       "\\item[59] 0.396142484145364\n",
       "\\item[60] -0.17878415780953\n",
       "\\item[61] 0.0413124986430217\n",
       "\\item[62] 0.201222887033452\n",
       "\\item[63] -0.00292105936238526\n",
       "\\item[64] 0.518897557466407\n",
       "\\item[65] -0.191899436551401\n",
       "\\item[66] -0.0780044118048569\n",
       "\\item[67] -0.124334441622147\n",
       "\\item[68] -0.0867294942722069\n",
       "\\item[69] 0.297550121725711\n",
       "\\item[70] 0.237011778859123\n",
       "\\item[71] 0.214127344331244\n",
       "\\item[72] 0.224428600210352\n",
       "\\item[73] 0.722434109033831\n",
       "\\item[74] 0.0274664204639274\n",
       "\\item[75] -0.230194053606475\n",
       "\\item[76] -0.252050503512372\n",
       "\\item[77] -0.327529978224389\n",
       "\\item[78] -0.328056791751059\n",
       "\\item[79] -0.0335013864450603\n",
       "\\item[80] 0.507972608851306\n",
       "\\item[81] -0.10826668916126\n",
       "\\item[82] -0.0486887081924277\n",
       "\\item[83] 0.0249863268422122\n",
       "\\item[84] -0.532711872141498\n",
       "\\item[85] 0.28590272327405\n",
       "\\item[86] -0.542049764425133\n",
       "\\item[87] 0.297342055063659\n",
       "\\item[88] -0.545623366488822\n",
       "\\item[89] 0.2324443819804\n",
       "\\item[90] 0.159033713165324\n",
       "\\item[91] -0.307839541425771\n",
       "\\item[92] 0.296268846484456\n",
       "\\item[93] -0.16114771303689\n",
       "\\item[94] 0.645757185124638\n",
       "\\item[95] -0.200064926459235\n",
       "\\item[96] 0.229934833575036\n",
       "\\item[97] -0.0509520263485321\n",
       "\\item[98] -0.0495821290356219\n",
       "\\item[99] -0.507351854403302\n",
       "\\item[100] 0.420416815252506\n",
       "\\item[101] -0.0582673673421737\n",
       "\\item[102] 0.121063211353062\n",
       "\\item[103] 0.115681436012132\n",
       "\\item[104] 0.0505760126688558\n",
       "\\item[105] 0.276566615783486\n",
       "\\item[106] 0.294380964970216\n",
       "\\item[107] 0.0817883814898353\n",
       "\\end{description*}\n"
      ],
      "text/markdown": [
       "1\n",
       ":   0.187205622472372\n",
       ":   -0.3581813585533313\n",
       ":   -0.3020198377192584\n",
       ":   0.2990269637141295\n",
       ":   0.03966526266718956\n",
       ":   -0.1180722012749577\n",
       ":   0.02035803963783678\n",
       ":   -0.1088443319314199\n",
       ":   0.15495222683593610\n",
       ":   -0.23931632845562411\n",
       ":   0.30420337381497212\n",
       ":   0.49305604248042813\n",
       ":   0.14687444265590514\n",
       ":   -0.0049894773422294415\n",
       ":   0.2244897486359816\n",
       ":   0.16356687891597517\n",
       ":   0.20016514973012418\n",
       ":   -0.17926867284066919\n",
       ":   -0.48557390617726120\n",
       ":   0.037598849154286521\n",
       ":   0.11290997044358822\n",
       ":   0.0029266951676034823\n",
       ":   -2.1441448575286124\n",
       ":   0.085818373761870225\n",
       ":   0.10121408646260826\n",
       ":   -0.4655792510384527\n",
       ":   -0.016029218942728928\n",
       ":   -0.25356844710198229\n",
       ":   -0.10469349706023230\n",
       ":   -0.26349981849168631\n",
       ":   -0.0185367286180532\n",
       ":   0.072688723400324233\n",
       ":   -0.15281358410132834\n",
       ":   -0.57964545310498235\n",
       ":   -0.12254592984577436\n",
       ":   0.54185264924233337\n",
       ":   0.095726915873055238\n",
       ":   -0.11359222973778639\n",
       ":   -0.03477793116306740\n",
       ":   -0.12401469719027841\n",
       ":   0.53196724445232342\n",
       ":   -0.16762402968924143\n",
       ":   -0.42601612868677544\n",
       ":   0.38115353678817845\n",
       ":   0.097148070828767646\n",
       ":   -0.21949671848025947\n",
       ":   -0.054956957059885648\n",
       ":   -0.24123808029775749\n",
       ":   0.101122574984350\n",
       ":   0.20778851553931651\n",
       ":   0.051686882608613852\n",
       ":   -0.075716061804639453\n",
       ":   -0.15594637025948254\n",
       ":   -0.42147587130385455\n",
       ":   -0.13809166146202356\n",
       ":   -0.26688898792876157\n",
       ":   0.11464692091654458\n",
       ":   -0.039992401853978559\n",
       ":   0.39614248414536460\n",
       ":   -0.1787841578095361\n",
       ":   0.041312498643021762\n",
       ":   0.20122288703345263\n",
       ":   -0.0029210593623852664\n",
       ":   0.51889755746640765\n",
       ":   -0.19189943655140166\n",
       ":   -0.078004411804856967\n",
       ":   -0.12433444162214768\n",
       ":   -0.086729494272206969\n",
       ":   0.29755012172571170\n",
       ":   0.23701177885912371\n",
       ":   0.21412734433124472\n",
       ":   0.22442860021035273\n",
       ":   0.72243410903383174\n",
       ":   0.027466420463927475\n",
       ":   -0.23019405360647576\n",
       ":   -0.25205050351237277\n",
       ":   -0.32752997822438978\n",
       ":   -0.32805679175105979\n",
       ":   -0.033501386445060380\n",
       ":   0.50797260885130681\n",
       ":   -0.1082666891612682\n",
       ":   -0.048688708192427783\n",
       ":   0.024986326842212284\n",
       ":   -0.53271187214149885\n",
       ":   0.2859027232740586\n",
       ":   -0.54204976442513387\n",
       ":   0.29734205506365988\n",
       ":   -0.54562336648882289\n",
       ":   0.232444381980490\n",
       ":   0.15903371316532491\n",
       ":   -0.30783954142577192\n",
       ":   0.29626884648445693\n",
       ":   -0.1611477130368994\n",
       ":   0.64575718512463895\n",
       ":   -0.20006492645923596\n",
       ":   0.22993483357503697\n",
       ":   -0.050952026348532198\n",
       ":   -0.049582129035621999\n",
       ":   -0.507351854403302100\n",
       ":   0.420416815252506101\n",
       ":   -0.0582673673421737102\n",
       ":   0.121063211353062103\n",
       ":   0.115681436012132104\n",
       ":   0.0505760126688558105\n",
       ":   0.276566615783486106\n",
       ":   0.294380964970216107\n",
       ":   0.0817883814898353\n",
       "\n"
      ],
      "text/plain": [
       "           1            2            3            4            5            6 \n",
       " 0.187205622 -0.358181359 -0.302019838  0.299026964  0.039665263 -0.118072201 \n",
       "           7            8            9           10           11           12 \n",
       " 0.020358040 -0.108844332  0.154952227 -0.239316328  0.304203374  0.493056042 \n",
       "          13           14           15           16           17           18 \n",
       " 0.146874443 -0.004989477  0.224489749  0.163566879  0.200165150 -0.179268673 \n",
       "          19           20           21           22           23           24 \n",
       "-0.485573906  0.037598849  0.112909970  0.002926695 -2.144144858  0.085818374 \n",
       "          25           26           27           28           29           30 \n",
       " 0.101214086 -0.465579251 -0.016029219 -0.253568447 -0.104693497 -0.263499818 \n",
       "          31           32           33           34           35           36 \n",
       "-0.018536729  0.072688723 -0.152813584 -0.579645453 -0.122545930  0.541852649 \n",
       "          37           38           39           40           41           42 \n",
       " 0.095726916 -0.113592230 -0.034777931 -0.124014697  0.531967244 -0.167624030 \n",
       "          43           44           45           46           47           48 \n",
       "-0.426016129  0.381153537  0.097148071 -0.219496718 -0.054956957 -0.241238080 \n",
       "          49           50           51           52           53           54 \n",
       " 0.101122575  0.207788516  0.051686883 -0.075716062 -0.155946370 -0.421475871 \n",
       "          55           56           57           58           59           60 \n",
       "-0.138091661 -0.266888988  0.114646921 -0.039992402  0.396142484 -0.178784158 \n",
       "          61           62           63           64           65           66 \n",
       " 0.041312499  0.201222887 -0.002921059  0.518897557 -0.191899437 -0.078004412 \n",
       "          67           68           69           70           71           72 \n",
       "-0.124334442 -0.086729494  0.297550122  0.237011779  0.214127344  0.224428600 \n",
       "          73           74           75           76           77           78 \n",
       " 0.722434109  0.027466420 -0.230194054 -0.252050504 -0.327529978 -0.328056792 \n",
       "          79           80           81           82           83           84 \n",
       "-0.033501386  0.507972609 -0.108266689 -0.048688708  0.024986327 -0.532711872 \n",
       "          85           86           87           88           89           90 \n",
       " 0.285902723 -0.542049764  0.297342055 -0.545623366  0.232444382  0.159033713 \n",
       "          91           92           93           94           95           96 \n",
       "-0.307839541  0.296268846 -0.161147713  0.645757185 -0.200064926  0.229934834 \n",
       "          97           98           99          100          101          102 \n",
       "-0.050952026 -0.049582129 -0.507351854  0.420416815 -0.058267367  0.121063211 \n",
       "         103          104          105          106          107 \n",
       " 0.115681436  0.050576013  0.276566616  0.294380965  0.081788381 "
      ]
     },
     "metadata": {},
     "output_type": "display_data"
    },
    {
     "data": {
      "text/html": [
       "<style>\n",
       ".dl-inline {width: auto; margin:0; padding: 0}\n",
       ".dl-inline>dt, .dl-inline>dd {float: none; width: auto; display: inline-block}\n",
       ".dl-inline>dt::after {content: \":\\0020\"; padding-right: .5ex}\n",
       ".dl-inline>dt:not(:first-of-type) {padding-left: .5ex}\n",
       "</style><dl class=dl-inline><dt>23</dt><dd>23</dd><dt>34</dt><dd>34</dd><dt>73</dt><dd>73</dd><dt>94</dt><dd>94</dd></dl>\n"
      ],
      "text/latex": [
       "\\begin{description*}\n",
       "\\item[23] 23\n",
       "\\item[34] 34\n",
       "\\item[73] 73\n",
       "\\item[94] 94\n",
       "\\end{description*}\n"
      ],
      "text/markdown": [
       "23\n",
       ":   2334\n",
       ":   3473\n",
       ":   7394\n",
       ":   94\n",
       "\n"
      ],
      "text/plain": [
       "23 34 73 94 \n",
       "23 34 73 94 "
      ]
     },
     "metadata": {},
     "output_type": "display_data"
    },
    {
     "data": {
      "image/png": "[encoded data removed]",
      "text/plain": [
       "plot without title"
      ]
     },
     "metadata": {
      "image/png": {
       "height": 420,
       "width": 420
      }
     },
     "output_type": "display_data"
    }
   ],
   "source": [
    "#DFFIT\n",
    "dffits(fit)\n",
    "limite<-2*sqrt(fit$rank / n)\n",
    "abline(plot(dffits(fit),ylab=\"DFFITS\"), \n",
    "       col=\"red\", h=c(-limite,limite),lty=2)\n",
    "which(abs(dffits(fit))>limite)"
   ]
  },
  {
   "cell_type": "markdown",
   "metadata": {},
   "source": [
    "Aqui duas possíveis observações que podem influenciar o modelo, e podemos tirá-las para ajustar novamente o modelo"
   ]
  },
  {
   "cell_type": "code",
   "execution_count": 24,
   "metadata": {
    "vscode": {
     "languageId": "r"
    }
   },
   "outputs": [
    {
     "data": {
      "text/html": [
       "<table class=\"dataframe\">\n",
       "<caption>A matrix: 107 × 8 of type dbl</caption>\n",
       "<thead>\n",
       "\t<tr><th></th><th scope=col>(Intercept)</th><th scope=col>x1</th><th scope=col>x2</th><th scope=col>x3</th><th scope=col>x4</th><th scope=col>x5</th><th scope=col>x6</th><th scope=col>x7</th></tr>\n",
       "</thead>\n",
       "<tbody>\n",
       "\t<tr><th scope=row>1</th><td>-0.0319532557</td><td> 0.090716025</td><td> 4.554906e-02</td><td>-0.001743729</td><td>-0.0043873271</td><td> 0.0445110727</td><td>-0.0766907608</td><td> 0.0143512373</td></tr>\n",
       "\t<tr><th scope=row>2</th><td>-0.1481766543</td><td>-0.155017826</td><td> 1.028733e-02</td><td>-0.153480991</td><td> 0.1579369300</td><td>-0.1639399754</td><td> 0.0957012843</td><td> 0.1840414071</td></tr>\n",
       "\t<tr><th scope=row>3</th><td>-0.0574803948</td><td>-0.088067652</td><td>-6.467799e-02</td><td> 0.024366251</td><td>-0.0714420820</td><td> 0.0643584692</td><td>-0.0948040645</td><td> 0.1191792414</td></tr>\n",
       "\t<tr><th scope=row>4</th><td> 0.0356763727</td><td> 0.126941010</td><td>-8.238970e-02</td><td> 0.003034729</td><td>-0.0544895341</td><td>-0.0665128595</td><td>-0.0116903140</td><td> 0.0639530205</td></tr>\n",
       "\t<tr><th scope=row>5</th><td> 0.0087152829</td><td> 0.012182781</td><td>-2.696485e-02</td><td> 0.002889713</td><td>-0.0021528073</td><td>-0.0160407965</td><td> 0.0012727978</td><td> 0.0065029333</td></tr>\n",
       "\t<tr><th scope=row>6</th><td>-0.0349187231</td><td>-0.039956178</td><td>-2.352637e-02</td><td> 0.059243860</td><td>-0.0551891315</td><td>-0.0325226668</td><td>-0.0293966789</td><td> 0.0536267016</td></tr>\n",
       "\t<tr><th scope=row>7</th><td> 0.0120059159</td><td>-0.004908990</td><td> 7.317087e-03</td><td> 0.004748506</td><td>-0.0068379112</td><td>-0.0068989696</td><td> 0.0060070783</td><td>-0.0109134578</td></tr>\n",
       "\t<tr><th scope=row>8</th><td>-0.0398592013</td><td>-0.045342977</td><td> 3.078345e-02</td><td>-0.031053134</td><td> 0.0255915297</td><td>-0.0411821909</td><td>-0.0396732219</td><td> 0.0495393184</td></tr>\n",
       "\t<tr><th scope=row>9</th><td> 0.0213456578</td><td> 0.065569307</td><td> 3.176228e-02</td><td> 0.005743587</td><td>-0.0155551185</td><td>-0.1077127314</td><td>-0.0282088493</td><td> 0.0070373244</td></tr>\n",
       "\t<tr><th scope=row>10</th><td>-0.1240203444</td><td>-0.075844616</td><td> 1.254672e-01</td><td>-0.104435204</td><td> 0.1230739853</td><td> 0.0686207575</td><td> 0.0096104568</td><td> 0.0386522918</td></tr>\n",
       "\t<tr><th scope=row>11</th><td>-0.0702041444</td><td>-0.129226485</td><td> 1.796342e-01</td><td>-0.042332659</td><td>-0.0013154320</td><td>-0.0446255163</td><td>-0.0720740798</td><td> 0.0820825864</td></tr>\n",
       "\t<tr><th scope=row>12</th><td>-0.0940449441</td><td>-0.208464409</td><td>-2.802271e-01</td><td> 0.042147451</td><td> 0.0448626022</td><td> 0.0504845291</td><td> 0.1691786863</td><td> 0.1402865863</td></tr>\n",
       "\t<tr><th scope=row>13</th><td> 0.0484997906</td><td> 0.053424314</td><td> 5.381660e-02</td><td> 0.013242221</td><td>-0.0054424542</td><td>-0.0530200685</td><td> 0.0637867295</td><td>-0.0721035101</td></tr>\n",
       "\t<tr><th scope=row>14</th><td>-0.0003781097</td><td>-0.001780288</td><td> 9.531249e-05</td><td> 0.002862420</td><td>-0.0022271913</td><td>-0.0019579288</td><td>-0.0004725527</td><td> 0.0003399918</td></tr>\n",
       "\t<tr><th scope=row>15</th><td> 0.0930947220</td><td>-0.082682048</td><td>-1.232830e-01</td><td>-0.099270666</td><td> 0.0904080566</td><td>-0.0336866370</td><td>-0.0537083527</td><td> 0.0012445162</td></tr>\n",
       "\t<tr><th scope=row>16</th><td> 0.0461691586</td><td>-0.064820528</td><td>-8.093478e-02</td><td>-0.090978657</td><td> 0.0874721195</td><td> 0.0533981922</td><td>-0.0561677940</td><td>-0.0036709912</td></tr>\n",
       "\t<tr><th scope=row>17</th><td> 0.0902200583</td><td> 0.084643526</td><td> 4.185412e-02</td><td> 0.057122092</td><td>-0.0830913146</td><td> 0.0298464815</td><td>-0.0770600607</td><td>-0.0894534176</td></tr>\n",
       "\t<tr><th scope=row>18</th><td> 0.0348996498</td><td>-0.028835362</td><td> 7.248636e-02</td><td> 0.059659021</td><td>-0.0359405832</td><td>-0.0889453488</td><td>-0.0282356785</td><td>-0.0602857447</td></tr>\n",
       "\t<tr><th scope=row>19</th><td> 0.1356039470</td><td>-0.121235522</td><td>-2.366324e-01</td><td> 0.273103368</td><td>-0.2271163119</td><td> 0.2593053657</td><td> 0.0917240395</td><td>-0.1691094798</td></tr>\n",
       "\t<tr><th scope=row>20</th><td> 0.0173593220</td><td>-0.012547151</td><td> 1.007488e-02</td><td> 0.002064114</td><td>-0.0088098587</td><td> 0.0054816206</td><td>-0.0119946590</td><td>-0.0133484955</td></tr>\n",
       "\t<tr><th scope=row>21</th><td> 0.0276305219</td><td> 0.028486030</td><td>-8.485946e-02</td><td> 0.049185655</td><td>-0.0416633570</td><td> 0.0368532172</td><td> 0.0164921518</td><td>-0.0119694802</td></tr>\n",
       "\t<tr><th scope=row>22</th><td> 0.0022663337</td><td>-0.001369444</td><td>-1.026666e-03</td><td> 0.000208782</td><td>-0.0002004524</td><td> 0.0006542665</td><td>-0.0006856299</td><td>-0.0016952140</td></tr>\n",
       "\t<tr><th scope=row>23</th><td> 1.6780765606</td><td>-0.141977988</td><td>-9.472899e-01</td><td>-0.352577836</td><td> 0.3362391413</td><td>-0.2653350213</td><td>-0.8296841593</td><td>-1.1142821241</td></tr>\n",
       "\t<tr><th scope=row>24</th><td> 0.0426071050</td><td>-0.041283620</td><td>-2.958804e-02</td><td>-0.037271303</td><td> 0.0380432746</td><td> 0.0091298938</td><td>-0.0322119327</td><td>-0.0210294614</td></tr>\n",
       "\t<tr><th scope=row>25</th><td> 0.0040814698</td><td> 0.047295181</td><td> 5.058106e-02</td><td>-0.014597580</td><td>-0.0038101819</td><td>-0.0321933425</td><td> 0.0110690278</td><td>-0.0017584990</td></tr>\n",
       "\t<tr><th scope=row>26</th><td>-0.0419900691</td><td>-0.203824549</td><td>-1.873696e-01</td><td>-0.200806469</td><td> 0.2523940533</td><td> 0.1846348304</td><td> 0.0315138231</td><td> 0.0280748960</td></tr>\n",
       "\t<tr><th scope=row>27</th><td>-0.0006134013</td><td> 0.010583477</td><td>-1.063158e-03</td><td>-0.005230974</td><td> 0.0037963212</td><td>-0.0026207258</td><td> 0.0064339911</td><td> 0.0004730508</td></tr>\n",
       "\t<tr><th scope=row>28</th><td>-0.0441135189</td><td> 0.123346491</td><td> 1.435355e-02</td><td> 0.108564632</td><td>-0.0947173661</td><td>-0.1322413295</td><td>-0.0420134207</td><td> 0.0417068364</td></tr>\n",
       "\t<tr><th scope=row>29</th><td> 0.0162872887</td><td>-0.032048597</td><td> 4.130076e-02</td><td> 0.001360740</td><td> 0.0125190799</td><td> 0.0225305052</td><td>-0.0560497058</td><td>-0.0466328255</td></tr>\n",
       "\t<tr><th scope=row>30</th><td> 0.0243436802</td><td>-0.096095735</td><td> 1.643455e-01</td><td>-0.055083072</td><td> 0.0567483185</td><td>-0.0039792465</td><td>-0.0636514795</td><td>-0.0875160526</td></tr>\n",
       "\t<tr><th scope=row>⋮</th><td>⋮</td><td>⋮</td><td>⋮</td><td>⋮</td><td>⋮</td><td>⋮</td><td>⋮</td><td>⋮</td></tr>\n",
       "\t<tr><th scope=row>78</th><td> 0.061000821</td><td> 0.14054249</td><td>-0.068545536</td><td> 0.070530003</td><td>-0.074443207</td><td>-0.2335258990</td><td> 0.164082215</td><td>-6.891560e-03</td></tr>\n",
       "\t<tr><th scope=row>79</th><td> 0.007266145</td><td> 0.01197528</td><td>-0.005232200</td><td>-0.017788579</td><td> 0.021591508</td><td> 0.0066598641</td><td>-0.004203228</td><td>-1.200148e-02</td></tr>\n",
       "\t<tr><th scope=row>80</th><td>-0.267014785</td><td> 0.16067165</td><td> 0.258586861</td><td>-0.089451645</td><td> 0.035882798</td><td> 0.0631287059</td><td>-0.131549046</td><td> 2.073471e-01</td></tr>\n",
       "\t<tr><th scope=row>81</th><td> 0.008180533</td><td>-0.02304150</td><td> 0.039458925</td><td> 0.002049260</td><td> 0.004247355</td><td> 0.0356518913</td><td>-0.092019502</td><td>-3.065319e-02</td></tr>\n",
       "\t<tr><th scope=row>82</th><td>-0.010382987</td><td>-0.01438622</td><td>-0.021390972</td><td>-0.009993014</td><td> 0.010159594</td><td>-0.0284427562</td><td> 0.001034731</td><td> 2.811329e-02</td></tr>\n",
       "\t<tr><th scope=row>83</th><td> 0.002817141</td><td>-0.01268862</td><td> 0.005342876</td><td> 0.011089524</td><td>-0.012940305</td><td>-0.0006440875</td><td>-0.009019513</td><td> 2.811716e-05</td></tr>\n",
       "\t<tr><th scope=row>84</th><td>-0.243055616</td><td> 0.20784140</td><td> 0.279075607</td><td>-0.320072307</td><td> 0.273662701</td><td>-0.1890941233</td><td>-0.047328584</td><td> 1.952391e-01</td></tr>\n",
       "\t<tr><th scope=row>85</th><td>-0.115904977</td><td> 0.06722418</td><td> 0.049141624</td><td>-0.196771538</td><td> 0.183538452</td><td>-0.1115715238</td><td> 0.118277297</td><td> 1.328874e-01</td></tr>\n",
       "\t<tr><th scope=row>86</th><td> 0.206860021</td><td>-0.10819971</td><td> 0.234110833</td><td> 0.169458304</td><td>-0.162326021</td><td>-0.0831722383</td><td> 0.201332417</td><td>-3.231571e-01</td></tr>\n",
       "\t<tr><th scope=row>87</th><td> 0.069438415</td><td>-0.16650536</td><td>-0.109778546</td><td> 0.049516233</td><td>-0.082627013</td><td> 0.0733276071</td><td>-0.013845912</td><td> 1.858118e-02</td></tr>\n",
       "\t<tr><th scope=row>88</th><td>-0.332363624</td><td>-0.19646731</td><td> 0.092721045</td><td>-0.035701994</td><td> 0.020238562</td><td> 0.3154041523</td><td> 0.011471186</td><td> 2.224451e-01</td></tr>\n",
       "\t<tr><th scope=row>89</th><td> 0.016573291</td><td> 0.09152958</td><td>-0.007165692</td><td>-0.033051959</td><td> 0.015876724</td><td>-0.1575049596</td><td>-0.038445366</td><td> 5.172659e-02</td></tr>\n",
       "\t<tr><th scope=row>90</th><td>-0.025892644</td><td>-0.09953883</td><td> 0.015549049</td><td>-0.094946209</td><td> 0.097606724</td><td> 0.0179727542</td><td>-0.042657011</td><td> 3.832171e-02</td></tr>\n",
       "\t<tr><th scope=row>91</th><td> 0.118667500</td><td> 0.12150225</td><td>-0.139882084</td><td> 0.198237011</td><td>-0.191436260</td><td> 0.1103823197</td><td> 0.035578394</td><td>-1.315171e-01</td></tr>\n",
       "\t<tr><th scope=row>92</th><td> 0.036862736</td><td> 0.09014357</td><td>-0.081325070</td><td>-0.096372354</td><td> 0.123863360</td><td>-0.0178650982</td><td> 0.166601395</td><td>-3.771531e-02</td></tr>\n",
       "\t<tr><th scope=row>93</th><td>-0.101217763</td><td>-0.06243513</td><td>-0.023996302</td><td>-0.018635420</td><td> 0.006358256</td><td> 0.0206994224</td><td>-0.015340972</td><td> 1.210006e-01</td></tr>\n",
       "\t<tr><th scope=row>94</th><td>-0.266000531</td><td> 0.16231861</td><td>-0.006828549</td><td>-0.152867754</td><td> 0.075919989</td><td> 0.2606901842</td><td> 0.265016103</td><td> 2.403792e-01</td></tr>\n",
       "\t<tr><th scope=row>95</th><td>-0.053440408</td><td> 0.08324043</td><td> 0.124732418</td><td>-0.113686052</td><td> 0.090260337</td><td>-0.0277623478</td><td>-0.038543208</td><td> 2.082220e-02</td></tr>\n",
       "\t<tr><th scope=row>96</th><td> 0.037414802</td><td> 0.08855032</td><td> 0.054420029</td><td> 0.011639751</td><td> 0.020189570</td><td>-0.0714456634</td><td> 0.060517033</td><td>-7.600573e-02</td></tr>\n",
       "\t<tr><th scope=row>97</th><td>-0.003788605</td><td>-0.02201310</td><td>-0.005980875</td><td> 0.016169021</td><td>-0.005101306</td><td>-0.0002807270</td><td> 0.001213388</td><td>-3.579531e-03</td></tr>\n",
       "\t<tr><th scope=row>98</th><td>-0.015254783</td><td>-0.02214839</td><td>-0.011262665</td><td>-0.008553567</td><td> 0.007256487</td><td> 0.0041541402</td><td> 0.028053450</td><td> 1.743142e-02</td></tr>\n",
       "\t<tr><th scope=row>99</th><td> 0.187938504</td><td>-0.10005855</td><td> 0.044802644</td><td>-0.366373090</td><td> 0.337618557</td><td> 0.0614896708</td><td>-0.094148945</td><td>-1.841603e-01</td></tr>\n",
       "\t<tr><th scope=row>100</th><td> 0.052572217</td><td>-0.13586596</td><td> 0.153779354</td><td> 0.113601156</td><td>-0.107948032</td><td> 0.1852605431</td><td> 0.160434819</td><td>-1.695522e-01</td></tr>\n",
       "\t<tr><th scope=row>101</th><td> 0.028136116</td><td>-0.01077130</td><td>-0.002592450</td><td> 0.013247837</td><td>-0.021618617</td><td> 0.0157059243</td><td> 0.022109603</td><td>-2.792403e-02</td></tr>\n",
       "\t<tr><th scope=row>102</th><td>-0.057324517</td><td> 0.03114629</td><td> 0.056327081</td><td>-0.045870644</td><td> 0.059290760</td><td>-0.0119682532</td><td> 0.025969030</td><td> 2.451057e-02</td></tr>\n",
       "\t<tr><th scope=row>103</th><td>-0.006533882</td><td> 0.03828556</td><td> 0.048102466</td><td> 0.024756391</td><td>-0.026649563</td><td> 0.0500071877</td><td>-0.063051406</td><td>-2.033488e-02</td></tr>\n",
       "\t<tr><th scope=row>104</th><td>-0.018451095</td><td> 0.01286851</td><td>-0.003689383</td><td>-0.002731872</td><td> 0.008379496</td><td>-0.0211921392</td><td>-0.016978307</td><td> 2.377508e-02</td></tr>\n",
       "\t<tr><th scope=row>105</th><td>-0.024450147</td><td> 0.09023104</td><td> 0.009498554</td><td>-0.005330130</td><td> 0.058196119</td><td>-0.0780255183</td><td>-0.046884209</td><td> 3.380566e-03</td></tr>\n",
       "\t<tr><th scope=row>106</th><td>-0.122416688</td><td>-0.16355846</td><td> 0.016439509</td><td>-0.009617968</td><td> 0.059587298</td><td> 0.0193802256</td><td>-0.107840263</td><td> 1.086190e-01</td></tr>\n",
       "\t<tr><th scope=row>107</th><td> 0.043614304</td><td>-0.02661722</td><td> 0.024300138</td><td> 0.017027624</td><td>-0.025889099</td><td>-0.0271294068</td><td> 0.028629362</td><td>-3.588599e-02</td></tr>\n",
       "</tbody>\n",
       "</table>\n"
      ],
      "text/latex": [
       "A matrix: 107 × 8 of type dbl\n",
       "\\begin{tabular}{r|llllllll}\n",
       "  & (Intercept) & x1 & x2 & x3 & x4 & x5 & x6 & x7\\\\\n",
       "\\hline\n",
       "\t1 & -0.0319532557 &  0.090716025 &  4.554906e-02 & -0.001743729 & -0.0043873271 &  0.0445110727 & -0.0766907608 &  0.0143512373\\\\\n",
       "\t2 & -0.1481766543 & -0.155017826 &  1.028733e-02 & -0.153480991 &  0.1579369300 & -0.1639399754 &  0.0957012843 &  0.1840414071\\\\\n",
       "\t3 & -0.0574803948 & -0.088067652 & -6.467799e-02 &  0.024366251 & -0.0714420820 &  0.0643584692 & -0.0948040645 &  0.1191792414\\\\\n",
       "\t4 &  0.0356763727 &  0.126941010 & -8.238970e-02 &  0.003034729 & -0.0544895341 & -0.0665128595 & -0.0116903140 &  0.0639530205\\\\\n",
       "\t5 &  0.0087152829 &  0.012182781 & -2.696485e-02 &  0.002889713 & -0.0021528073 & -0.0160407965 &  0.0012727978 &  0.0065029333\\\\\n",
       "\t6 & -0.0349187231 & -0.039956178 & -2.352637e-02 &  0.059243860 & -0.0551891315 & -0.0325226668 & -0.0293966789 &  0.0536267016\\\\\n",
       "\t7 &  0.0120059159 & -0.004908990 &  7.317087e-03 &  0.004748506 & -0.0068379112 & -0.0068989696 &  0.0060070783 & -0.0109134578\\\\\n",
       "\t8 & -0.0398592013 & -0.045342977 &  3.078345e-02 & -0.031053134 &  0.0255915297 & -0.0411821909 & -0.0396732219 &  0.0495393184\\\\\n",
       "\t9 &  0.0213456578 &  0.065569307 &  3.176228e-02 &  0.005743587 & -0.0155551185 & -0.1077127314 & -0.0282088493 &  0.0070373244\\\\\n",
       "\t10 & -0.1240203444 & -0.075844616 &  1.254672e-01 & -0.104435204 &  0.1230739853 &  0.0686207575 &  0.0096104568 &  0.0386522918\\\\\n",
       "\t11 & -0.0702041444 & -0.129226485 &  1.796342e-01 & -0.042332659 & -0.0013154320 & -0.0446255163 & -0.0720740798 &  0.0820825864\\\\\n",
       "\t12 & -0.0940449441 & -0.208464409 & -2.802271e-01 &  0.042147451 &  0.0448626022 &  0.0504845291 &  0.1691786863 &  0.1402865863\\\\\n",
       "\t13 &  0.0484997906 &  0.053424314 &  5.381660e-02 &  0.013242221 & -0.0054424542 & -0.0530200685 &  0.0637867295 & -0.0721035101\\\\\n",
       "\t14 & -0.0003781097 & -0.001780288 &  9.531249e-05 &  0.002862420 & -0.0022271913 & -0.0019579288 & -0.0004725527 &  0.0003399918\\\\\n",
       "\t15 &  0.0930947220 & -0.082682048 & -1.232830e-01 & -0.099270666 &  0.0904080566 & -0.0336866370 & -0.0537083527 &  0.0012445162\\\\\n",
       "\t16 &  0.0461691586 & -0.064820528 & -8.093478e-02 & -0.090978657 &  0.0874721195 &  0.0533981922 & -0.0561677940 & -0.0036709912\\\\\n",
       "\t17 &  0.0902200583 &  0.084643526 &  4.185412e-02 &  0.057122092 & -0.0830913146 &  0.0298464815 & -0.0770600607 & -0.0894534176\\\\\n",
       "\t18 &  0.0348996498 & -0.028835362 &  7.248636e-02 &  0.059659021 & -0.0359405832 & -0.0889453488 & -0.0282356785 & -0.0602857447\\\\\n",
       "\t19 &  0.1356039470 & -0.121235522 & -2.366324e-01 &  0.273103368 & -0.2271163119 &  0.2593053657 &  0.0917240395 & -0.1691094798\\\\\n",
       "\t20 &  0.0173593220 & -0.012547151 &  1.007488e-02 &  0.002064114 & -0.0088098587 &  0.0054816206 & -0.0119946590 & -0.0133484955\\\\\n",
       "\t21 &  0.0276305219 &  0.028486030 & -8.485946e-02 &  0.049185655 & -0.0416633570 &  0.0368532172 &  0.0164921518 & -0.0119694802\\\\\n",
       "\t22 &  0.0022663337 & -0.001369444 & -1.026666e-03 &  0.000208782 & -0.0002004524 &  0.0006542665 & -0.0006856299 & -0.0016952140\\\\\n",
       "\t23 &  1.6780765606 & -0.141977988 & -9.472899e-01 & -0.352577836 &  0.3362391413 & -0.2653350213 & -0.8296841593 & -1.1142821241\\\\\n",
       "\t24 &  0.0426071050 & -0.041283620 & -2.958804e-02 & -0.037271303 &  0.0380432746 &  0.0091298938 & -0.0322119327 & -0.0210294614\\\\\n",
       "\t25 &  0.0040814698 &  0.047295181 &  5.058106e-02 & -0.014597580 & -0.0038101819 & -0.0321933425 &  0.0110690278 & -0.0017584990\\\\\n",
       "\t26 & -0.0419900691 & -0.203824549 & -1.873696e-01 & -0.200806469 &  0.2523940533 &  0.1846348304 &  0.0315138231 &  0.0280748960\\\\\n",
       "\t27 & -0.0006134013 &  0.010583477 & -1.063158e-03 & -0.005230974 &  0.0037963212 & -0.0026207258 &  0.0064339911 &  0.0004730508\\\\\n",
       "\t28 & -0.0441135189 &  0.123346491 &  1.435355e-02 &  0.108564632 & -0.0947173661 & -0.1322413295 & -0.0420134207 &  0.0417068364\\\\\n",
       "\t29 &  0.0162872887 & -0.032048597 &  4.130076e-02 &  0.001360740 &  0.0125190799 &  0.0225305052 & -0.0560497058 & -0.0466328255\\\\\n",
       "\t30 &  0.0243436802 & -0.096095735 &  1.643455e-01 & -0.055083072 &  0.0567483185 & -0.0039792465 & -0.0636514795 & -0.0875160526\\\\\n",
       "\t⋮ & ⋮ & ⋮ & ⋮ & ⋮ & ⋮ & ⋮ & ⋮ & ⋮\\\\\n",
       "\t78 &  0.061000821 &  0.14054249 & -0.068545536 &  0.070530003 & -0.074443207 & -0.2335258990 &  0.164082215 & -6.891560e-03\\\\\n",
       "\t79 &  0.007266145 &  0.01197528 & -0.005232200 & -0.017788579 &  0.021591508 &  0.0066598641 & -0.004203228 & -1.200148e-02\\\\\n",
       "\t80 & -0.267014785 &  0.16067165 &  0.258586861 & -0.089451645 &  0.035882798 &  0.0631287059 & -0.131549046 &  2.073471e-01\\\\\n",
       "\t81 &  0.008180533 & -0.02304150 &  0.039458925 &  0.002049260 &  0.004247355 &  0.0356518913 & -0.092019502 & -3.065319e-02\\\\\n",
       "\t82 & -0.010382987 & -0.01438622 & -0.021390972 & -0.009993014 &  0.010159594 & -0.0284427562 &  0.001034731 &  2.811329e-02\\\\\n",
       "\t83 &  0.002817141 & -0.01268862 &  0.005342876 &  0.011089524 & -0.012940305 & -0.0006440875 & -0.009019513 &  2.811716e-05\\\\\n",
       "\t84 & -0.243055616 &  0.20784140 &  0.279075607 & -0.320072307 &  0.273662701 & -0.1890941233 & -0.047328584 &  1.952391e-01\\\\\n",
       "\t85 & -0.115904977 &  0.06722418 &  0.049141624 & -0.196771538 &  0.183538452 & -0.1115715238 &  0.118277297 &  1.328874e-01\\\\\n",
       "\t86 &  0.206860021 & -0.10819971 &  0.234110833 &  0.169458304 & -0.162326021 & -0.0831722383 &  0.201332417 & -3.231571e-01\\\\\n",
       "\t87 &  0.069438415 & -0.16650536 & -0.109778546 &  0.049516233 & -0.082627013 &  0.0733276071 & -0.013845912 &  1.858118e-02\\\\\n",
       "\t88 & -0.332363624 & -0.19646731 &  0.092721045 & -0.035701994 &  0.020238562 &  0.3154041523 &  0.011471186 &  2.224451e-01\\\\\n",
       "\t89 &  0.016573291 &  0.09152958 & -0.007165692 & -0.033051959 &  0.015876724 & -0.1575049596 & -0.038445366 &  5.172659e-02\\\\\n",
       "\t90 & -0.025892644 & -0.09953883 &  0.015549049 & -0.094946209 &  0.097606724 &  0.0179727542 & -0.042657011 &  3.832171e-02\\\\\n",
       "\t91 &  0.118667500 &  0.12150225 & -0.139882084 &  0.198237011 & -0.191436260 &  0.1103823197 &  0.035578394 & -1.315171e-01\\\\\n",
       "\t92 &  0.036862736 &  0.09014357 & -0.081325070 & -0.096372354 &  0.123863360 & -0.0178650982 &  0.166601395 & -3.771531e-02\\\\\n",
       "\t93 & -0.101217763 & -0.06243513 & -0.023996302 & -0.018635420 &  0.006358256 &  0.0206994224 & -0.015340972 &  1.210006e-01\\\\\n",
       "\t94 & -0.266000531 &  0.16231861 & -0.006828549 & -0.152867754 &  0.075919989 &  0.2606901842 &  0.265016103 &  2.403792e-01\\\\\n",
       "\t95 & -0.053440408 &  0.08324043 &  0.124732418 & -0.113686052 &  0.090260337 & -0.0277623478 & -0.038543208 &  2.082220e-02\\\\\n",
       "\t96 &  0.037414802 &  0.08855032 &  0.054420029 &  0.011639751 &  0.020189570 & -0.0714456634 &  0.060517033 & -7.600573e-02\\\\\n",
       "\t97 & -0.003788605 & -0.02201310 & -0.005980875 &  0.016169021 & -0.005101306 & -0.0002807270 &  0.001213388 & -3.579531e-03\\\\\n",
       "\t98 & -0.015254783 & -0.02214839 & -0.011262665 & -0.008553567 &  0.007256487 &  0.0041541402 &  0.028053450 &  1.743142e-02\\\\\n",
       "\t99 &  0.187938504 & -0.10005855 &  0.044802644 & -0.366373090 &  0.337618557 &  0.0614896708 & -0.094148945 & -1.841603e-01\\\\\n",
       "\t100 &  0.052572217 & -0.13586596 &  0.153779354 &  0.113601156 & -0.107948032 &  0.1852605431 &  0.160434819 & -1.695522e-01\\\\\n",
       "\t101 &  0.028136116 & -0.01077130 & -0.002592450 &  0.013247837 & -0.021618617 &  0.0157059243 &  0.022109603 & -2.792403e-02\\\\\n",
       "\t102 & -0.057324517 &  0.03114629 &  0.056327081 & -0.045870644 &  0.059290760 & -0.0119682532 &  0.025969030 &  2.451057e-02\\\\\n",
       "\t103 & -0.006533882 &  0.03828556 &  0.048102466 &  0.024756391 & -0.026649563 &  0.0500071877 & -0.063051406 & -2.033488e-02\\\\\n",
       "\t104 & -0.018451095 &  0.01286851 & -0.003689383 & -0.002731872 &  0.008379496 & -0.0211921392 & -0.016978307 &  2.377508e-02\\\\\n",
       "\t105 & -0.024450147 &  0.09023104 &  0.009498554 & -0.005330130 &  0.058196119 & -0.0780255183 & -0.046884209 &  3.380566e-03\\\\\n",
       "\t106 & -0.122416688 & -0.16355846 &  0.016439509 & -0.009617968 &  0.059587298 &  0.0193802256 & -0.107840263 &  1.086190e-01\\\\\n",
       "\t107 &  0.043614304 & -0.02661722 &  0.024300138 &  0.017027624 & -0.025889099 & -0.0271294068 &  0.028629362 & -3.588599e-02\\\\\n",
       "\\end{tabular}\n"
      ],
      "text/markdown": [
       "\n",
       "A matrix: 107 × 8 of type dbl\n",
       "\n",
       "| <!--/--> | (Intercept) | x1 | x2 | x3 | x4 | x5 | x6 | x7 |\n",
       "|---|---|---|---|---|---|---|---|---|\n",
       "| 1 | -0.0319532557 |  0.090716025 |  4.554906e-02 | -0.001743729 | -0.0043873271 |  0.0445110727 | -0.0766907608 |  0.0143512373 |\n",
       "| 2 | -0.1481766543 | -0.155017826 |  1.028733e-02 | -0.153480991 |  0.1579369300 | -0.1639399754 |  0.0957012843 |  0.1840414071 |\n",
       "| 3 | -0.0574803948 | -0.088067652 | -6.467799e-02 |  0.024366251 | -0.0714420820 |  0.0643584692 | -0.0948040645 |  0.1191792414 |\n",
       "| 4 |  0.0356763727 |  0.126941010 | -8.238970e-02 |  0.003034729 | -0.0544895341 | -0.0665128595 | -0.0116903140 |  0.0639530205 |\n",
       "| 5 |  0.0087152829 |  0.012182781 | -2.696485e-02 |  0.002889713 | -0.0021528073 | -0.0160407965 |  0.0012727978 |  0.0065029333 |\n",
       "| 6 | -0.0349187231 | -0.039956178 | -2.352637e-02 |  0.059243860 | -0.0551891315 | -0.0325226668 | -0.0293966789 |  0.0536267016 |\n",
       "| 7 |  0.0120059159 | -0.004908990 |  7.317087e-03 |  0.004748506 | -0.0068379112 | -0.0068989696 |  0.0060070783 | -0.0109134578 |\n",
       "| 8 | -0.0398592013 | -0.045342977 |  3.078345e-02 | -0.031053134 |  0.0255915297 | -0.0411821909 | -0.0396732219 |  0.0495393184 |\n",
       "| 9 |  0.0213456578 |  0.065569307 |  3.176228e-02 |  0.005743587 | -0.0155551185 | -0.1077127314 | -0.0282088493 |  0.0070373244 |\n",
       "| 10 | -0.1240203444 | -0.075844616 |  1.254672e-01 | -0.104435204 |  0.1230739853 |  0.0686207575 |  0.0096104568 |  0.0386522918 |\n",
       "| 11 | -0.0702041444 | -0.129226485 |  1.796342e-01 | -0.042332659 | -0.0013154320 | -0.0446255163 | -0.0720740798 |  0.0820825864 |\n",
       "| 12 | -0.0940449441 | -0.208464409 | -2.802271e-01 |  0.042147451 |  0.0448626022 |  0.0504845291 |  0.1691786863 |  0.1402865863 |\n",
       "| 13 |  0.0484997906 |  0.053424314 |  5.381660e-02 |  0.013242221 | -0.0054424542 | -0.0530200685 |  0.0637867295 | -0.0721035101 |\n",
       "| 14 | -0.0003781097 | -0.001780288 |  9.531249e-05 |  0.002862420 | -0.0022271913 | -0.0019579288 | -0.0004725527 |  0.0003399918 |\n",
       "| 15 |  0.0930947220 | -0.082682048 | -1.232830e-01 | -0.099270666 |  0.0904080566 | -0.0336866370 | -0.0537083527 |  0.0012445162 |\n",
       "| 16 |  0.0461691586 | -0.064820528 | -8.093478e-02 | -0.090978657 |  0.0874721195 |  0.0533981922 | -0.0561677940 | -0.0036709912 |\n",
       "| 17 |  0.0902200583 |  0.084643526 |  4.185412e-02 |  0.057122092 | -0.0830913146 |  0.0298464815 | -0.0770600607 | -0.0894534176 |\n",
       "| 18 |  0.0348996498 | -0.028835362 |  7.248636e-02 |  0.059659021 | -0.0359405832 | -0.0889453488 | -0.0282356785 | -0.0602857447 |\n",
       "| 19 |  0.1356039470 | -0.121235522 | -2.366324e-01 |  0.273103368 | -0.2271163119 |  0.2593053657 |  0.0917240395 | -0.1691094798 |\n",
       "| 20 |  0.0173593220 | -0.012547151 |  1.007488e-02 |  0.002064114 | -0.0088098587 |  0.0054816206 | -0.0119946590 | -0.0133484955 |\n",
       "| 21 |  0.0276305219 |  0.028486030 | -8.485946e-02 |  0.049185655 | -0.0416633570 |  0.0368532172 |  0.0164921518 | -0.0119694802 |\n",
       "| 22 |  0.0022663337 | -0.001369444 | -1.026666e-03 |  0.000208782 | -0.0002004524 |  0.0006542665 | -0.0006856299 | -0.0016952140 |\n",
       "| 23 |  1.6780765606 | -0.141977988 | -9.472899e-01 | -0.352577836 |  0.3362391413 | -0.2653350213 | -0.8296841593 | -1.1142821241 |\n",
       "| 24 |  0.0426071050 | -0.041283620 | -2.958804e-02 | -0.037271303 |  0.0380432746 |  0.0091298938 | -0.0322119327 | -0.0210294614 |\n",
       "| 25 |  0.0040814698 |  0.047295181 |  5.058106e-02 | -0.014597580 | -0.0038101819 | -0.0321933425 |  0.0110690278 | -0.0017584990 |\n",
       "| 26 | -0.0419900691 | -0.203824549 | -1.873696e-01 | -0.200806469 |  0.2523940533 |  0.1846348304 |  0.0315138231 |  0.0280748960 |\n",
       "| 27 | -0.0006134013 |  0.010583477 | -1.063158e-03 | -0.005230974 |  0.0037963212 | -0.0026207258 |  0.0064339911 |  0.0004730508 |\n",
       "| 28 | -0.0441135189 |  0.123346491 |  1.435355e-02 |  0.108564632 | -0.0947173661 | -0.1322413295 | -0.0420134207 |  0.0417068364 |\n",
       "| 29 |  0.0162872887 | -0.032048597 |  4.130076e-02 |  0.001360740 |  0.0125190799 |  0.0225305052 | -0.0560497058 | -0.0466328255 |\n",
       "| 30 |  0.0243436802 | -0.096095735 |  1.643455e-01 | -0.055083072 |  0.0567483185 | -0.0039792465 | -0.0636514795 | -0.0875160526 |\n",
       "| ⋮ | ⋮ | ⋮ | ⋮ | ⋮ | ⋮ | ⋮ | ⋮ | ⋮ |\n",
       "| 78 |  0.061000821 |  0.14054249 | -0.068545536 |  0.070530003 | -0.074443207 | -0.2335258990 |  0.164082215 | -6.891560e-03 |\n",
       "| 79 |  0.007266145 |  0.01197528 | -0.005232200 | -0.017788579 |  0.021591508 |  0.0066598641 | -0.004203228 | -1.200148e-02 |\n",
       "| 80 | -0.267014785 |  0.16067165 |  0.258586861 | -0.089451645 |  0.035882798 |  0.0631287059 | -0.131549046 |  2.073471e-01 |\n",
       "| 81 |  0.008180533 | -0.02304150 |  0.039458925 |  0.002049260 |  0.004247355 |  0.0356518913 | -0.092019502 | -3.065319e-02 |\n",
       "| 82 | -0.010382987 | -0.01438622 | -0.021390972 | -0.009993014 |  0.010159594 | -0.0284427562 |  0.001034731 |  2.811329e-02 |\n",
       "| 83 |  0.002817141 | -0.01268862 |  0.005342876 |  0.011089524 | -0.012940305 | -0.0006440875 | -0.009019513 |  2.811716e-05 |\n",
       "| 84 | -0.243055616 |  0.20784140 |  0.279075607 | -0.320072307 |  0.273662701 | -0.1890941233 | -0.047328584 |  1.952391e-01 |\n",
       "| 85 | -0.115904977 |  0.06722418 |  0.049141624 | -0.196771538 |  0.183538452 | -0.1115715238 |  0.118277297 |  1.328874e-01 |\n",
       "| 86 |  0.206860021 | -0.10819971 |  0.234110833 |  0.169458304 | -0.162326021 | -0.0831722383 |  0.201332417 | -3.231571e-01 |\n",
       "| 87 |  0.069438415 | -0.16650536 | -0.109778546 |  0.049516233 | -0.082627013 |  0.0733276071 | -0.013845912 |  1.858118e-02 |\n",
       "| 88 | -0.332363624 | -0.19646731 |  0.092721045 | -0.035701994 |  0.020238562 |  0.3154041523 |  0.011471186 |  2.224451e-01 |\n",
       "| 89 |  0.016573291 |  0.09152958 | -0.007165692 | -0.033051959 |  0.015876724 | -0.1575049596 | -0.038445366 |  5.172659e-02 |\n",
       "| 90 | -0.025892644 | -0.09953883 |  0.015549049 | -0.094946209 |  0.097606724 |  0.0179727542 | -0.042657011 |  3.832171e-02 |\n",
       "| 91 |  0.118667500 |  0.12150225 | -0.139882084 |  0.198237011 | -0.191436260 |  0.1103823197 |  0.035578394 | -1.315171e-01 |\n",
       "| 92 |  0.036862736 |  0.09014357 | -0.081325070 | -0.096372354 |  0.123863360 | -0.0178650982 |  0.166601395 | -3.771531e-02 |\n",
       "| 93 | -0.101217763 | -0.06243513 | -0.023996302 | -0.018635420 |  0.006358256 |  0.0206994224 | -0.015340972 |  1.210006e-01 |\n",
       "| 94 | -0.266000531 |  0.16231861 | -0.006828549 | -0.152867754 |  0.075919989 |  0.2606901842 |  0.265016103 |  2.403792e-01 |\n",
       "| 95 | -0.053440408 |  0.08324043 |  0.124732418 | -0.113686052 |  0.090260337 | -0.0277623478 | -0.038543208 |  2.082220e-02 |\n",
       "| 96 |  0.037414802 |  0.08855032 |  0.054420029 |  0.011639751 |  0.020189570 | -0.0714456634 |  0.060517033 | -7.600573e-02 |\n",
       "| 97 | -0.003788605 | -0.02201310 | -0.005980875 |  0.016169021 | -0.005101306 | -0.0002807270 |  0.001213388 | -3.579531e-03 |\n",
       "| 98 | -0.015254783 | -0.02214839 | -0.011262665 | -0.008553567 |  0.007256487 |  0.0041541402 |  0.028053450 |  1.743142e-02 |\n",
       "| 99 |  0.187938504 | -0.10005855 |  0.044802644 | -0.366373090 |  0.337618557 |  0.0614896708 | -0.094148945 | -1.841603e-01 |\n",
       "| 100 |  0.052572217 | -0.13586596 |  0.153779354 |  0.113601156 | -0.107948032 |  0.1852605431 |  0.160434819 | -1.695522e-01 |\n",
       "| 101 |  0.028136116 | -0.01077130 | -0.002592450 |  0.013247837 | -0.021618617 |  0.0157059243 |  0.022109603 | -2.792403e-02 |\n",
       "| 102 | -0.057324517 |  0.03114629 |  0.056327081 | -0.045870644 |  0.059290760 | -0.0119682532 |  0.025969030 |  2.451057e-02 |\n",
       "| 103 | -0.006533882 |  0.03828556 |  0.048102466 |  0.024756391 | -0.026649563 |  0.0500071877 | -0.063051406 | -2.033488e-02 |\n",
       "| 104 | -0.018451095 |  0.01286851 | -0.003689383 | -0.002731872 |  0.008379496 | -0.0211921392 | -0.016978307 |  2.377508e-02 |\n",
       "| 105 | -0.024450147 |  0.09023104 |  0.009498554 | -0.005330130 |  0.058196119 | -0.0780255183 | -0.046884209 |  3.380566e-03 |\n",
       "| 106 | -0.122416688 | -0.16355846 |  0.016439509 | -0.009617968 |  0.059587298 |  0.0193802256 | -0.107840263 |  1.086190e-01 |\n",
       "| 107 |  0.043614304 | -0.02661722 |  0.024300138 |  0.017027624 | -0.025889099 | -0.0271294068 |  0.028629362 | -3.588599e-02 |\n",
       "\n"
      ],
      "text/plain": [
       "    (Intercept)   x1           x2            x3           x4           \n",
       "1   -0.0319532557  0.090716025  4.554906e-02 -0.001743729 -0.0043873271\n",
       "2   -0.1481766543 -0.155017826  1.028733e-02 -0.153480991  0.1579369300\n",
       "3   -0.0574803948 -0.088067652 -6.467799e-02  0.024366251 -0.0714420820\n",
       "4    0.0356763727  0.126941010 -8.238970e-02  0.003034729 -0.0544895341\n",
       "5    0.0087152829  0.012182781 -2.696485e-02  0.002889713 -0.0021528073\n",
       "6   -0.0349187231 -0.039956178 -2.352637e-02  0.059243860 -0.0551891315\n",
       "7    0.0120059159 -0.004908990  7.317087e-03  0.004748506 -0.0068379112\n",
       "8   -0.0398592013 -0.045342977  3.078345e-02 -0.031053134  0.0255915297\n",
       "9    0.0213456578  0.065569307  3.176228e-02  0.005743587 -0.0155551185\n",
       "10  -0.1240203444 -0.075844616  1.254672e-01 -0.104435204  0.1230739853\n",
       "11  -0.0702041444 -0.129226485  1.796342e-01 -0.042332659 -0.0013154320\n",
       "12  -0.0940449441 -0.208464409 -2.802271e-01  0.042147451  0.0448626022\n",
       "13   0.0484997906  0.053424314  5.381660e-02  0.013242221 -0.0054424542\n",
       "14  -0.0003781097 -0.001780288  9.531249e-05  0.002862420 -0.0022271913\n",
       "15   0.0930947220 -0.082682048 -1.232830e-01 -0.099270666  0.0904080566\n",
       "16   0.0461691586 -0.064820528 -8.093478e-02 -0.090978657  0.0874721195\n",
       "17   0.0902200583  0.084643526  4.185412e-02  0.057122092 -0.0830913146\n",
       "18   0.0348996498 -0.028835362  7.248636e-02  0.059659021 -0.0359405832\n",
       "19   0.1356039470 -0.121235522 -2.366324e-01  0.273103368 -0.2271163119\n",
       "20   0.0173593220 -0.012547151  1.007488e-02  0.002064114 -0.0088098587\n",
       "21   0.0276305219  0.028486030 -8.485946e-02  0.049185655 -0.0416633570\n",
       "22   0.0022663337 -0.001369444 -1.026666e-03  0.000208782 -0.0002004524\n",
       "23   1.6780765606 -0.141977988 -9.472899e-01 -0.352577836  0.3362391413\n",
       "24   0.0426071050 -0.041283620 -2.958804e-02 -0.037271303  0.0380432746\n",
       "25   0.0040814698  0.047295181  5.058106e-02 -0.014597580 -0.0038101819\n",
       "26  -0.0419900691 -0.203824549 -1.873696e-01 -0.200806469  0.2523940533\n",
       "27  -0.0006134013  0.010583477 -1.063158e-03 -0.005230974  0.0037963212\n",
       "28  -0.0441135189  0.123346491  1.435355e-02  0.108564632 -0.0947173661\n",
       "29   0.0162872887 -0.032048597  4.130076e-02  0.001360740  0.0125190799\n",
       "30   0.0243436802 -0.096095735  1.643455e-01 -0.055083072  0.0567483185\n",
       "⋮   ⋮             ⋮            ⋮             ⋮            ⋮            \n",
       "78   0.061000821   0.14054249  -0.068545536   0.070530003 -0.074443207 \n",
       "79   0.007266145   0.01197528  -0.005232200  -0.017788579  0.021591508 \n",
       "80  -0.267014785   0.16067165   0.258586861  -0.089451645  0.035882798 \n",
       "81   0.008180533  -0.02304150   0.039458925   0.002049260  0.004247355 \n",
       "82  -0.010382987  -0.01438622  -0.021390972  -0.009993014  0.010159594 \n",
       "83   0.002817141  -0.01268862   0.005342876   0.011089524 -0.012940305 \n",
       "84  -0.243055616   0.20784140   0.279075607  -0.320072307  0.273662701 \n",
       "85  -0.115904977   0.06722418   0.049141624  -0.196771538  0.183538452 \n",
       "86   0.206860021  -0.10819971   0.234110833   0.169458304 -0.162326021 \n",
       "87   0.069438415  -0.16650536  -0.109778546   0.049516233 -0.082627013 \n",
       "88  -0.332363624  -0.19646731   0.092721045  -0.035701994  0.020238562 \n",
       "89   0.016573291   0.09152958  -0.007165692  -0.033051959  0.015876724 \n",
       "90  -0.025892644  -0.09953883   0.015549049  -0.094946209  0.097606724 \n",
       "91   0.118667500   0.12150225  -0.139882084   0.198237011 -0.191436260 \n",
       "92   0.036862736   0.09014357  -0.081325070  -0.096372354  0.123863360 \n",
       "93  -0.101217763  -0.06243513  -0.023996302  -0.018635420  0.006358256 \n",
       "94  -0.266000531   0.16231861  -0.006828549  -0.152867754  0.075919989 \n",
       "95  -0.053440408   0.08324043   0.124732418  -0.113686052  0.090260337 \n",
       "96   0.037414802   0.08855032   0.054420029   0.011639751  0.020189570 \n",
       "97  -0.003788605  -0.02201310  -0.005980875   0.016169021 -0.005101306 \n",
       "98  -0.015254783  -0.02214839  -0.011262665  -0.008553567  0.007256487 \n",
       "99   0.187938504  -0.10005855   0.044802644  -0.366373090  0.337618557 \n",
       "100  0.052572217  -0.13586596   0.153779354   0.113601156 -0.107948032 \n",
       "101  0.028136116  -0.01077130  -0.002592450   0.013247837 -0.021618617 \n",
       "102 -0.057324517   0.03114629   0.056327081  -0.045870644  0.059290760 \n",
       "103 -0.006533882   0.03828556   0.048102466   0.024756391 -0.026649563 \n",
       "104 -0.018451095   0.01286851  -0.003689383  -0.002731872  0.008379496 \n",
       "105 -0.024450147   0.09023104   0.009498554  -0.005330130  0.058196119 \n",
       "106 -0.122416688  -0.16355846   0.016439509  -0.009617968  0.059587298 \n",
       "107  0.043614304  -0.02661722   0.024300138   0.017027624 -0.025889099 \n",
       "    x5            x6            x7           \n",
       "1    0.0445110727 -0.0766907608  0.0143512373\n",
       "2   -0.1639399754  0.0957012843  0.1840414071\n",
       "3    0.0643584692 -0.0948040645  0.1191792414\n",
       "4   -0.0665128595 -0.0116903140  0.0639530205\n",
       "5   -0.0160407965  0.0012727978  0.0065029333\n",
       "6   -0.0325226668 -0.0293966789  0.0536267016\n",
       "7   -0.0068989696  0.0060070783 -0.0109134578\n",
       "8   -0.0411821909 -0.0396732219  0.0495393184\n",
       "9   -0.1077127314 -0.0282088493  0.0070373244\n",
       "10   0.0686207575  0.0096104568  0.0386522918\n",
       "11  -0.0446255163 -0.0720740798  0.0820825864\n",
       "12   0.0504845291  0.1691786863  0.1402865863\n",
       "13  -0.0530200685  0.0637867295 -0.0721035101\n",
       "14  -0.0019579288 -0.0004725527  0.0003399918\n",
       "15  -0.0336866370 -0.0537083527  0.0012445162\n",
       "16   0.0533981922 -0.0561677940 -0.0036709912\n",
       "17   0.0298464815 -0.0770600607 -0.0894534176\n",
       "18  -0.0889453488 -0.0282356785 -0.0602857447\n",
       "19   0.2593053657  0.0917240395 -0.1691094798\n",
       "20   0.0054816206 -0.0119946590 -0.0133484955\n",
       "21   0.0368532172  0.0164921518 -0.0119694802\n",
       "22   0.0006542665 -0.0006856299 -0.0016952140\n",
       "23  -0.2653350213 -0.8296841593 -1.1142821241\n",
       "24   0.0091298938 -0.0322119327 -0.0210294614\n",
       "25  -0.0321933425  0.0110690278 -0.0017584990\n",
       "26   0.1846348304  0.0315138231  0.0280748960\n",
       "27  -0.0026207258  0.0064339911  0.0004730508\n",
       "28  -0.1322413295 -0.0420134207  0.0417068364\n",
       "29   0.0225305052 -0.0560497058 -0.0466328255\n",
       "30  -0.0039792465 -0.0636514795 -0.0875160526\n",
       "⋮   ⋮             ⋮             ⋮            \n",
       "78  -0.2335258990  0.164082215  -6.891560e-03\n",
       "79   0.0066598641 -0.004203228  -1.200148e-02\n",
       "80   0.0631287059 -0.131549046   2.073471e-01\n",
       "81   0.0356518913 -0.092019502  -3.065319e-02\n",
       "82  -0.0284427562  0.001034731   2.811329e-02\n",
       "83  -0.0006440875 -0.009019513   2.811716e-05\n",
       "84  -0.1890941233 -0.047328584   1.952391e-01\n",
       "85  -0.1115715238  0.118277297   1.328874e-01\n",
       "86  -0.0831722383  0.201332417  -3.231571e-01\n",
       "87   0.0733276071 -0.013845912   1.858118e-02\n",
       "88   0.3154041523  0.011471186   2.224451e-01\n",
       "89  -0.1575049596 -0.038445366   5.172659e-02\n",
       "90   0.0179727542 -0.042657011   3.832171e-02\n",
       "91   0.1103823197  0.035578394  -1.315171e-01\n",
       "92  -0.0178650982  0.166601395  -3.771531e-02\n",
       "93   0.0206994224 -0.015340972   1.210006e-01\n",
       "94   0.2606901842  0.265016103   2.403792e-01\n",
       "95  -0.0277623478 -0.038543208   2.082220e-02\n",
       "96  -0.0714456634  0.060517033  -7.600573e-02\n",
       "97  -0.0002807270  0.001213388  -3.579531e-03\n",
       "98   0.0041541402  0.028053450   1.743142e-02\n",
       "99   0.0614896708 -0.094148945  -1.841603e-01\n",
       "100  0.1852605431  0.160434819  -1.695522e-01\n",
       "101  0.0157059243  0.022109603  -2.792403e-02\n",
       "102 -0.0119682532  0.025969030   2.451057e-02\n",
       "103  0.0500071877 -0.063051406  -2.033488e-02\n",
       "104 -0.0211921392 -0.016978307   2.377508e-02\n",
       "105 -0.0780255183 -0.046884209   3.380566e-03\n",
       "106  0.0193802256 -0.107840263   1.086190e-01\n",
       "107 -0.0271294068  0.028629362  -3.588599e-02"
      ]
     },
     "metadata": {},
     "output_type": "display_data"
    }
   ],
   "source": [
    "#DFBETA\n",
    "dfbetas(fit) # cada beta tem seu DF\n",
    "\n",
    "dfb1<-dfbetas(fit)[,1]\n",
    "dfb2<-dfbetas(fit)[,2]\n",
    "dfb3<-dfbetas(fit)[,3]\n",
    "dfb4<-dfbetas(fit)[,4]\n",
    "dfb5<-dfbetas(fit)[,5]\n",
    "dfb6<-dfbetas(fit)[,6]\n",
    "dfb7<-dfbetas(fit)[,7]"
   ]
  },
  {
   "cell_type": "code",
   "execution_count": 25,
   "metadata": {
    "vscode": {
     "languageId": "r"
    }
   },
   "outputs": [
    {
     "data": {
      "image/png": "[encoded data removed]",
      "text/plain": [
       "plot without title"
      ]
     },
     "metadata": {
      "image/png": {
       "height": 420,
       "width": 420
      }
     },
     "output_type": "display_data"
    },
    {
     "data": {
      "image/png": "[encoded data removed]",
      "text/plain": [
       "plot without title"
      ]
     },
     "metadata": {
      "image/png": {
       "height": 420,
       "width": 420
      }
     },
     "output_type": "display_data"
    },
    {
     "data": {
      "image/png": "[encoded data removed]",
      "text/plain": [
       "plot without title"
      ]
     },
     "metadata": {
      "image/png": {
       "height": 420,
       "width": 420
      }
     },
     "output_type": "display_data"
    },
    {
     "data": {
      "image/png": "[encoded data removed]",
      "text/plain": [
       "plot without title"
      ]
     },
     "metadata": {
      "image/png": {
       "height": 420,
       "width": 420
      }
     },
     "output_type": "display_data"
    },
    {
     "data": {
      "image/png": "[encoded data removed]",
      "text/plain": [
       "plot without title"
      ]
     },
     "metadata": {
      "image/png": {
       "height": 420,
       "width": 420
      }
     },
     "output_type": "display_data"
    },
    {
     "data": {
      "image/png": "[encoded data removed]",
      "text/plain": [
       "plot without title"
      ]
     },
     "metadata": {
      "image/png": {
       "height": 420,
       "width": 420
      }
     },
     "output_type": "display_data"
    },
    {
     "data": {
      "image/png": "[encoded data removed]",
      "text/plain": [
       "plot without title"
      ]
     },
     "metadata": {
      "image/png": {
       "height": 420,
       "width": 420
      }
     },
     "output_type": "display_data"
    }
   ],
   "source": [
    "limite<-2/sqrt(n)\n",
    "abline(plot(dfb1,ylab=\"DFBETA 1\"), \n",
    "       col=c(\"red\",\"blue\",\"red\"), h=c(-limite,0,limite),lty=c(2,1,2))\n",
    "\n",
    "abline(plot(dfb2,ylab=\"DFBETA 2\"), \n",
    "       col=c(\"red\",\"blue\",\"red\"), h=c(-limite,0,limite),lty=c(2,1,2))\n",
    "\n",
    "abline(plot(dfb3,ylab=\"DFBETA 3\"), \n",
    "       col=c(\"red\",\"blue\",\"red\"), h=c(-limite,0,limite),lty=c(2,1,2))\n",
    "\n",
    "abline(plot(dfb4,ylab=\"DFBETA 4\"), \n",
    "       col=c(\"red\",\"blue\",\"red\"), h=c(-limite,0,limite),lty=c(2,1,2))\n",
    "\n",
    "abline(plot(dfb5,ylab=\"DFBETA 5\"), \n",
    "       col=c(\"red\",\"blue\",\"red\"), h=c(-limite,0,limite),lty=c(2,1,2))\n",
    "\n",
    "abline(plot(dfb6,ylab=\"DFBETA 6\"), \n",
    "       col=c(\"red\",\"blue\",\"red\"), h=c(-limite,0,limite),lty=c(2,1,2))\n",
    "\n",
    "abline(plot(dfb7,ylab=\"DFBETA 7\"), \n",
    "       col=c(\"red\",\"blue\",\"red\"), h=c(-limite,0,limite),lty=c(2,1,2))"
   ]
  },
  {
   "cell_type": "code",
   "execution_count": 26,
   "metadata": {
    "vscode": {
     "languageId": "r"
    }
   },
   "outputs": [
    {
     "data": {
      "text/html": [
       "<style>\n",
       ".dl-inline {width: auto; margin:0; padding: 0}\n",
       ".dl-inline>dt, .dl-inline>dd {float: none; width: auto; display: inline-block}\n",
       ".dl-inline>dt::after {content: \":\\0020\"; padding-right: .5ex}\n",
       ".dl-inline>dt:not(:first-of-type) {padding-left: .5ex}\n",
       "</style><dl class=dl-inline><dt>1</dt><dd>0.00435551111807798</dd><dt>2</dt><dd>0.0156380927836225</dd><dt>3</dt><dd>0.0113920728168895</dd><dt>4</dt><dd>0.0110406300801461</dd><dt>5</dt><dd>0.000198621439236003</dd><dt>6</dt><dd>0.00175707274156313</dd><dt>7</dt><dd>5.23328972771006e-05</dd><dt>8</dt><dd>0.00149127281407818</dd><dt>9</dt><dd>0.00301530486806137</dd><dt>10</dt><dd>0.0071879948645336</dd><dt>11</dt><dd>0.0115469017054389</dd><dt>12</dt><dd>0.0302250454036032</dd><dt>13</dt><dd>0.00271641208644168</dd><dt>14</dt><dd>3.14359912237652e-06</dd><dt>15</dt><dd>0.00633614312943999</dd><dt>16</dt><dd>0.00337107554100238</dd><dt>17</dt><dd>0.00501902910628664</dd><dt>18</dt><dd>0.00405065446908537</dd><dt>19</dt><dd>0.0291816028012049</dd><dt>20</dt><dd>0.000178483699597867</dd><dt>21</dt><dd>0.00160708281243785</dd><dt>22</dt><dd>1.08161691737996e-06</dd><dt>23</dt><dd>0.540035797274051</dd><dt>24</dt><dd>0.000928962525358138</dd><dt>25</dt><dd>0.00129038161615982</dd><dt>26</dt><dd>0.0261073214150385</dd><dt>27</dt><dd>3.24425991347986e-05</dd><dt>28</dt><dd>0.0080377949220153</dd><dt>29</dt><dd>0.00138193789839924</dd><dt>30</dt><dd>0.00859971416323824</dd><dt>31</dt><dd>4.33862933064496e-05</dd><dt>32</dt><dd>0.000666803764326773</dd><dt>33</dt><dd>0.00293314019929767</dd><dt>34</dt><dd>0.040662195354267</dd><dt>35</dt><dd>0.00188983544146815</dd><dt>36</dt><dd>0.0360464514151286</dd><dt>37</dt><dd>0.00115513371752576</dd><dt>38</dt><dd>0.00162642835808935</dd><dt>39</dt><dd>0.000152687736125103</dd><dt>40</dt><dd>0.00193606874375045</dd><dt>41</dt><dd>0.0344674184185871</dd><dt>42</dt><dd>0.00353751347405358</dd><dt>43</dt><dd>0.0221999032913189</dd><dt>44</dt><dd>0.0181717878555935</dd><dt>45</dt><dd>0.00119082228540086</dd><dt>46</dt><dd>0.00600774447981519</dd><dt>47</dt><dd>0.000381130410843033</dd><dt>48</dt><dd>0.00730470545104216</dd><dt>49</dt><dd>0.0012886780128404</dd><dt>50</dt><dd>0.00539820602268787</dd><dt>51</dt><dd>0.000337275477098998</dd><dt>52</dt><dd>0.000723049398235129</dd><dt>53</dt><dd>0.00306118716470322</dd><dt>54</dt><dd>0.0221051117958897</dd><dt>55</dt><dd>0.00240190131299715</dd><dt>56</dt><dd>0.00893978315272546</dd><dt>57</dt><dd>0.00165688038097176</dd><dt>58</dt><dd>0.000201891499964849</dd><dt>59</dt><dd>0.019335584896749</dd><dt>60</dt><dd>0.00401082178725958</dd><dt>61</dt><dd>0.000215486707627659</dd><dt>62</dt><dd>0.00506461319788011</dd><dt>63</dt><dd>1.07745630188785e-06</dd><dt>64</dt><dd>0.0337296953813319</dd><dt>65</dt><dd>0.00462528526641684</dd><dt>66</dt><dd>0.000767121548558369</dd><dt>67</dt><dd>0.00194950762426135</dd><dt>68</dt><dd>0.000949078254998586</dd><dt>69</dt><dd>0.0109488826067154</dd><dt>70</dt><dd>0.0070132582472124</dd><dt>71</dt><dd>0.00575391457515807</dd><dt>72</dt><dd>0.00629657642393184</dd><dt>73</dt><dd>0.0631490109733854</dd><dt>74</dt><dd>9.52419185676038e-05</dd><dt>75</dt><dd>0.0066171113079324</dd><dt>76</dt><dd>0.00795479073137948</dd><dt>77</dt><dd>0.0133991186389892</dd><dt>78</dt><dd>0.0134747187790069</dd><dt>79</dt><dd>0.000141710312795506</dd><dt>80</dt><dd>0.0309664947289092</dd><dt>81</dt><dd>0.00147928673064478</dd><dt>82</dt><dd>0.000299270535747708</dd><dt>83</dt><dd>7.88267526507338e-05</dd><dt>84</dt><dd>0.0349130348180169</dd><dt>85</dt><dd>0.0102416832142239</dd><dt>86</dt><dd>0.0355295497334066</dd><dt>87</dt><dd>0.0109553121258492</dd><dt>88</dt><dd>0.0361421461546833</dd><dt>89</dt><dd>0.00674210052049274</dd><dt>90</dt><dd>0.00317636180886016</dd><dt>91</dt><dd>0.011871220948287</dd><dt>92</dt><dd>0.010932771809642</dd><dt>93</dt><dd>0.00326562426419473</dd><dt>94</dt><dd>0.0500571025714665</dd><dt>95</dt><dd>0.0050355437930835</dd><dt>96</dt><dd>0.00659854074260506</dd><dt>97</dt><dd>0.000327622618456844</dd><dt>98</dt><dd>0.000310198090298567</dd><dt>99</dt><dd>0.0317367238260756</dd><dt>100</dt><dd>0.0220117693469722</dd><dt>101</dt><dd>0.000428513615600382</dd><dt>102</dt><dd>0.00184648062964062</dd><dt>103</dt><dd>0.00168527438476393</dd><dt>104</dt><dd>0.000322846747925631</dd><dt>105</dt><dd>0.00947846833726852</dd><dt>106</dt><dd>0.0108272678060148</dd><dt>107</dt><dd>0.000843944480573048</dd></dl>\n"
      ],
      "text/latex": [
       "\\begin{description*}\n",
       "\\item[1] 0.00435551111807798\n",
       "\\item[2] 0.0156380927836225\n",
       "\\item[3] 0.0113920728168895\n",
       "\\item[4] 0.0110406300801461\n",
       "\\item[5] 0.000198621439236003\n",
       "\\item[6] 0.00175707274156313\n",
       "\\item[7] 5.23328972771006e-05\n",
       "\\item[8] 0.00149127281407818\n",
       "\\item[9] 0.00301530486806137\n",
       "\\item[10] 0.0071879948645336\n",
       "\\item[11] 0.0115469017054389\n",
       "\\item[12] 0.0302250454036032\n",
       "\\item[13] 0.00271641208644168\n",
       "\\item[14] 3.14359912237652e-06\n",
       "\\item[15] 0.00633614312943999\n",
       "\\item[16] 0.00337107554100238\n",
       "\\item[17] 0.00501902910628664\n",
       "\\item[18] 0.00405065446908537\n",
       "\\item[19] 0.0291816028012049\n",
       "\\item[20] 0.000178483699597867\n",
       "\\item[21] 0.00160708281243785\n",
       "\\item[22] 1.08161691737996e-06\n",
       "\\item[23] 0.540035797274051\n",
       "\\item[24] 0.000928962525358138\n",
       "\\item[25] 0.00129038161615982\n",
       "\\item[26] 0.0261073214150385\n",
       "\\item[27] 3.24425991347986e-05\n",
       "\\item[28] 0.0080377949220153\n",
       "\\item[29] 0.00138193789839924\n",
       "\\item[30] 0.00859971416323824\n",
       "\\item[31] 4.33862933064496e-05\n",
       "\\item[32] 0.000666803764326773\n",
       "\\item[33] 0.00293314019929767\n",
       "\\item[34] 0.040662195354267\n",
       "\\item[35] 0.00188983544146815\n",
       "\\item[36] 0.0360464514151286\n",
       "\\item[37] 0.00115513371752576\n",
       "\\item[38] 0.00162642835808935\n",
       "\\item[39] 0.000152687736125103\n",
       "\\item[40] 0.00193606874375045\n",
       "\\item[41] 0.0344674184185871\n",
       "\\item[42] 0.00353751347405358\n",
       "\\item[43] 0.0221999032913189\n",
       "\\item[44] 0.0181717878555935\n",
       "\\item[45] 0.00119082228540086\n",
       "\\item[46] 0.00600774447981519\n",
       "\\item[47] 0.000381130410843033\n",
       "\\item[48] 0.00730470545104216\n",
       "\\item[49] 0.0012886780128404\n",
       "\\item[50] 0.00539820602268787\n",
       "\\item[51] 0.000337275477098998\n",
       "\\item[52] 0.000723049398235129\n",
       "\\item[53] 0.00306118716470322\n",
       "\\item[54] 0.0221051117958897\n",
       "\\item[55] 0.00240190131299715\n",
       "\\item[56] 0.00893978315272546\n",
       "\\item[57] 0.00165688038097176\n",
       "\\item[58] 0.000201891499964849\n",
       "\\item[59] 0.019335584896749\n",
       "\\item[60] 0.00401082178725958\n",
       "\\item[61] 0.000215486707627659\n",
       "\\item[62] 0.00506461319788011\n",
       "\\item[63] 1.07745630188785e-06\n",
       "\\item[64] 0.0337296953813319\n",
       "\\item[65] 0.00462528526641684\n",
       "\\item[66] 0.000767121548558369\n",
       "\\item[67] 0.00194950762426135\n",
       "\\item[68] 0.000949078254998586\n",
       "\\item[69] 0.0109488826067154\n",
       "\\item[70] 0.0070132582472124\n",
       "\\item[71] 0.00575391457515807\n",
       "\\item[72] 0.00629657642393184\n",
       "\\item[73] 0.0631490109733854\n",
       "\\item[74] 9.52419185676038e-05\n",
       "\\item[75] 0.0066171113079324\n",
       "\\item[76] 0.00795479073137948\n",
       "\\item[77] 0.0133991186389892\n",
       "\\item[78] 0.0134747187790069\n",
       "\\item[79] 0.000141710312795506\n",
       "\\item[80] 0.0309664947289092\n",
       "\\item[81] 0.00147928673064478\n",
       "\\item[82] 0.000299270535747708\n",
       "\\item[83] 7.88267526507338e-05\n",
       "\\item[84] 0.0349130348180169\n",
       "\\item[85] 0.0102416832142239\n",
       "\\item[86] 0.0355295497334066\n",
       "\\item[87] 0.0109553121258492\n",
       "\\item[88] 0.0361421461546833\n",
       "\\item[89] 0.00674210052049274\n",
       "\\item[90] 0.00317636180886016\n",
       "\\item[91] 0.011871220948287\n",
       "\\item[92] 0.010932771809642\n",
       "\\item[93] 0.00326562426419473\n",
       "\\item[94] 0.0500571025714665\n",
       "\\item[95] 0.0050355437930835\n",
       "\\item[96] 0.00659854074260506\n",
       "\\item[97] 0.000327622618456844\n",
       "\\item[98] 0.000310198090298567\n",
       "\\item[99] 0.0317367238260756\n",
       "\\item[100] 0.0220117693469722\n",
       "\\item[101] 0.000428513615600382\n",
       "\\item[102] 0.00184648062964062\n",
       "\\item[103] 0.00168527438476393\n",
       "\\item[104] 0.000322846747925631\n",
       "\\item[105] 0.00947846833726852\n",
       "\\item[106] 0.0108272678060148\n",
       "\\item[107] 0.000843944480573048\n",
       "\\end{description*}\n"
      ],
      "text/markdown": [
       "1\n",
       ":   0.004355511118077982\n",
       ":   0.01563809278362253\n",
       ":   0.01139207281688954\n",
       ":   0.01104063008014615\n",
       ":   0.0001986214392360036\n",
       ":   0.001757072741563137\n",
       ":   5.23328972771006e-058\n",
       ":   0.001491272814078189\n",
       ":   0.0030153048680613710\n",
       ":   0.007187994864533611\n",
       ":   0.011546901705438912\n",
       ":   0.030225045403603213\n",
       ":   0.0027164120864416814\n",
       ":   3.14359912237652e-0615\n",
       ":   0.0063361431294399916\n",
       ":   0.0033710755410023817\n",
       ":   0.0050190291062866418\n",
       ":   0.0040506544690853719\n",
       ":   0.029181602801204920\n",
       ":   0.00017848369959786721\n",
       ":   0.0016070828124378522\n",
       ":   1.08161691737996e-0623\n",
       ":   0.54003579727405124\n",
       ":   0.00092896252535813825\n",
       ":   0.0012903816161598226\n",
       ":   0.026107321415038527\n",
       ":   3.24425991347986e-0528\n",
       ":   0.008037794922015329\n",
       ":   0.0013819378983992430\n",
       ":   0.0085997141632382431\n",
       ":   4.33862933064496e-0532\n",
       ":   0.00066680376432677333\n",
       ":   0.0029331401992976734\n",
       ":   0.04066219535426735\n",
       ":   0.0018898354414681536\n",
       ":   0.036046451415128637\n",
       ":   0.0011551337175257638\n",
       ":   0.0016264283580893539\n",
       ":   0.00015268773612510340\n",
       ":   0.0019360687437504541\n",
       ":   0.034467418418587142\n",
       ":   0.0035375134740535843\n",
       ":   0.022199903291318944\n",
       ":   0.018171787855593545\n",
       ":   0.0011908222854008646\n",
       ":   0.0060077444798151947\n",
       ":   0.00038113041084303348\n",
       ":   0.0073047054510421649\n",
       ":   0.001288678012840450\n",
       ":   0.0053982060226878751\n",
       ":   0.00033727547709899852\n",
       ":   0.00072304939823512953\n",
       ":   0.0030611871647032254\n",
       ":   0.022105111795889755\n",
       ":   0.0024019013129971556\n",
       ":   0.0089397831527254657\n",
       ":   0.0016568803809717658\n",
       ":   0.00020189149996484959\n",
       ":   0.01933558489674960\n",
       ":   0.0040108217872595861\n",
       ":   0.00021548670762765962\n",
       ":   0.0050646131978801163\n",
       ":   1.07745630188785e-0664\n",
       ":   0.033729695381331965\n",
       ":   0.0046252852664168466\n",
       ":   0.00076712154855836967\n",
       ":   0.0019495076242613568\n",
       ":   0.00094907825499858669\n",
       ":   0.010948882606715470\n",
       ":   0.007013258247212471\n",
       ":   0.0057539145751580772\n",
       ":   0.0062965764239318473\n",
       ":   0.063149010973385474\n",
       ":   9.52419185676038e-0575\n",
       ":   0.006617111307932476\n",
       ":   0.0079547907313794877\n",
       ":   0.013399118638989278\n",
       ":   0.013474718779006979\n",
       ":   0.00014171031279550680\n",
       ":   0.030966494728909281\n",
       ":   0.0014792867306447882\n",
       ":   0.00029927053574770883\n",
       ":   7.88267526507338e-0584\n",
       ":   0.034913034818016985\n",
       ":   0.010241683214223986\n",
       ":   0.035529549733406687\n",
       ":   0.010955312125849288\n",
       ":   0.036142146154683389\n",
       ":   0.0067421005204927490\n",
       ":   0.0031763618088601691\n",
       ":   0.01187122094828792\n",
       ":   0.01093277180964293\n",
       ":   0.0032656242641947394\n",
       ":   0.050057102571466595\n",
       ":   0.005035543793083596\n",
       ":   0.0065985407426050697\n",
       ":   0.00032762261845684498\n",
       ":   0.00031019809029856799\n",
       ":   0.0317367238260756100\n",
       ":   0.0220117693469722101\n",
       ":   0.000428513615600382102\n",
       ":   0.00184648062964062103\n",
       ":   0.00168527438476393104\n",
       ":   0.000322846747925631105\n",
       ":   0.00947846833726852106\n",
       ":   0.0108272678060148107\n",
       ":   0.000843944480573048\n",
       "\n"
      ],
      "text/plain": [
       "           1            2            3            4            5            6 \n",
       "4.355511e-03 1.563809e-02 1.139207e-02 1.104063e-02 1.986214e-04 1.757073e-03 \n",
       "           7            8            9           10           11           12 \n",
       "5.233290e-05 1.491273e-03 3.015305e-03 7.187995e-03 1.154690e-02 3.022505e-02 \n",
       "          13           14           15           16           17           18 \n",
       "2.716412e-03 3.143599e-06 6.336143e-03 3.371076e-03 5.019029e-03 4.050654e-03 \n",
       "          19           20           21           22           23           24 \n",
       "2.918160e-02 1.784837e-04 1.607083e-03 1.081617e-06 5.400358e-01 9.289625e-04 \n",
       "          25           26           27           28           29           30 \n",
       "1.290382e-03 2.610732e-02 3.244260e-05 8.037795e-03 1.381938e-03 8.599714e-03 \n",
       "          31           32           33           34           35           36 \n",
       "4.338629e-05 6.668038e-04 2.933140e-03 4.066220e-02 1.889835e-03 3.604645e-02 \n",
       "          37           38           39           40           41           42 \n",
       "1.155134e-03 1.626428e-03 1.526877e-04 1.936069e-03 3.446742e-02 3.537513e-03 \n",
       "          43           44           45           46           47           48 \n",
       "2.219990e-02 1.817179e-02 1.190822e-03 6.007744e-03 3.811304e-04 7.304705e-03 \n",
       "          49           50           51           52           53           54 \n",
       "1.288678e-03 5.398206e-03 3.372755e-04 7.230494e-04 3.061187e-03 2.210511e-02 \n",
       "          55           56           57           58           59           60 \n",
       "2.401901e-03 8.939783e-03 1.656880e-03 2.018915e-04 1.933558e-02 4.010822e-03 \n",
       "          61           62           63           64           65           66 \n",
       "2.154867e-04 5.064613e-03 1.077456e-06 3.372970e-02 4.625285e-03 7.671215e-04 \n",
       "          67           68           69           70           71           72 \n",
       "1.949508e-03 9.490783e-04 1.094888e-02 7.013258e-03 5.753915e-03 6.296576e-03 \n",
       "          73           74           75           76           77           78 \n",
       "6.314901e-02 9.524192e-05 6.617111e-03 7.954791e-03 1.339912e-02 1.347472e-02 \n",
       "          79           80           81           82           83           84 \n",
       "1.417103e-04 3.096649e-02 1.479287e-03 2.992705e-04 7.882675e-05 3.491303e-02 \n",
       "          85           86           87           88           89           90 \n",
       "1.024168e-02 3.552955e-02 1.095531e-02 3.614215e-02 6.742101e-03 3.176362e-03 \n",
       "          91           92           93           94           95           96 \n",
       "1.187122e-02 1.093277e-02 3.265624e-03 5.005710e-02 5.035544e-03 6.598541e-03 \n",
       "          97           98           99          100          101          102 \n",
       "3.276226e-04 3.101981e-04 3.173672e-02 2.201177e-02 4.285136e-04 1.846481e-03 \n",
       "         103          104          105          106          107 \n",
       "1.685274e-03 3.228467e-04 9.478468e-03 1.082727e-02 8.439445e-04 "
      ]
     },
     "metadata": {},
     "output_type": "display_data"
    },
    {
     "data": {
      "image/png": "[encoded data removed]",
      "text/plain": [
       "plot without title"
      ]
     },
     "metadata": {
      "image/png": {
       "height": 420,
       "width": 420
      }
     },
     "output_type": "display_data"
    }
   ],
   "source": [
    "#distancia de Cook\n",
    "cooks.distance(fit)\n",
    "limite<-4/(n-fit$rank )\n",
    "abline(plot(cooks.distance(fit),ylab=\"Distancia de Cook\"), \n",
    "       col=\"red\", h=limite,lty=2)"
   ]
  },
  {
   "cell_type": "markdown",
   "metadata": {},
   "source": [
    "No gráfico de Distância de Cook vemos 3 possíveis observações influentes, porém há uma que se destaca que estaria entre 20 e 40."
   ]
  },
  {
   "cell_type": "code",
   "execution_count": 27,
   "metadata": {
    "vscode": {
     "languageId": "r"
    }
   },
   "outputs": [],
   "source": [
    "#residuo\n",
    "residuo <- rstudent(fit) # residuo studentizado"
   ]
  },
  {
   "cell_type": "code",
   "execution_count": 28,
   "metadata": {
    "vscode": {
     "languageId": "r"
    }
   },
   "outputs": [
    {
     "data": {
      "image/png": "[encoded data removed]",
      "text/plain": [
       "Plot with title \"Residuos\""
      ]
     },
     "metadata": {
      "image/png": {
       "height": 420,
       "width": 420
      }
     },
     "output_type": "display_data"
    }
   ],
   "source": [
    "plot(residuo,type='p',pch=\"+\",main=\"Residuos\",xlab=\"indices\") # plota os residuos do modelo\n",
    "abline(h=c(-2,0,2),lty=3) # inclui linhas horizontais no grafico"
   ]
  },
  {
   "cell_type": "markdown",
   "metadata": {
    "vscode": {
     "languageId": "r"
    }
   },
   "source": [
    "Há alguns valores do resíduo que estão fora dos limites -2 e 2, talvez o modelo ajustado não está adequado."
   ]
  },
  {
   "cell_type": "code",
   "execution_count": 29,
   "metadata": {
    "vscode": {
     "languageId": "r"
    }
   },
   "outputs": [
    {
     "data": {
      "image/png": "[encoded data removed]",
      "text/plain": [
       "Plot with title \"Histogram of residuo\""
      ]
     },
     "metadata": {
      "image/png": {
       "height": 420,
       "width": 420
      }
     },
     "output_type": "display_data"
    }
   ],
   "source": [
    "hist(residuo)"
   ]
  },
  {
   "cell_type": "markdown",
   "metadata": {},
   "source": [
    "Acima podemos observar que a distribuição dos resíduos se parece com uma normal"
   ]
  },
  {
   "cell_type": "code",
   "execution_count": 30,
   "metadata": {
    "vscode": {
     "languageId": "r"
    }
   },
   "outputs": [
    {
     "name": "stdout",
     "output_type": "stream",
     "text": [
      "Gaussian model (lm object) \n"
     ]
    },
    {
     "data": {
      "image/png": "[encoded data removed]",
      "text/plain": [
       "Plot with title \"\""
      ]
     },
     "metadata": {
      "image/png": {
       "height": 420,
       "width": 420
      }
     },
     "output_type": "display_data"
    }
   ],
   "source": [
    "#envelope simulado baseado nos residuos studentizados\n",
    "hnp(fit,resid.type=\"student\",halfnormal = F) # envelope simulado "
   ]
  },
  {
   "cell_type": "markdown",
   "metadata": {},
   "source": [
    "Acima no gráfico do envelope dos resíduos, temos eles \"studentizados\" e ordenados. Esse envelope são bandas de confiança e esperamos que pelo menos 90% dos resíduos estejam entre essas bandas. Essas bandas são feitas através de simulações de Monte Carlo. \n",
    "\n",
    "Esse envelope indica, principalmente, que a suposição distribucional está correta. Ou seja, a distribuição normal é correta para modelar esses dados."
   ]
  },
  {
   "cell_type": "markdown",
   "metadata": {},
   "source": [
    "#### 7. Ajustando o modelo final"
   ]
  },
  {
   "cell_type": "markdown",
   "metadata": {},
   "source": [
    "Como vimos pelo gráfico da correlação e pelo \"VIF\" temos que remover ou x3 ou x4 por conta da multicolinearidade. Vou remover x3, pois x4 tem uma correlação um pouco maior com y.\n",
    "\n",
    "Além disso, também vou remover a observação mais influente. Pelo teste de \"Distância de cook\" aparentava ser a 23."
   ]
  },
  {
   "cell_type": "code",
   "execution_count": 31,
   "metadata": {
    "vscode": {
     "languageId": "r"
    }
   },
   "outputs": [
    {
     "data": {
      "text/html": [
       "<table class=\"dataframe\">\n",
       "<caption>A data.frame: 25 × 8</caption>\n",
       "<thead>\n",
       "\t<tr><th></th><th scope=col>y</th><th scope=col>x1</th><th scope=col>x2</th><th scope=col>x3</th><th scope=col>x4</th><th scope=col>x5</th><th scope=col>x6</th><th scope=col>x7</th></tr>\n",
       "\t<tr><th></th><th scope=col>&lt;dbl&gt;</th><th scope=col>&lt;int&gt;</th><th scope=col>&lt;dbl&gt;</th><th scope=col>&lt;dbl&gt;</th><th scope=col>&lt;dbl&gt;</th><th scope=col>&lt;int&gt;</th><th scope=col>&lt;dbl&gt;</th><th scope=col>&lt;dbl&gt;</th></tr>\n",
       "</thead>\n",
       "<tbody>\n",
       "\t<tr><th scope=row>1</th><td>110.038</td><td>1</td><td>57.361</td><td>0.434</td><td>4.317</td><td>12</td><td>1.715</td><td>104.320</td></tr>\n",
       "\t<tr><th scope=row>2</th><td> 86.445</td><td>1</td><td>52.070</td><td>0.437</td><td>4.052</td><td>13</td><td>2.221</td><td> 94.936</td></tr>\n",
       "\t<tr><th scope=row>3</th><td>152.419</td><td>1</td><td>61.397</td><td>0.727</td><td>7.854</td><td> 8</td><td>7.148</td><td> 87.870</td></tr>\n",
       "\t<tr><th scope=row>4</th><td>114.720</td><td>1</td><td>42.482</td><td>0.244</td><td>2.297</td><td> 9</td><td>2.272</td><td>103.660</td></tr>\n",
       "\t<tr><th scope=row>5</th><td>111.444</td><td>1</td><td>29.660</td><td>0.449</td><td>4.509</td><td> 6</td><td>2.444</td><td>101.167</td></tr>\n",
       "\t<tr><th scope=row>6</th><td>147.882</td><td>1</td><td>58.217</td><td>0.363</td><td>4.506</td><td>13</td><td>6.971</td><td> 86.432</td></tr>\n",
       "\t<tr><th scope=row>7</th><td>123.536</td><td>0</td><td>61.943</td><td>0.267</td><td>2.424</td><td> 6</td><td>6.338</td><td> 79.273</td></tr>\n",
       "\t<tr><th scope=row>8</th><td>143.982</td><td>1</td><td>47.733</td><td>0.505</td><td>4.992</td><td>13</td><td>6.381</td><td> 93.894</td></tr>\n",
       "\t<tr><th scope=row>9</th><td> 99.109</td><td>1</td><td>53.535</td><td>0.396</td><td>3.930</td><td> 5</td><td>1.153</td><td> 99.304</td></tr>\n",
       "\t<tr><th scope=row>10</th><td> 87.745</td><td>1</td><td>28.155</td><td>0.296</td><td>2.340</td><td> 6</td><td>1.342</td><td> 94.305</td></tr>\n",
       "\t<tr><th scope=row>11</th><td> 77.355</td><td>0</td><td>70.676</td><td>0.240</td><td>2.301</td><td>10</td><td>1.356</td><td>107.277</td></tr>\n",
       "\t<tr><th scope=row>12</th><td>168.885</td><td>0</td><td>34.754</td><td>0.804</td><td>8.186</td><td>12</td><td>8.271</td><td>110.212</td></tr>\n",
       "\t<tr><th scope=row>13</th><td>167.763</td><td>1</td><td>63.969</td><td>0.577</td><td>6.008</td><td> 7</td><td>7.624</td><td> 85.523</td></tr>\n",
       "\t<tr><th scope=row>14</th><td>127.063</td><td>1</td><td>50.919</td><td>0.242</td><td>3.033</td><td>14</td><td>4.917</td><td> 97.902</td></tr>\n",
       "\t<tr><th scope=row>15</th><td> 72.153</td><td>0</td><td>24.322</td><td>0.237</td><td>3.146</td><td> 6</td><td>0.205</td><td> 91.094</td></tr>\n",
       "\t<tr><th scope=row>16</th><td> 70.735</td><td>0</td><td>29.317</td><td>0.252</td><td>3.481</td><td>12</td><td>0.268</td><td> 93.658</td></tr>\n",
       "\t<tr><th scope=row>17</th><td> 92.218</td><td>1</td><td>54.982</td><td>0.285</td><td>2.493</td><td>11</td><td>0.549</td><td> 93.266</td></tr>\n",
       "\t<tr><th scope=row>18</th><td>130.098</td><td>1</td><td>34.689</td><td>0.086</td><td>1.193</td><td>19</td><td>6.030</td><td>114.562</td></tr>\n",
       "\t<tr><th scope=row>19</th><td> 68.745</td><td>1</td><td>66.977</td><td>0.289</td><td>3.642</td><td> 5</td><td>0.720</td><td>106.834</td></tr>\n",
       "\t<tr><th scope=row>20</th><td> 61.217</td><td>0</td><td>57.313</td><td>0.107</td><td>0.822</td><td>11</td><td>0.554</td><td> 89.475</td></tr>\n",
       "\t<tr><th scope=row>21</th><td>138.521</td><td>1</td><td>30.444</td><td>0.532</td><td>4.912</td><td>13</td><td>4.684</td><td>100.689</td></tr>\n",
       "\t<tr><th scope=row>22</th><td> 85.584</td><td>0</td><td>39.861</td><td>0.370</td><td>3.799</td><td>10</td><td>1.976</td><td> 84.007</td></tr>\n",
       "\t<tr><th scope=row>24</th><td> 75.173</td><td>0</td><td>38.512</td><td>0.352</td><td>4.205</td><td> 9</td><td>0.668</td><td> 88.584</td></tr>\n",
       "\t<tr><th scope=row>25</th><td>119.462</td><td>1</td><td>61.797</td><td>0.265</td><td>2.703</td><td> 9</td><td>3.875</td><td> 99.325</td></tr>\n",
       "\t<tr><th scope=row>26</th><td> 79.271</td><td>1</td><td>60.597</td><td>0.370</td><td>3.180</td><td> 8</td><td>2.249</td><td>101.109</td></tr>\n",
       "</tbody>\n",
       "</table>\n"
      ],
      "text/latex": [
       "A data.frame: 25 × 8\n",
       "\\begin{tabular}{r|llllllll}\n",
       "  & y & x1 & x2 & x3 & x4 & x5 & x6 & x7\\\\\n",
       "  & <dbl> & <int> & <dbl> & <dbl> & <dbl> & <int> & <dbl> & <dbl>\\\\\n",
       "\\hline\n",
       "\t1 & 110.038 & 1 & 57.361 & 0.434 & 4.317 & 12 & 1.715 & 104.320\\\\\n",
       "\t2 &  86.445 & 1 & 52.070 & 0.437 & 4.052 & 13 & 2.221 &  94.936\\\\\n",
       "\t3 & 152.419 & 1 & 61.397 & 0.727 & 7.854 &  8 & 7.148 &  87.870\\\\\n",
       "\t4 & 114.720 & 1 & 42.482 & 0.244 & 2.297 &  9 & 2.272 & 103.660\\\\\n",
       "\t5 & 111.444 & 1 & 29.660 & 0.449 & 4.509 &  6 & 2.444 & 101.167\\\\\n",
       "\t6 & 147.882 & 1 & 58.217 & 0.363 & 4.506 & 13 & 6.971 &  86.432\\\\\n",
       "\t7 & 123.536 & 0 & 61.943 & 0.267 & 2.424 &  6 & 6.338 &  79.273\\\\\n",
       "\t8 & 143.982 & 1 & 47.733 & 0.505 & 4.992 & 13 & 6.381 &  93.894\\\\\n",
       "\t9 &  99.109 & 1 & 53.535 & 0.396 & 3.930 &  5 & 1.153 &  99.304\\\\\n",
       "\t10 &  87.745 & 1 & 28.155 & 0.296 & 2.340 &  6 & 1.342 &  94.305\\\\\n",
       "\t11 &  77.355 & 0 & 70.676 & 0.240 & 2.301 & 10 & 1.356 & 107.277\\\\\n",
       "\t12 & 168.885 & 0 & 34.754 & 0.804 & 8.186 & 12 & 8.271 & 110.212\\\\\n",
       "\t13 & 167.763 & 1 & 63.969 & 0.577 & 6.008 &  7 & 7.624 &  85.523\\\\\n",
       "\t14 & 127.063 & 1 & 50.919 & 0.242 & 3.033 & 14 & 4.917 &  97.902\\\\\n",
       "\t15 &  72.153 & 0 & 24.322 & 0.237 & 3.146 &  6 & 0.205 &  91.094\\\\\n",
       "\t16 &  70.735 & 0 & 29.317 & 0.252 & 3.481 & 12 & 0.268 &  93.658\\\\\n",
       "\t17 &  92.218 & 1 & 54.982 & 0.285 & 2.493 & 11 & 0.549 &  93.266\\\\\n",
       "\t18 & 130.098 & 1 & 34.689 & 0.086 & 1.193 & 19 & 6.030 & 114.562\\\\\n",
       "\t19 &  68.745 & 1 & 66.977 & 0.289 & 3.642 &  5 & 0.720 & 106.834\\\\\n",
       "\t20 &  61.217 & 0 & 57.313 & 0.107 & 0.822 & 11 & 0.554 &  89.475\\\\\n",
       "\t21 & 138.521 & 1 & 30.444 & 0.532 & 4.912 & 13 & 4.684 & 100.689\\\\\n",
       "\t22 &  85.584 & 0 & 39.861 & 0.370 & 3.799 & 10 & 1.976 &  84.007\\\\\n",
       "\t24 &  75.173 & 0 & 38.512 & 0.352 & 4.205 &  9 & 0.668 &  88.584\\\\\n",
       "\t25 & 119.462 & 1 & 61.797 & 0.265 & 2.703 &  9 & 3.875 &  99.325\\\\\n",
       "\t26 &  79.271 & 1 & 60.597 & 0.370 & 3.180 &  8 & 2.249 & 101.109\\\\\n",
       "\\end{tabular}\n"
      ],
      "text/markdown": [
       "\n",
       "A data.frame: 25 × 8\n",
       "\n",
       "| <!--/--> | y &lt;dbl&gt; | x1 &lt;int&gt; | x2 &lt;dbl&gt; | x3 &lt;dbl&gt; | x4 &lt;dbl&gt; | x5 &lt;int&gt; | x6 &lt;dbl&gt; | x7 &lt;dbl&gt; |\n",
       "|---|---|---|---|---|---|---|---|---|\n",
       "| 1 | 110.038 | 1 | 57.361 | 0.434 | 4.317 | 12 | 1.715 | 104.320 |\n",
       "| 2 |  86.445 | 1 | 52.070 | 0.437 | 4.052 | 13 | 2.221 |  94.936 |\n",
       "| 3 | 152.419 | 1 | 61.397 | 0.727 | 7.854 |  8 | 7.148 |  87.870 |\n",
       "| 4 | 114.720 | 1 | 42.482 | 0.244 | 2.297 |  9 | 2.272 | 103.660 |\n",
       "| 5 | 111.444 | 1 | 29.660 | 0.449 | 4.509 |  6 | 2.444 | 101.167 |\n",
       "| 6 | 147.882 | 1 | 58.217 | 0.363 | 4.506 | 13 | 6.971 |  86.432 |\n",
       "| 7 | 123.536 | 0 | 61.943 | 0.267 | 2.424 |  6 | 6.338 |  79.273 |\n",
       "| 8 | 143.982 | 1 | 47.733 | 0.505 | 4.992 | 13 | 6.381 |  93.894 |\n",
       "| 9 |  99.109 | 1 | 53.535 | 0.396 | 3.930 |  5 | 1.153 |  99.304 |\n",
       "| 10 |  87.745 | 1 | 28.155 | 0.296 | 2.340 |  6 | 1.342 |  94.305 |\n",
       "| 11 |  77.355 | 0 | 70.676 | 0.240 | 2.301 | 10 | 1.356 | 107.277 |\n",
       "| 12 | 168.885 | 0 | 34.754 | 0.804 | 8.186 | 12 | 8.271 | 110.212 |\n",
       "| 13 | 167.763 | 1 | 63.969 | 0.577 | 6.008 |  7 | 7.624 |  85.523 |\n",
       "| 14 | 127.063 | 1 | 50.919 | 0.242 | 3.033 | 14 | 4.917 |  97.902 |\n",
       "| 15 |  72.153 | 0 | 24.322 | 0.237 | 3.146 |  6 | 0.205 |  91.094 |\n",
       "| 16 |  70.735 | 0 | 29.317 | 0.252 | 3.481 | 12 | 0.268 |  93.658 |\n",
       "| 17 |  92.218 | 1 | 54.982 | 0.285 | 2.493 | 11 | 0.549 |  93.266 |\n",
       "| 18 | 130.098 | 1 | 34.689 | 0.086 | 1.193 | 19 | 6.030 | 114.562 |\n",
       "| 19 |  68.745 | 1 | 66.977 | 0.289 | 3.642 |  5 | 0.720 | 106.834 |\n",
       "| 20 |  61.217 | 0 | 57.313 | 0.107 | 0.822 | 11 | 0.554 |  89.475 |\n",
       "| 21 | 138.521 | 1 | 30.444 | 0.532 | 4.912 | 13 | 4.684 | 100.689 |\n",
       "| 22 |  85.584 | 0 | 39.861 | 0.370 | 3.799 | 10 | 1.976 |  84.007 |\n",
       "| 24 |  75.173 | 0 | 38.512 | 0.352 | 4.205 |  9 | 0.668 |  88.584 |\n",
       "| 25 | 119.462 | 1 | 61.797 | 0.265 | 2.703 |  9 | 3.875 |  99.325 |\n",
       "| 26 |  79.271 | 1 | 60.597 | 0.370 | 3.180 |  8 | 2.249 | 101.109 |\n",
       "\n"
      ],
      "text/plain": [
       "   y       x1 x2     x3    x4    x5 x6    x7     \n",
       "1  110.038 1  57.361 0.434 4.317 12 1.715 104.320\n",
       "2   86.445 1  52.070 0.437 4.052 13 2.221  94.936\n",
       "3  152.419 1  61.397 0.727 7.854  8 7.148  87.870\n",
       "4  114.720 1  42.482 0.244 2.297  9 2.272 103.660\n",
       "5  111.444 1  29.660 0.449 4.509  6 2.444 101.167\n",
       "6  147.882 1  58.217 0.363 4.506 13 6.971  86.432\n",
       "7  123.536 0  61.943 0.267 2.424  6 6.338  79.273\n",
       "8  143.982 1  47.733 0.505 4.992 13 6.381  93.894\n",
       "9   99.109 1  53.535 0.396 3.930  5 1.153  99.304\n",
       "10  87.745 1  28.155 0.296 2.340  6 1.342  94.305\n",
       "11  77.355 0  70.676 0.240 2.301 10 1.356 107.277\n",
       "12 168.885 0  34.754 0.804 8.186 12 8.271 110.212\n",
       "13 167.763 1  63.969 0.577 6.008  7 7.624  85.523\n",
       "14 127.063 1  50.919 0.242 3.033 14 4.917  97.902\n",
       "15  72.153 0  24.322 0.237 3.146  6 0.205  91.094\n",
       "16  70.735 0  29.317 0.252 3.481 12 0.268  93.658\n",
       "17  92.218 1  54.982 0.285 2.493 11 0.549  93.266\n",
       "18 130.098 1  34.689 0.086 1.193 19 6.030 114.562\n",
       "19  68.745 1  66.977 0.289 3.642  5 0.720 106.834\n",
       "20  61.217 0  57.313 0.107 0.822 11 0.554  89.475\n",
       "21 138.521 1  30.444 0.532 4.912 13 4.684 100.689\n",
       "22  85.584 0  39.861 0.370 3.799 10 1.976  84.007\n",
       "24  75.173 0  38.512 0.352 4.205  9 0.668  88.584\n",
       "25 119.462 1  61.797 0.265 2.703  9 3.875  99.325\n",
       "26  79.271 1  60.597 0.370 3.180  8 2.249 101.109"
      ]
     },
     "metadata": {},
     "output_type": "display_data"
    }
   ],
   "source": [
    "dados23<-dados[-23,]\n",
    "head(dados23, 25)"
   ]
  },
  {
   "cell_type": "markdown",
   "metadata": {
    "vscode": {
     "languageId": "r"
    }
   },
   "source": [
    "Linha 23 removida"
   ]
  },
  {
   "cell_type": "code",
   "execution_count": 32,
   "metadata": {
    "vscode": {
     "languageId": "r"
    }
   },
   "outputs": [],
   "source": [
    "#ajustando o modelo sem x3\n",
    "fit <- lm(y~x1+x2+x4+x5+x6+x7,data=dados23)"
   ]
  },
  {
   "cell_type": "code",
   "execution_count": 33,
   "metadata": {
    "vscode": {
     "languageId": "r"
    }
   },
   "outputs": [
    {
     "data": {
      "text/plain": [
       "\n",
       "Call:\n",
       "lm(formula = y ~ x1 + x2 + x4 + x5 + x6 + x7, data = dados23)\n",
       "\n",
       "Residuals:\n",
       "     Min       1Q   Median       3Q      Max \n",
       "-21.0708  -5.7216  -0.1619   6.6116  21.7240 \n",
       "\n",
       "Coefficients:\n",
       "            Estimate Std. Error t value Pr(>|t|)    \n",
       "(Intercept) 56.68806   11.58663   4.893 3.86e-06 ***\n",
       "x1          19.19813    1.97448   9.723 4.40e-16 ***\n",
       "x2          -0.08273    0.08347  -0.991    0.324    \n",
       "x4           2.62832    0.54741   4.801 5.60e-06 ***\n",
       "x5           0.13381    0.27528   0.486    0.628    \n",
       "x6          10.23402    0.30851  33.173  < 2e-16 ***\n",
       "x7          -0.03100    0.10409  -0.298    0.766    \n",
       "---\n",
       "Signif. codes:  0 '***' 0.001 '**' 0.01 '*' 0.05 '.' 0.1 ' ' 1\n",
       "\n",
       "Residual standard error: 9.785 on 99 degrees of freedom\n",
       "Multiple R-squared:  0.9295,\tAdjusted R-squared:  0.9252 \n",
       "F-statistic: 217.4 on 6 and 99 DF,  p-value: < 2.2e-16\n"
      ]
     },
     "metadata": {},
     "output_type": "display_data"
    }
   ],
   "source": [
    "summary(fit)"
   ]
  },
  {
   "cell_type": "markdown",
   "metadata": {},
   "source": [
    "$R^2$ do modelo foi 0.929. Ou seja, o modelo explica 92,9% da variabilidade de y;\n",
    "\n",
    "$\\overline{R^2}$, o critério de seleção, foi 0.9252;\n",
    "\n",
    "Apesar da pequeníssima melhora não podemos comparar ambos os modelos, através do R2 ajustado, pois ao remover a linha 23 já não se trata mais do mesmo dataframe."
   ]
  },
  {
   "cell_type": "code",
   "execution_count": 34,
   "metadata": {
    "vscode": {
     "languageId": "r"
    }
   },
   "outputs": [
    {
     "data": {
      "text/html": [
       "<style>\n",
       ".dl-inline {width: auto; margin:0; padding: 0}\n",
       ".dl-inline>dt, .dl-inline>dd {float: none; width: auto; display: inline-block}\n",
       ".dl-inline>dt::after {content: \":\\0020\"; padding-right: .5ex}\n",
       ".dl-inline>dt:not(:first-of-type) {padding-left: .5ex}\n",
       "</style><dl class=dl-inline><dt>1</dt><dd>98.4097493271773</dd><dt>2</dt><dd>103.754160336256</dd><dt>3</dt><dd>162.948402559393</dd><dt>4</dt><dd>99.6509218953046</dd><dt>5</dt><dd>107.961687352093</dd><dt>6</dt><dd>153.314116979556</dd><dt>7</dt><dd>121.142674777316</dd><dt>8</dt><dd>149.189446320911</dd><dt>9</dt><dd>91.1764242072296</dd><dt>10</dt><dd>91.3202294532121</dd><dt>11</dt><dd>68.7779974322521</dd><dt>12</dt><dd>158.162556259273</dd><dt>13</dt><dd>162.694078314054</dd><dt>14</dt><dd>128.80391731546</dd><dt>15</dt><dd>63.0211134673952</dd><dt>16</dt><dd>64.8564776306524</dd><dt>17</dt><dd>82.0885464773761</dd><dt>18</dt><dd>136.853612381533</dd><dt>19</dt><dd>84.6425621436737</dd><dt>20</dt><dd>58.4743455243506</dd><dt>21</dt><dd>132.831769771843</dd><dt>22</dt><dd>82.3312302116088</dd><dt>24</dt><dd>69.8481158142756</dd><dt>25</dt><dd>115.659543560285</dd><dt>26</dt><dd>100.182885504254</dd><dt>27</dt><dd>77.0337080990824</dd><dt>28</dt><dd>124.618627285352</dd><dt>29</dt><dd>149.726987309097</dd><dt>30</dt><dd>128.037607911858</dd><dt>31</dt><dd>102.374461936377</dd><dt>32</dt><dd>159.515021622327</dd><dt>33</dt><dd>84.3281536354935</dd><dt>34</dt><dd>64.6740528219542</dd><dt>35</dt><dd>88.1459881985356</dd><dt>36</dt><dd>57.8931079828886</dd><dt>37</dt><dd>110.611470312845</dd><dt>38</dt><dd>62.4700346143744</dd><dt>39</dt><dd>92.0013842409983</dd><dt>40</dt><dd>102.253637241175</dd><dt>41</dt><dd>113.693951427711</dd><dt>42</dt><dd>116.825231100434</dd><dt>43</dt><dd>66.5107319091838</dd><dt>44</dt><dd>72.8260865864458</dd><dt>45</dt><dd>104.754857527869</dd><dt>46</dt><dd>87.0308999971479</dd><dt>47</dt><dd>137.153495012579</dd><dt>48</dt><dd>65.4597422411835</dd><dt>49</dt><dd>120.84002984969</dd><dt>50</dt><dd>104.786853051593</dd><dt>51</dt><dd>101.305709236189</dd><dt>52</dt><dd>123.892598790439</dd><dt>53</dt><dd>114.096515752052</dd><dt>54</dt><dd>193.93029532641</dd><dt>55</dt><dd>92.7104320849829</dd><dt>56</dt><dd>132.671918773412</dd><dt>57</dt><dd>95.5902481563773</dd><dt>58</dt><dd>86.8842378064288</dd><dt>59</dt><dd>105.766058705188</dd><dt>60</dt><dd>84.980741622522</dd><dt>61</dt><dd>93.1260051231353</dd><dt>62</dt><dd>117.447740444517</dd><dt>63</dt><dd>124.17431493027</dd><dt>64</dt><dd>255.775486453783</dd><dt>65</dt><dd>148.485157402284</dd><dt>66</dt><dd>82.8742389409601</dd><dt>67</dt><dd>158.284309719772</dd><dt>68</dt><dd>104.249325763501</dd><dt>69</dt><dd>123.999176319272</dd><dt>70</dt><dd>110.449879360028</dd><dt>71</dt><dd>81.794151927585</dd><dt>72</dt><dd>97.7257303118501</dd><dt>73</dt><dd>109.739373424605</dd><dt>74</dt><dd>108.446461319005</dd><dt>75</dt><dd>110.670717505178</dd><dt>76</dt><dd>108.78888442768</dd><dt>77</dt><dd>114.390101395334</dd><dt>78</dt><dd>62.3767425289212</dd><dt>79</dt><dd>93.7942684530368</dd><dt>80</dt><dd>96.8875858774705</dd><dt>81</dt><dd>222.174508065599</dd><dt>82</dt><dd>133.166435008348</dd><dt>83</dt><dd>62.8610462502939</dd><dt>84</dt><dd>115.470267248491</dd><dt>85</dt><dd>159.67610806583</dd><dt>86</dt><dd>82.5077527906511</dd><dt>87</dt><dd>89.2625668599715</dd><dt>88</dt><dd>106.268419248463</dd><dt>89</dt><dd>90.6361191632747</dd><dt>90</dt><dd>86.757373907849</dd><dt>91</dt><dd>86.6372630661667</dd><dt>92</dt><dd>175.378020584763</dd><dt>93</dt><dd>132.725200144184</dd><dt>94</dt><dd>158.966527364248</dd><dt>95</dt><dd>123.208131458989</dd><dt>96</dt><dd>144.39657362832</dd><dt>97</dt><dd>106.656375580604</dd><dt>98</dt><dd>82.6746595007722</dd><dt>99</dt><dd>131.092611227331</dd><dt>100</dt><dd>162.978637485004</dd><dt>101</dt><dd>88.370766400519</dd><dt>102</dt><dd>150.591407264454</dd><dt>103</dt><dd>82.5887304337637</dd><dt>104</dt><dd>89.1657482556923</dd><dt>105</dt><dd>113.101119636145</dd><dt>106</dt><dd>77.5832210391983</dd><dt>107</dt><dd>122.032315505947</dd></dl>\n"
      ],
      "text/latex": [
       "\\begin{description*}\n",
       "\\item[1] 98.4097493271773\n",
       "\\item[2] 103.754160336256\n",
       "\\item[3] 162.948402559393\n",
       "\\item[4] 99.6509218953046\n",
       "\\item[5] 107.961687352093\n",
       "\\item[6] 153.314116979556\n",
       "\\item[7] 121.142674777316\n",
       "\\item[8] 149.189446320911\n",
       "\\item[9] 91.1764242072296\n",
       "\\item[10] 91.3202294532121\n",
       "\\item[11] 68.7779974322521\n",
       "\\item[12] 158.162556259273\n",
       "\\item[13] 162.694078314054\n",
       "\\item[14] 128.80391731546\n",
       "\\item[15] 63.0211134673952\n",
       "\\item[16] 64.8564776306524\n",
       "\\item[17] 82.0885464773761\n",
       "\\item[18] 136.853612381533\n",
       "\\item[19] 84.6425621436737\n",
       "\\item[20] 58.4743455243506\n",
       "\\item[21] 132.831769771843\n",
       "\\item[22] 82.3312302116088\n",
       "\\item[24] 69.8481158142756\n",
       "\\item[25] 115.659543560285\n",
       "\\item[26] 100.182885504254\n",
       "\\item[27] 77.0337080990824\n",
       "\\item[28] 124.618627285352\n",
       "\\item[29] 149.726987309097\n",
       "\\item[30] 128.037607911858\n",
       "\\item[31] 102.374461936377\n",
       "\\item[32] 159.515021622327\n",
       "\\item[33] 84.3281536354935\n",
       "\\item[34] 64.6740528219542\n",
       "\\item[35] 88.1459881985356\n",
       "\\item[36] 57.8931079828886\n",
       "\\item[37] 110.611470312845\n",
       "\\item[38] 62.4700346143744\n",
       "\\item[39] 92.0013842409983\n",
       "\\item[40] 102.253637241175\n",
       "\\item[41] 113.693951427711\n",
       "\\item[42] 116.825231100434\n",
       "\\item[43] 66.5107319091838\n",
       "\\item[44] 72.8260865864458\n",
       "\\item[45] 104.754857527869\n",
       "\\item[46] 87.0308999971479\n",
       "\\item[47] 137.153495012579\n",
       "\\item[48] 65.4597422411835\n",
       "\\item[49] 120.84002984969\n",
       "\\item[50] 104.786853051593\n",
       "\\item[51] 101.305709236189\n",
       "\\item[52] 123.892598790439\n",
       "\\item[53] 114.096515752052\n",
       "\\item[54] 193.93029532641\n",
       "\\item[55] 92.7104320849829\n",
       "\\item[56] 132.671918773412\n",
       "\\item[57] 95.5902481563773\n",
       "\\item[58] 86.8842378064288\n",
       "\\item[59] 105.766058705188\n",
       "\\item[60] 84.980741622522\n",
       "\\item[61] 93.1260051231353\n",
       "\\item[62] 117.447740444517\n",
       "\\item[63] 124.17431493027\n",
       "\\item[64] 255.775486453783\n",
       "\\item[65] 148.485157402284\n",
       "\\item[66] 82.8742389409601\n",
       "\\item[67] 158.284309719772\n",
       "\\item[68] 104.249325763501\n",
       "\\item[69] 123.999176319272\n",
       "\\item[70] 110.449879360028\n",
       "\\item[71] 81.794151927585\n",
       "\\item[72] 97.7257303118501\n",
       "\\item[73] 109.739373424605\n",
       "\\item[74] 108.446461319005\n",
       "\\item[75] 110.670717505178\n",
       "\\item[76] 108.78888442768\n",
       "\\item[77] 114.390101395334\n",
       "\\item[78] 62.3767425289212\n",
       "\\item[79] 93.7942684530368\n",
       "\\item[80] 96.8875858774705\n",
       "\\item[81] 222.174508065599\n",
       "\\item[82] 133.166435008348\n",
       "\\item[83] 62.8610462502939\n",
       "\\item[84] 115.470267248491\n",
       "\\item[85] 159.67610806583\n",
       "\\item[86] 82.5077527906511\n",
       "\\item[87] 89.2625668599715\n",
       "\\item[88] 106.268419248463\n",
       "\\item[89] 90.6361191632747\n",
       "\\item[90] 86.757373907849\n",
       "\\item[91] 86.6372630661667\n",
       "\\item[92] 175.378020584763\n",
       "\\item[93] 132.725200144184\n",
       "\\item[94] 158.966527364248\n",
       "\\item[95] 123.208131458989\n",
       "\\item[96] 144.39657362832\n",
       "\\item[97] 106.656375580604\n",
       "\\item[98] 82.6746595007722\n",
       "\\item[99] 131.092611227331\n",
       "\\item[100] 162.978637485004\n",
       "\\item[101] 88.370766400519\n",
       "\\item[102] 150.591407264454\n",
       "\\item[103] 82.5887304337637\n",
       "\\item[104] 89.1657482556923\n",
       "\\item[105] 113.101119636145\n",
       "\\item[106] 77.5832210391983\n",
       "\\item[107] 122.032315505947\n",
       "\\end{description*}\n"
      ],
      "text/markdown": [
       "1\n",
       ":   98.40974932717732\n",
       ":   103.7541603362563\n",
       ":   162.9484025593934\n",
       ":   99.65092189530465\n",
       ":   107.9616873520936\n",
       ":   153.3141169795567\n",
       ":   121.1426747773168\n",
       ":   149.1894463209119\n",
       ":   91.176424207229610\n",
       ":   91.320229453212111\n",
       ":   68.777997432252112\n",
       ":   158.16255625927313\n",
       ":   162.69407831405414\n",
       ":   128.8039173154615\n",
       ":   63.021113467395216\n",
       ":   64.856477630652417\n",
       ":   82.088546477376118\n",
       ":   136.85361238153319\n",
       ":   84.642562143673720\n",
       ":   58.474345524350621\n",
       ":   132.83176977184322\n",
       ":   82.331230211608824\n",
       ":   69.848115814275625\n",
       ":   115.65954356028526\n",
       ":   100.18288550425427\n",
       ":   77.033708099082428\n",
       ":   124.61862728535229\n",
       ":   149.72698730909730\n",
       ":   128.03760791185831\n",
       ":   102.37446193637732\n",
       ":   159.51502162232733\n",
       ":   84.328153635493534\n",
       ":   64.674052821954235\n",
       ":   88.145988198535636\n",
       ":   57.893107982888637\n",
       ":   110.61147031284538\n",
       ":   62.470034614374439\n",
       ":   92.001384240998340\n",
       ":   102.25363724117541\n",
       ":   113.69395142771142\n",
       ":   116.82523110043443\n",
       ":   66.510731909183844\n",
       ":   72.826086586445845\n",
       ":   104.75485752786946\n",
       ":   87.030899997147947\n",
       ":   137.15349501257948\n",
       ":   65.459742241183549\n",
       ":   120.8400298496950\n",
       ":   104.78685305159351\n",
       ":   101.30570923618952\n",
       ":   123.89259879043953\n",
       ":   114.09651575205254\n",
       ":   193.9302953264155\n",
       ":   92.710432084982956\n",
       ":   132.67191877341257\n",
       ":   95.590248156377358\n",
       ":   86.884237806428859\n",
       ":   105.76605870518860\n",
       ":   84.98074162252261\n",
       ":   93.126005123135362\n",
       ":   117.44774044451763\n",
       ":   124.1743149302764\n",
       ":   255.77548645378365\n",
       ":   148.48515740228466\n",
       ":   82.874238940960167\n",
       ":   158.28430971977268\n",
       ":   104.24932576350169\n",
       ":   123.99917631927270\n",
       ":   110.44987936002871\n",
       ":   81.79415192758572\n",
       ":   97.725730311850173\n",
       ":   109.73937342460574\n",
       ":   108.44646131900575\n",
       ":   110.67071750517876\n",
       ":   108.7888844276877\n",
       ":   114.39010139533478\n",
       ":   62.376742528921279\n",
       ":   93.794268453036880\n",
       ":   96.887585877470581\n",
       ":   222.17450806559982\n",
       ":   133.16643500834883\n",
       ":   62.861046250293984\n",
       ":   115.47026724849185\n",
       ":   159.6761080658386\n",
       ":   82.507752790651187\n",
       ":   89.262566859971588\n",
       ":   106.26841924846389\n",
       ":   90.636119163274790\n",
       ":   86.75737390784991\n",
       ":   86.637263066166792\n",
       ":   175.37802058476393\n",
       ":   132.72520014418494\n",
       ":   158.96652736424895\n",
       ":   123.20813145898996\n",
       ":   144.3965736283297\n",
       ":   106.65637558060498\n",
       ":   82.674659500772299\n",
       ":   131.092611227331100\n",
       ":   162.978637485004101\n",
       ":   88.370766400519102\n",
       ":   150.591407264454103\n",
       ":   82.5887304337637104\n",
       ":   89.1657482556923105\n",
       ":   113.101119636145106\n",
       ":   77.5832210391983107\n",
       ":   122.032315505947\n",
       "\n"
      ],
      "text/plain": [
       "        1         2         3         4         5         6         7         8 \n",
       " 98.40975 103.75416 162.94840  99.65092 107.96169 153.31412 121.14267 149.18945 \n",
       "        9        10        11        12        13        14        15        16 \n",
       " 91.17642  91.32023  68.77800 158.16256 162.69408 128.80392  63.02111  64.85648 \n",
       "       17        18        19        20        21        22        24        25 \n",
       " 82.08855 136.85361  84.64256  58.47435 132.83177  82.33123  69.84812 115.65954 \n",
       "       26        27        28        29        30        31        32        33 \n",
       "100.18289  77.03371 124.61863 149.72699 128.03761 102.37446 159.51502  84.32815 \n",
       "       34        35        36        37        38        39        40        41 \n",
       " 64.67405  88.14599  57.89311 110.61147  62.47003  92.00138 102.25364 113.69395 \n",
       "       42        43        44        45        46        47        48        49 \n",
       "116.82523  66.51073  72.82609 104.75486  87.03090 137.15350  65.45974 120.84003 \n",
       "       50        51        52        53        54        55        56        57 \n",
       "104.78685 101.30571 123.89260 114.09652 193.93030  92.71043 132.67192  95.59025 \n",
       "       58        59        60        61        62        63        64        65 \n",
       " 86.88424 105.76606  84.98074  93.12601 117.44774 124.17431 255.77549 148.48516 \n",
       "       66        67        68        69        70        71        72        73 \n",
       " 82.87424 158.28431 104.24933 123.99918 110.44988  81.79415  97.72573 109.73937 \n",
       "       74        75        76        77        78        79        80        81 \n",
       "108.44646 110.67072 108.78888 114.39010  62.37674  93.79427  96.88759 222.17451 \n",
       "       82        83        84        85        86        87        88        89 \n",
       "133.16644  62.86105 115.47027 159.67611  82.50775  89.26257 106.26842  90.63612 \n",
       "       90        91        92        93        94        95        96        97 \n",
       " 86.75737  86.63726 175.37802 132.72520 158.96653 123.20813 144.39657 106.65638 \n",
       "       98        99       100       101       102       103       104       105 \n",
       " 82.67466 131.09261 162.97864  88.37077 150.59141  82.58873  89.16575 113.10112 \n",
       "      106       107 \n",
       " 77.58322 122.03232 "
      ]
     },
     "metadata": {},
     "output_type": "display_data"
    }
   ],
   "source": [
    "predict(fit) #valores preditos na amostra usada na estimação"
   ]
  },
  {
   "cell_type": "code",
   "execution_count": 35,
   "metadata": {
    "vscode": {
     "languageId": "r"
    }
   },
   "outputs": [
    {
     "name": "stdout",
     "output_type": "stream",
     "text": [
      "0.6132075 52.32574 4.500566 10.36792 3.524755 99.99774 \n"
     ]
    }
   ],
   "source": [
    "m1 <- mean(dados23$x1)\n",
    "m2 <- mean(dados23$x2)\n",
    "m4 <- mean(dados23$x4)\n",
    "m5 <- mean(dados23$x5)\n",
    "m6 <- mean(dados23$x6)\n",
    "m7 <- mean(dados23$x7)\n",
    "cat(m1, m2, m4, m5, m6, m7, \"\\n\")"
   ]
  },
  {
   "cell_type": "code",
   "execution_count": 38,
   "metadata": {
    "vscode": {
     "languageId": "r"
    }
   },
   "outputs": [
    {
     "data": {
      "text/html": [
       "<strong>1:</strong> 110.319802700389"
      ],
      "text/latex": [
       "\\textbf{1:} 110.319802700389"
      ],
      "text/markdown": [
       "**1:** 110.319802700389"
      ],
      "text/plain": [
       "       1 \n",
       "110.3198 "
      ]
     },
     "metadata": {},
     "output_type": "display_data"
    }
   ],
   "source": [
    "# Predicao com novos dados\n",
    "novos_dados <- data.frame(cbind(\n",
    "  x1=0.6132075, x2=52.32574, x4=4.500566, x5=10.36792, \n",
    "  x6=3.524755, x7=99.99774)\n",
    ")\n",
    "predict(fit, newdata=novos_dados) # com novos valores (fora da amostra)"
   ]
  },
  {
   "cell_type": "markdown",
   "metadata": {},
   "source": [
    "No código acima fiz predições de y baseado nas médias das covariadas. Retornando 110.31"
   ]
  },
  {
   "cell_type": "markdown",
   "metadata": {},
   "source": [
    "#### 8. O modelo final"
   ]
  },
  {
   "cell_type": "markdown",
   "metadata": {},
   "source": [
    "$y = \\beta_1+\\beta_2.x1+\\beta_3.x2+\\beta_4.x4+\\beta_5.x5+\\beta_6.x6+\\beta_7.x7$"
   ]
  },
  {
   "cell_type": "markdown",
   "metadata": {},
   "source": [
    "Porém a função ster(.) pode nos sugerir um modelo melhor"
   ]
  },
  {
   "cell_type": "code",
   "execution_count": 40,
   "metadata": {
    "vscode": {
     "languageId": "r"
    }
   },
   "outputs": [
    {
     "name": "stdout",
     "output_type": "stream",
     "text": [
      "Start:  AIC=490.29\n",
      "y ~ x1 + x2 + x4 + x5 + x6 + x7\n",
      "\n",
      "       Df Sum of Sq    RSS    AIC\n",
      "- x7    1         8   9487 488.38\n",
      "- x5    1        23   9501 488.54\n",
      "- x2    1        94   9572 489.34\n",
      "<none>                9478 490.29\n",
      "- x4    1      2207  11685 510.48\n",
      "- x1    1      9051  18529 559.35\n",
      "- x6    1    105354 114832 752.71\n",
      "\n",
      "Step:  AIC=488.38\n",
      "y ~ x1 + x2 + x4 + x5 + x6\n",
      "\n",
      "       Df Sum of Sq    RSS    AIC\n",
      "- x5    1        19   9505 486.59\n",
      "- x2    1        91   9578 487.40\n",
      "<none>                9487 488.38\n",
      "- x4    1      2200  11686 508.49\n",
      "- x1    1      9055  18542 557.42\n",
      "- x6    1    110189 119675 755.08\n",
      "\n",
      "Step:  AIC=486.59\n",
      "y ~ x1 + x2 + x4 + x6\n",
      "\n",
      "       Df Sum of Sq    RSS    AIC\n",
      "- x2    1        85   9590 485.53\n",
      "<none>                9505 486.59\n",
      "- x4    1      2181  11686 506.49\n",
      "- x1    1      9144  18649 556.03\n",
      "- x6    1    112659 122165 755.27\n",
      "\n",
      "Step:  AIC=485.53\n",
      "y ~ x1 + x4 + x6\n",
      "\n",
      "       Df Sum of Sq    RSS    AIC\n",
      "<none>                9590 485.53\n",
      "- x4    1      2104  11694 504.56\n",
      "- x1    1      9277  18867 555.26\n",
      "- x6    1    112749 122339 753.42\n"
     ]
    },
    {
     "data": {
      "text/plain": [
       "\n",
       "Call:\n",
       "lm(formula = y ~ x1 + x4 + x6, data = dados23)\n",
       "\n",
       "Coefficients:\n",
       "(Intercept)           x1           x4           x6  \n",
       "      50.87        19.32         2.53        10.27  \n"
      ]
     },
     "metadata": {},
     "output_type": "display_data"
    }
   ],
   "source": [
    "step(fit) # seleciona modelo baseado no AIC e stepwise\n",
    "# neste caso o modelo eh ok e o step nao excluiu covariaveis"
   ]
  },
  {
   "cell_type": "markdown",
   "metadata": {
    "vscode": {
     "languageId": "r"
    }
   },
   "source": [
    "A função step(.) tirou o x2, x5 e x7. Vou fazer um ajuste rápido pra ver se o R ajustado melhora"
   ]
  },
  {
   "cell_type": "code",
   "execution_count": 41,
   "metadata": {
    "vscode": {
     "languageId": "r"
    }
   },
   "outputs": [],
   "source": [
    "#ajustando o modelo sem x2, x3, x5 e x7\n",
    "fit <- lm(y~x1+x4+x6,data=dados23)"
   ]
  },
  {
   "cell_type": "code",
   "execution_count": 42,
   "metadata": {
    "vscode": {
     "languageId": "r"
    }
   },
   "outputs": [
    {
     "data": {
      "text/plain": [
       "\n",
       "Call:\n",
       "lm(formula = y ~ x1 + x4 + x6, data = dados23)\n",
       "\n",
       "Residuals:\n",
       "     Min       1Q   Median       3Q      Max \n",
       "-22.0738  -5.3173  -0.2432   7.0307  23.2082 \n",
       "\n",
       "Coefficients:\n",
       "            Estimate Std. Error t value Pr(>|t|)    \n",
       "(Intercept)  50.8737     2.9033  17.523  < 2e-16 ***\n",
       "x1           19.3200     1.9449   9.934  < 2e-16 ***\n",
       "x4            2.5298     0.5348   4.730 7.22e-06 ***\n",
       "x6           10.2740     0.2967  34.630  < 2e-16 ***\n",
       "---\n",
       "Signif. codes:  0 '***' 0.001 '**' 0.01 '*' 0.05 '.' 0.1 ' ' 1\n",
       "\n",
       "Residual standard error: 9.696 on 102 degrees of freedom\n",
       "Multiple R-squared:  0.9286,\tAdjusted R-squared:  0.9265 \n",
       "F-statistic: 442.4 on 3 and 102 DF,  p-value: < 2.2e-16\n"
      ]
     },
     "metadata": {},
     "output_type": "display_data"
    }
   ],
   "source": [
    "summary(fit)"
   ]
  },
  {
   "cell_type": "markdown",
   "metadata": {
    "vscode": {
     "languageId": "r"
    }
   },
   "source": [
    "nenhuma mudança significativa no R ajustado, porém podemos ter a conclusão de que os $\\beta$ associados à x2, x3, x5 e x7 são zeros."
   ]
  },
  {
   "cell_type": "markdown",
   "metadata": {},
   "source": [
    "Logo o modelo final é:\n",
    "\n",
    "$y = \\beta_1+\\beta_2.x1+\\beta_3.x4+\\beta_4.x6$"
   ]
  }
 ],
 "metadata": {
  "kernelspec": {
   "display_name": "R",
   "language": "R",
   "name": "ir"
  },
  "language_info": {
   "codemirror_mode": "r",
   "file_extension": ".r",
   "mimetype": "text/x-r-source",
   "name": "R",
   "pygments_lexer": "r",
   "version": "4.3.3"
  }
 },
 "nbformat": 4,
 "nbformat_minor": 2
}
