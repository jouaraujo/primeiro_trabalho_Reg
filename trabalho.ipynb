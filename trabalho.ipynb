{
 "cells": [
  {
   "cell_type": "markdown",
   "metadata": {},
   "source": [
    "## Trabalho 1 de Regressão"
   ]
  },
  {
   "cell_type": "markdown",
   "metadata": {},
   "source": [
    "#### 1. Carregando pacotes"
   ]
  },
  {
   "cell_type": "code",
   "execution_count": null,
   "metadata": {
    "vscode": {
     "languageId": "r"
    }
   },
   "outputs": [],
   "source": [
    "library(hnp) # pacote para envelope simulado\n",
    "library(lmtest) # teste reset\n",
    "library(car) # para teste de multicolinearidade (fatores de inflacao de variancia)\n",
    "library(tseries) # teste de Jarque-Bera"
   ]
  },
  {
   "cell_type": "markdown",
   "metadata": {},
   "source": [
    "#### 2. Importando dados"
   ]
  },
  {
   "cell_type": "code",
   "execution_count": 14,
   "metadata": {
    "vscode": {
     "languageId": "r"
    }
   },
   "outputs": [
    {
     "data": {
      "text/html": [
       "<table class=\"dataframe\">\n",
       "<caption>A data.frame: 6 × 8</caption>\n",
       "<thead>\n",
       "\t<tr><th></th><th scope=col>y</th><th scope=col>x1</th><th scope=col>x2</th><th scope=col>x3</th><th scope=col>x4</th><th scope=col>x5</th><th scope=col>x6</th><th scope=col>x7</th></tr>\n",
       "\t<tr><th></th><th scope=col>&lt;dbl&gt;</th><th scope=col>&lt;int&gt;</th><th scope=col>&lt;dbl&gt;</th><th scope=col>&lt;dbl&gt;</th><th scope=col>&lt;dbl&gt;</th><th scope=col>&lt;int&gt;</th><th scope=col>&lt;dbl&gt;</th><th scope=col>&lt;dbl&gt;</th></tr>\n",
       "</thead>\n",
       "<tbody>\n",
       "\t<tr><th scope=row>1</th><td>110.038</td><td>1</td><td>57.361</td><td>0.434</td><td>4.317</td><td>12</td><td>1.715</td><td>104.320</td></tr>\n",
       "\t<tr><th scope=row>2</th><td> 86.445</td><td>1</td><td>52.070</td><td>0.437</td><td>4.052</td><td>13</td><td>2.221</td><td> 94.936</td></tr>\n",
       "\t<tr><th scope=row>3</th><td>152.419</td><td>1</td><td>61.397</td><td>0.727</td><td>7.854</td><td> 8</td><td>7.148</td><td> 87.870</td></tr>\n",
       "\t<tr><th scope=row>4</th><td>114.720</td><td>1</td><td>42.482</td><td>0.244</td><td>2.297</td><td> 9</td><td>2.272</td><td>103.660</td></tr>\n",
       "\t<tr><th scope=row>5</th><td>111.444</td><td>1</td><td>29.660</td><td>0.449</td><td>4.509</td><td> 6</td><td>2.444</td><td>101.167</td></tr>\n",
       "\t<tr><th scope=row>6</th><td>147.882</td><td>1</td><td>58.217</td><td>0.363</td><td>4.506</td><td>13</td><td>6.971</td><td> 86.432</td></tr>\n",
       "</tbody>\n",
       "</table>\n"
      ],
      "text/latex": [
       "A data.frame: 6 × 8\n",
       "\\begin{tabular}{r|llllllll}\n",
       "  & y & x1 & x2 & x3 & x4 & x5 & x6 & x7\\\\\n",
       "  & <dbl> & <int> & <dbl> & <dbl> & <dbl> & <int> & <dbl> & <dbl>\\\\\n",
       "\\hline\n",
       "\t1 & 110.038 & 1 & 57.361 & 0.434 & 4.317 & 12 & 1.715 & 104.320\\\\\n",
       "\t2 &  86.445 & 1 & 52.070 & 0.437 & 4.052 & 13 & 2.221 &  94.936\\\\\n",
       "\t3 & 152.419 & 1 & 61.397 & 0.727 & 7.854 &  8 & 7.148 &  87.870\\\\\n",
       "\t4 & 114.720 & 1 & 42.482 & 0.244 & 2.297 &  9 & 2.272 & 103.660\\\\\n",
       "\t5 & 111.444 & 1 & 29.660 & 0.449 & 4.509 &  6 & 2.444 & 101.167\\\\\n",
       "\t6 & 147.882 & 1 & 58.217 & 0.363 & 4.506 & 13 & 6.971 &  86.432\\\\\n",
       "\\end{tabular}\n"
      ],
      "text/markdown": [
       "\n",
       "A data.frame: 6 × 8\n",
       "\n",
       "| <!--/--> | y &lt;dbl&gt; | x1 &lt;int&gt; | x2 &lt;dbl&gt; | x3 &lt;dbl&gt; | x4 &lt;dbl&gt; | x5 &lt;int&gt; | x6 &lt;dbl&gt; | x7 &lt;dbl&gt; |\n",
       "|---|---|---|---|---|---|---|---|---|\n",
       "| 1 | 110.038 | 1 | 57.361 | 0.434 | 4.317 | 12 | 1.715 | 104.320 |\n",
       "| 2 |  86.445 | 1 | 52.070 | 0.437 | 4.052 | 13 | 2.221 |  94.936 |\n",
       "| 3 | 152.419 | 1 | 61.397 | 0.727 | 7.854 |  8 | 7.148 |  87.870 |\n",
       "| 4 | 114.720 | 1 | 42.482 | 0.244 | 2.297 |  9 | 2.272 | 103.660 |\n",
       "| 5 | 111.444 | 1 | 29.660 | 0.449 | 4.509 |  6 | 2.444 | 101.167 |\n",
       "| 6 | 147.882 | 1 | 58.217 | 0.363 | 4.506 | 13 | 6.971 |  86.432 |\n",
       "\n"
      ],
      "text/plain": [
       "  y       x1 x2     x3    x4    x5 x6    x7     \n",
       "1 110.038 1  57.361 0.434 4.317 12 1.715 104.320\n",
       "2  86.445 1  52.070 0.437 4.052 13 2.221  94.936\n",
       "3 152.419 1  61.397 0.727 7.854  8 7.148  87.870\n",
       "4 114.720 1  42.482 0.244 2.297  9 2.272 103.660\n",
       "5 111.444 1  29.660 0.449 4.509  6 2.444 101.167\n",
       "6 147.882 1  58.217 0.363 4.506 13 6.971  86.432"
      ]
     },
     "metadata": {},
     "output_type": "display_data"
    }
   ],
   "source": [
    "dados <- read.table(\"dados/dados-trabalho1.txt\",h=T)\n",
    "head(dados)"
   ]
  },
  {
   "cell_type": "markdown",
   "metadata": {},
   "source": [
    "y = variável resposta/variável dependente/endógena \n",
    "\n",
    "x1, x2, x3, x4, x5, x6 e x7 = covariáveis/variáveis independentes/exógenas"
   ]
  },
  {
   "cell_type": "markdown",
   "metadata": {},
   "source": [
    "#### 3. Análise descritiva"
   ]
  },
  {
   "cell_type": "code",
   "execution_count": 15,
   "metadata": {
    "vscode": {
     "languageId": "r"
    }
   },
   "outputs": [
    {
     "data": {
      "text/plain": [
       "       y                x1               x2               x3        \n",
       " Min.   : 43.90   Min.   :0.0000   Min.   : 24.32   Min.   :0.0860  \n",
       " 1st Qu.: 85.96   1st Qu.:0.0000   1st Qu.: 44.51   1st Qu.:0.3090  \n",
       " Median :105.88   Median :1.0000   Median : 55.05   Median :0.4270  \n",
       " Mean   :111.00   Mean   :0.6168   Mean   : 52.80   Mean   :0.4466  \n",
       " 3rd Qu.:127.98   3rd Qu.:1.0000   3rd Qu.: 59.79   3rd Qu.:0.5615  \n",
       " Max.   :259.91   Max.   :1.0000   Max.   :102.59   Max.   :0.9240  \n",
       "       x4              x5              x6               x7        \n",
       " Min.   :0.822   Min.   : 3.00   Min.   : 0.000   Min.   : 74.92  \n",
       " 1st Qu.:3.163   1st Qu.: 8.00   1st Qu.: 0.840   1st Qu.: 93.78  \n",
       " Median :4.422   Median :11.00   Median : 2.490   Median :100.89  \n",
       " Mean   :4.517   Mean   :10.47   Mean   : 3.613   Mean   :100.44  \n",
       " 3rd Qu.:5.495   3rd Qu.:13.00   3rd Qu.: 5.415   3rd Qu.:106.93  \n",
       " Max.   :9.068   Max.   :21.00   Max.   :18.767   Max.   :146.85  "
      ]
     },
     "metadata": {},
     "output_type": "display_data"
    }
   ],
   "source": [
    "summary(dados)"
   ]
  },
  {
   "cell_type": "code",
   "execution_count": 17,
   "metadata": {
    "vscode": {
     "languageId": "r"
    }
   },
   "outputs": [
    {
     "data": {
      "text/html": [
       "<table class=\"dataframe\">\n",
       "<caption>A matrix: 8 × 8 of type dbl</caption>\n",
       "<thead>\n",
       "\t<tr><th></th><th scope=col>y</th><th scope=col>x1</th><th scope=col>x2</th><th scope=col>x3</th><th scope=col>x4</th><th scope=col>x5</th><th scope=col>x6</th><th scope=col>x7</th></tr>\n",
       "</thead>\n",
       "<tbody>\n",
       "\t<tr><th scope=row>y</th><td> 1.00000000</td><td> 0.23490266</td><td> 0.05849505</td><td> 0.20454929</td><td> 0.22926803</td><td> 0.17610611</td><td> 0.91622003</td><td>-0.04402367</td></tr>\n",
       "\t<tr><th scope=row>x1</th><td> 0.23490266</td><td> 1.00000000</td><td>-0.01147521</td><td> 0.09072338</td><td> 0.09408009</td><td> 0.06330647</td><td>-0.03130120</td><td> 0.11475532</td></tr>\n",
       "\t<tr><th scope=row>x2</th><td> 0.05849505</td><td>-0.01147521</td><td> 1.00000000</td><td> 0.17953373</td><td> 0.16006808</td><td> 0.17923504</td><td> 0.10810729</td><td> 0.13952750</td></tr>\n",
       "\t<tr><th scope=row>x3</th><td> 0.20454929</td><td> 0.09072338</td><td> 0.17953373</td><td> 1.00000000</td><td> 0.95864032</td><td>-0.00811143</td><td> 0.07302343</td><td> 0.12269842</td></tr>\n",
       "\t<tr><th scope=row>x4</th><td> 0.22926803</td><td> 0.09408009</td><td> 0.16006808</td><td> 0.95864032</td><td> 1.00000000</td><td>-0.02744731</td><td> 0.09554190</td><td> 0.05386186</td></tr>\n",
       "\t<tr><th scope=row>x5</th><td> 0.17610611</td><td> 0.06330647</td><td> 0.17923504</td><td>-0.00811143</td><td>-0.02744731</td><td> 1.00000000</td><td> 0.19293278</td><td> 0.24558583</td></tr>\n",
       "\t<tr><th scope=row>x6</th><td> 0.91622003</td><td>-0.03130120</td><td> 0.10810729</td><td> 0.07302343</td><td> 0.09554190</td><td> 0.19293278</td><td> 1.00000000</td><td>-0.03669080</td></tr>\n",
       "\t<tr><th scope=row>x7</th><td>-0.04402367</td><td> 0.11475532</td><td> 0.13952750</td><td> 0.12269842</td><td> 0.05386186</td><td> 0.24558583</td><td>-0.03669080</td><td> 1.00000000</td></tr>\n",
       "</tbody>\n",
       "</table>\n"
      ],
      "text/latex": [
       "A matrix: 8 × 8 of type dbl\n",
       "\\begin{tabular}{r|llllllll}\n",
       "  & y & x1 & x2 & x3 & x4 & x5 & x6 & x7\\\\\n",
       "\\hline\n",
       "\ty &  1.00000000 &  0.23490266 &  0.05849505 &  0.20454929 &  0.22926803 &  0.17610611 &  0.91622003 & -0.04402367\\\\\n",
       "\tx1 &  0.23490266 &  1.00000000 & -0.01147521 &  0.09072338 &  0.09408009 &  0.06330647 & -0.03130120 &  0.11475532\\\\\n",
       "\tx2 &  0.05849505 & -0.01147521 &  1.00000000 &  0.17953373 &  0.16006808 &  0.17923504 &  0.10810729 &  0.13952750\\\\\n",
       "\tx3 &  0.20454929 &  0.09072338 &  0.17953373 &  1.00000000 &  0.95864032 & -0.00811143 &  0.07302343 &  0.12269842\\\\\n",
       "\tx4 &  0.22926803 &  0.09408009 &  0.16006808 &  0.95864032 &  1.00000000 & -0.02744731 &  0.09554190 &  0.05386186\\\\\n",
       "\tx5 &  0.17610611 &  0.06330647 &  0.17923504 & -0.00811143 & -0.02744731 &  1.00000000 &  0.19293278 &  0.24558583\\\\\n",
       "\tx6 &  0.91622003 & -0.03130120 &  0.10810729 &  0.07302343 &  0.09554190 &  0.19293278 &  1.00000000 & -0.03669080\\\\\n",
       "\tx7 & -0.04402367 &  0.11475532 &  0.13952750 &  0.12269842 &  0.05386186 &  0.24558583 & -0.03669080 &  1.00000000\\\\\n",
       "\\end{tabular}\n"
      ],
      "text/markdown": [
       "\n",
       "A matrix: 8 × 8 of type dbl\n",
       "\n",
       "| <!--/--> | y | x1 | x2 | x3 | x4 | x5 | x6 | x7 |\n",
       "|---|---|---|---|---|---|---|---|---|\n",
       "| y |  1.00000000 |  0.23490266 |  0.05849505 |  0.20454929 |  0.22926803 |  0.17610611 |  0.91622003 | -0.04402367 |\n",
       "| x1 |  0.23490266 |  1.00000000 | -0.01147521 |  0.09072338 |  0.09408009 |  0.06330647 | -0.03130120 |  0.11475532 |\n",
       "| x2 |  0.05849505 | -0.01147521 |  1.00000000 |  0.17953373 |  0.16006808 |  0.17923504 |  0.10810729 |  0.13952750 |\n",
       "| x3 |  0.20454929 |  0.09072338 |  0.17953373 |  1.00000000 |  0.95864032 | -0.00811143 |  0.07302343 |  0.12269842 |\n",
       "| x4 |  0.22926803 |  0.09408009 |  0.16006808 |  0.95864032 |  1.00000000 | -0.02744731 |  0.09554190 |  0.05386186 |\n",
       "| x5 |  0.17610611 |  0.06330647 |  0.17923504 | -0.00811143 | -0.02744731 |  1.00000000 |  0.19293278 |  0.24558583 |\n",
       "| x6 |  0.91622003 | -0.03130120 |  0.10810729 |  0.07302343 |  0.09554190 |  0.19293278 |  1.00000000 | -0.03669080 |\n",
       "| x7 | -0.04402367 |  0.11475532 |  0.13952750 |  0.12269842 |  0.05386186 |  0.24558583 | -0.03669080 |  1.00000000 |\n",
       "\n"
      ],
      "text/plain": [
       "   y           x1          x2          x3          x4          x5         \n",
       "y   1.00000000  0.23490266  0.05849505  0.20454929  0.22926803  0.17610611\n",
       "x1  0.23490266  1.00000000 -0.01147521  0.09072338  0.09408009  0.06330647\n",
       "x2  0.05849505 -0.01147521  1.00000000  0.17953373  0.16006808  0.17923504\n",
       "x3  0.20454929  0.09072338  0.17953373  1.00000000  0.95864032 -0.00811143\n",
       "x4  0.22926803  0.09408009  0.16006808  0.95864032  1.00000000 -0.02744731\n",
       "x5  0.17610611  0.06330647  0.17923504 -0.00811143 -0.02744731  1.00000000\n",
       "x6  0.91622003 -0.03130120  0.10810729  0.07302343  0.09554190  0.19293278\n",
       "x7 -0.04402367  0.11475532  0.13952750  0.12269842  0.05386186  0.24558583\n",
       "   x6          x7         \n",
       "y   0.91622003 -0.04402367\n",
       "x1 -0.03130120  0.11475532\n",
       "x2  0.10810729  0.13952750\n",
       "x3  0.07302343  0.12269842\n",
       "x4  0.09554190  0.05386186\n",
       "x5  0.19293278  0.24558583\n",
       "x6  1.00000000 -0.03669080\n",
       "x7 -0.03669080  1.00000000"
      ]
     },
     "metadata": {},
     "output_type": "display_data"
    }
   ],
   "source": [
    "cor(dados)"
   ]
  },
  {
   "cell_type": "markdown",
   "metadata": {},
   "source": [
    "Podemos observar que há uma correlação muito forte entre x4 e x3 (0.95864032), possivelmente uma multicolineariedade, algo que devemos evitar."
   ]
  },
  {
   "cell_type": "code",
   "execution_count": 18,
   "metadata": {
    "vscode": {
     "languageId": "r"
    }
   },
   "outputs": [
    {
     "data": {
      "image/png": "[encoded data removed]",
      "text/plain": [
       "plot without title"
      ]
     },
     "metadata": {
      "image/png": {
       "height": 420,
       "width": 420
      }
     },
     "output_type": "display_data"
    }
   ],
   "source": [
    "plot(dados)"
   ]
  },
  {
   "cell_type": "markdown",
   "metadata": {},
   "source": [
    "Y está bem correlacionado com a covariável x6, observando o gráfico vemos essa maior influência."
   ]
  },
  {
   "cell_type": "markdown",
   "metadata": {},
   "source": [
    "#### 4. Ajustando o modelo"
   ]
  },
  {
   "cell_type": "code",
   "execution_count": 19,
   "metadata": {
    "vscode": {
     "languageId": "r"
    }
   },
   "outputs": [],
   "source": [
    "# modelando y em função das covariáveis\n",
    "fit <- lm(y~x1+x2+x3+x4+x5+x6+x7,data=dados)"
   ]
  },
  {
   "cell_type": "code",
   "execution_count": 21,
   "metadata": {
    "vscode": {
     "languageId": "r"
    }
   },
   "outputs": [
    {
     "data": {
      "text/plain": [
       "\n",
       "Call:\n",
       "lm(formula = y ~ x1 + x2 + x3 + x4 + x5 + x6 + x7, data = dados)\n",
       "\n",
       "Residuals:\n",
       "    Min      1Q  Median      3Q     Max \n",
       "-21.076  -6.026  -0.214   7.436  21.794 \n",
       "\n",
       "Coefficients:\n",
       "            Estimate Std. Error t value Pr(>|t|)    \n",
       "(Intercept) 74.46224   10.18764   7.309 7.02e-11 ***\n",
       "x1          18.99352    2.03183   9.348 2.89e-15 ***\n",
       "x2          -0.15909    0.08117  -1.960   0.0528 .  \n",
       "x3          16.22563   20.72954   0.783   0.4357    \n",
       "x4           1.12853    1.99299   0.566   0.5725    \n",
       "x5           0.06316    0.28217   0.224   0.8233    \n",
       "x6          10.02365    0.30531  32.831  < 2e-16 ***\n",
       "x7          -0.15932    0.10050  -1.585   0.1161    \n",
       "---\n",
       "Signif. codes:  0 '***' 0.001 '**' 0.01 '*' 0.05 '.' 0.1 ' ' 1\n",
       "\n",
       "Residual standard error: 10.08 on 99 degrees of freedom\n",
       "Multiple R-squared:  0.928,\tAdjusted R-squared:  0.9229 \n",
       "F-statistic: 182.3 on 7 and 99 DF,  p-value: < 2.2e-16\n"
      ]
     },
     "metadata": {},
     "output_type": "display_data"
    }
   ],
   "source": [
    "summary(fit)"
   ]
  },
  {
   "cell_type": "markdown",
   "metadata": {
    "vscode": {
     "languageId": "r"
    }
   },
   "source": [
    "$R^2$ do modelo foi 0.928. Ou seja, o modelo explica 92,8% da variabilidade de y;\n",
    "\n",
    "$\\overline{R^2}$, o critério de seleção, foi 0.9229;\n",
    "\n",
    "Pelo teste F se rejeitou HO, ou seja, pelo menos um beta é diferente de zero e por isso existe relação de regressão;\n",
    "\n",
    "O teste T, observando os p-valores, apenas o intercepto, x1 e x6 possuem betas diferentes de zero. Assumo então que x1 e x6 são variáveis importantes e precisam ficar no modelo.\n",
    "\n",
    "**IMPORTANTE : Antes de acreditar nesses testes se faz necessário análise de diagnóstico.**"
   ]
  },
  {
   "cell_type": "markdown",
   "metadata": {},
   "source": [
    "#### 5. Testando as suposições do modelo\n",
    "\n",
    "    [S0] O modelo estah corretamente especificado\n",
    "    [S1] A media dos erros eh zero\n",
    "    [s2] Homoscedasticidade dos erros\n",
    "    [S3] Nao autocorrelacao \n",
    "    [S4] Ausencia de Multicolinearidade\n",
    "    [S5] Normalidade dos erros\n",
    "\n",
    "Obs.: Para testes de hipoteses, se p-value < alpha (5%) \n",
    "entao rejeita a hipotese nula (H0)"
   ]
  },
  {
   "cell_type": "code",
   "execution_count": 22,
   "metadata": {
    "vscode": {
     "languageId": "r"
    }
   },
   "outputs": [
    {
     "data": {
      "text/plain": [
       "\n",
       "\tRESET test\n",
       "\n",
       "data:  fit\n",
       "RESET = 0.22665, df1 = 2, df2 = 97, p-value = 0.7976\n"
      ]
     },
     "metadata": {},
     "output_type": "display_data"
    }
   ],
   "source": [
    "\n",
    "#Testa [S0]\n",
    "#Teste RESET de especificacao\n",
    "#H0: O modelo estah corretamente especificado\n",
    "resettest(fit)"
   ]
  },
  {
   "cell_type": "markdown",
   "metadata": {},
   "source": [
    "p-valor > alpha(5%) \n",
    "\n",
    "Não se rejeita H0 de que o modelo está correto"
   ]
  },
  {
   "cell_type": "code",
   "execution_count": 23,
   "metadata": {
    "vscode": {
     "languageId": "r"
    }
   },
   "outputs": [
    {
     "data": {
      "text/plain": [
       "\n",
       "\tOne Sample t-test\n",
       "\n",
       "data:  resid(fit)\n",
       "t = 0, df = 106, p-value = 1\n",
       "alternative hypothesis: true mean is not equal to 0\n",
       "95 percent confidence interval:\n",
       " -1.866551  1.866551\n",
       "sample estimates:\n",
       "mean of x \n",
       "        0 \n"
      ]
     },
     "metadata": {},
     "output_type": "display_data"
    }
   ],
   "source": [
    "#Testa [S1]\n",
    "#Teste t para a média dos errros\n",
    "#H0: média dos erros eh igual a zero\n",
    "t.test(resid(fit),mu=0,alternative=\"two.sided\")"
   ]
  },
  {
   "cell_type": "markdown",
   "metadata": {
    "vscode": {
     "languageId": "r"
    }
   },
   "source": [
    "p-valor > alpha(5%%)\n",
    "\n",
    "Não se rejeita H0 de que a média dos erros é 0"
   ]
  },
  {
   "cell_type": "code",
   "execution_count": 24,
   "metadata": {
    "vscode": {
     "languageId": "r"
    }
   },
   "outputs": [
    {
     "data": {
      "text/plain": [
       "\n",
       "\tstudentized Breusch-Pagan test\n",
       "\n",
       "data:  fit\n",
       "BP = 13.037, df = 7, p-value = 0.07121\n"
      ]
     },
     "metadata": {},
     "output_type": "display_data"
    }
   ],
   "source": [
    "#Testa [s2]\n",
    "#Teste de Bressch-Pagan (Koenker) de Heteroscedasticidade\n",
    "#H0: erros sao homoscedasticos\n",
    "bptest(fit, studentize = TRUE)"
   ]
  },
  {
   "cell_type": "markdown",
   "metadata": {},
   "source": [
    "p-valor > alpha(5%)\n",
    "\n",
    "Não se rejeita H0 de que a variância dos erros são homoscedásticos"
   ]
  },
  {
   "cell_type": "code",
   "execution_count": 26,
   "metadata": {
    "vscode": {
     "languageId": "r"
    }
   },
   "outputs": [
    {
     "data": {
      "text/plain": [
       "\n",
       "\tDurbin-Watson test\n",
       "\n",
       "data:  fit\n",
       "DW = 2.1676, p-value = 0.8131\n",
       "alternative hypothesis: true autocorrelation is greater than 0\n"
      ]
     },
     "metadata": {},
     "output_type": "display_data"
    }
   ],
   "source": [
    "#Testa [S3]\n",
    "#Teste de Durbin-Watson de autocorrelacao\n",
    "#H0: : Nao hah autocorrelacao \n",
    "dwtest(fit)"
   ]
  },
  {
   "cell_type": "markdown",
   "metadata": {},
   "source": [
    "p-valor > alpha(5%) \n",
    "\n",
    "Não se rejeita H0, não há covariância dos erros"
   ]
  },
  {
   "cell_type": "code",
   "execution_count": 27,
   "metadata": {
    "vscode": {
     "languageId": "r"
    }
   },
   "outputs": [
    {
     "data": {
      "text/html": [
       "<style>\n",
       ".dl-inline {width: auto; margin:0; padding: 0}\n",
       ".dl-inline>dt, .dl-inline>dd {float: none; width: auto; display: inline-block}\n",
       ".dl-inline>dt::after {content: \":\\0020\"; padding-right: .5ex}\n",
       ".dl-inline>dt:not(:first-of-type) {padding-left: .5ex}\n",
       "</style><dl class=dl-inline><dt>x1</dt><dd>1.02813890802704</dd><dt>x2</dt><dd>1.08419978029064</dd><dt>x3</dt><dd>13.282073599184</dd><dt>x4</dt><dd>13.1520591629059</dd><dt>x5</dt><dd>1.14365799556233</dd><dt>x6</dt><dd>1.07093804417062</dd><dt>x7</dt><dd>1.16090023474009</dd></dl>\n"
      ],
      "text/latex": [
       "\\begin{description*}\n",
       "\\item[x1] 1.02813890802704\n",
       "\\item[x2] 1.08419978029064\n",
       "\\item[x3] 13.282073599184\n",
       "\\item[x4] 13.1520591629059\n",
       "\\item[x5] 1.14365799556233\n",
       "\\item[x6] 1.07093804417062\n",
       "\\item[x7] 1.16090023474009\n",
       "\\end{description*}\n"
      ],
      "text/markdown": [
       "x1\n",
       ":   1.02813890802704x2\n",
       ":   1.08419978029064x3\n",
       ":   13.282073599184x4\n",
       ":   13.1520591629059x5\n",
       ":   1.14365799556233x6\n",
       ":   1.07093804417062x7\n",
       ":   1.16090023474009\n",
       "\n"
      ],
      "text/plain": [
       "       x1        x2        x3        x4        x5        x6        x7 \n",
       " 1.028139  1.084200 13.282074 13.152059  1.143658  1.070938  1.160900 "
      ]
     },
     "metadata": {},
     "output_type": "display_data"
    }
   ],
   "source": [
    "#Teste [S4]\n",
    "#Usa Fatores de Inflacao de Variancia para detectar multicolinearidade\n",
    "#Regra de bolso: vif > 10 indica multicolinearidade. vif=1 seria o ideal.\n",
    "vif(fit)"
   ]
  },
  {
   "cell_type": "markdown",
   "metadata": {},
   "source": [
    "Através dos vifs podemos obsevar que x1, x2, x6 e x7 temos o ideal.\n",
    "\n",
    "Já em x3 e x4 vemos valores maiores que 10, um indicativo de multicolinearidade."
   ]
  }
 ],
 "metadata": {
  "kernelspec": {
   "display_name": "R",
   "language": "R",
   "name": "ir"
  },
  "language_info": {
   "codemirror_mode": "r",
   "file_extension": ".r",
   "mimetype": "text/x-r-source",
   "name": "R",
   "pygments_lexer": "r",
   "version": "4.3.3"
  }
 },
 "nbformat": 4,
 "nbformat_minor": 2
}
